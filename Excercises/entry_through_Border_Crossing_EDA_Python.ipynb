{
  "nbformat": 4,
  "nbformat_minor": 0,
  "metadata": {
    "colab": {
      "name": "entry through Border Crossing - EDA Python",
      "provenance": [],
      "collapsed_sections": []
    },
    "kernelspec": {
      "name": "python3",
      "display_name": "Python 3"
    }
  },
  "cells": [
    {
      "cell_type": "markdown",
      "metadata": {
        "id": "byNVWoamGpIv",
        "colab_type": "text"
      },
      "source": [
        "Border Crossing Entry Data"
      ]
    },
    {
      "cell_type": "markdown",
      "metadata": {
        "id": "J3zwSaTkU2bg",
        "colab_type": "text"
      },
      "source": [
        "Task 1: Border Crossing Entry Data\n",
        "Border Crossing Data provide summary statistics for inbound crossings at the U.S.-Canada and\n",
        "the U.S.-Mexico border at the port level. Data are available for trucks, trains, containers, buses,\n",
        "personal vehicles, passengers, and pedestrians. The data reflects the number of vehicles,\n",
        "containers, passengers or pedestrians entering the United States.\n",
        "This data was downloaded from the Bureau of Transportation Statistics (BTS) Border Crossing\n",
        "Data. The attributes are given below:\n",
        "Port Name - Port of Entry\n",
        "State - State\n",
        "Port code - Code of port of entry\n",
        "BorderUS - Canada Border or US-Mexico Border\n",
        "Date - Year, Month\n",
        "Measure - Conveyances,containers,passengers,pedestrians that cross the border\n",
        "Value - Incoming vehicle, container, passenger, and pedestrian Counts.\n",
        "Location - Longitude and Latitude location"
      ]
    },
    {
      "cell_type": "markdown",
      "metadata": {
        "id": "-_VsEgDwGvKT",
        "colab_type": "text"
      },
      "source": [
        "# SECTION A – Data Analytics with Python\n",
        "Objective\n",
        "Perform Exploratory Data analysis on the dataset to understand the following:\n",
        "1. Plot the number of trucks that cross the US-Mexico border on a Monthly basis.\n",
        "2. What is the percentage distribution for different types of vehicles that cross the borders.\n",
        "3. Which month has a hike in average number of vehicles that cross the border.\n",
        "4. Plot the frequency of buses and personal vehicles that cross the US-Canada border on a\n",
        "daily basis.\n",
        "5. Plot a state wise analysis of the vehicles that enter the US-Mexico border"
      ]
    },
    {
      "cell_type": "markdown",
      "metadata": {
        "id": "CxKJDk79tSmA",
        "colab_type": "text"
      },
      "source": [
        "**Task 1: Border Crossing Entry Data**"
      ]
    },
    {
      "cell_type": "code",
      "metadata": {
        "id": "ViZzRv1tp6la",
        "colab_type": "code",
        "colab": {}
      },
      "source": [
        "#uploading  data \n",
        "url = 'https://raw.githubusercontent.com/shivckr/border/master/Border_Crossing_Entry_Data.csv'"
      ],
      "execution_count": 0,
      "outputs": []
    },
    {
      "cell_type": "code",
      "metadata": {
        "id": "G6od5k_2tlPk",
        "colab_type": "code",
        "colab": {}
      },
      "source": [
        "# improt package\n",
        "import pandas as pd\n",
        "import numpy as np\n",
        "from matplotlib import pyplot as plt\n",
        "import seaborn as sns\n",
        "%matplotlib inline"
      ],
      "execution_count": 0,
      "outputs": []
    },
    {
      "cell_type": "code",
      "metadata": {
        "id": "ekcdmcaTt7S-",
        "colab_type": "code",
        "colab": {}
      },
      "source": [
        "#Create Dataframe\n",
        "entry_data = pd.read_csv(url)"
      ],
      "execution_count": 0,
      "outputs": []
    },
    {
      "cell_type": "code",
      "metadata": {
        "id": "ose7Pll8uFSK",
        "colab_type": "code",
        "outputId": "fa3c249f-1dba-4e94-d45b-e8261ee600c6",
        "colab": {
          "base_uri": "https://localhost:8080/",
          "height": 204
        }
      },
      "source": [
        "entry_data.head(5)"
      ],
      "execution_count": 0,
      "outputs": [
        {
          "output_type": "execute_result",
          "data": {
            "text/html": [
              "<div>\n",
              "<style scoped>\n",
              "    .dataframe tbody tr th:only-of-type {\n",
              "        vertical-align: middle;\n",
              "    }\n",
              "\n",
              "    .dataframe tbody tr th {\n",
              "        vertical-align: top;\n",
              "    }\n",
              "\n",
              "    .dataframe thead th {\n",
              "        text-align: right;\n",
              "    }\n",
              "</style>\n",
              "<table border=\"1\" class=\"dataframe\">\n",
              "  <thead>\n",
              "    <tr style=\"text-align: right;\">\n",
              "      <th></th>\n",
              "      <th>Port Name</th>\n",
              "      <th>State</th>\n",
              "      <th>Port Code</th>\n",
              "      <th>Border</th>\n",
              "      <th>Date</th>\n",
              "      <th>Measure</th>\n",
              "      <th>Value</th>\n",
              "      <th>Location</th>\n",
              "    </tr>\n",
              "  </thead>\n",
              "  <tbody>\n",
              "    <tr>\n",
              "      <th>0</th>\n",
              "      <td>Calexico East</td>\n",
              "      <td>California</td>\n",
              "      <td>2507</td>\n",
              "      <td>US-Mexico Border</td>\n",
              "      <td>03/01/2019 12:00:00 AM</td>\n",
              "      <td>Trucks</td>\n",
              "      <td>34447</td>\n",
              "      <td>POINT (-115.48433000000001 32.67524)</td>\n",
              "    </tr>\n",
              "    <tr>\n",
              "      <th>1</th>\n",
              "      <td>Van Buren</td>\n",
              "      <td>Maine</td>\n",
              "      <td>108</td>\n",
              "      <td>US-Canada Border</td>\n",
              "      <td>03/01/2019 12:00:00 AM</td>\n",
              "      <td>Rail Containers Full</td>\n",
              "      <td>428</td>\n",
              "      <td>POINT (-67.94271 47.16207)</td>\n",
              "    </tr>\n",
              "    <tr>\n",
              "      <th>2</th>\n",
              "      <td>Otay Mesa</td>\n",
              "      <td>California</td>\n",
              "      <td>2506</td>\n",
              "      <td>US-Mexico Border</td>\n",
              "      <td>03/01/2019 12:00:00 AM</td>\n",
              "      <td>Trucks</td>\n",
              "      <td>81217</td>\n",
              "      <td>POINT (-117.05333 32.57333)</td>\n",
              "    </tr>\n",
              "    <tr>\n",
              "      <th>3</th>\n",
              "      <td>Nogales</td>\n",
              "      <td>Arizona</td>\n",
              "      <td>2604</td>\n",
              "      <td>US-Mexico Border</td>\n",
              "      <td>03/01/2019 12:00:00 AM</td>\n",
              "      <td>Trains</td>\n",
              "      <td>62</td>\n",
              "      <td>POINT (-110.93361 31.340279999999996)</td>\n",
              "    </tr>\n",
              "    <tr>\n",
              "      <th>4</th>\n",
              "      <td>Trout River</td>\n",
              "      <td>New York</td>\n",
              "      <td>715</td>\n",
              "      <td>US-Canada Border</td>\n",
              "      <td>03/01/2019 12:00:00 AM</td>\n",
              "      <td>Personal Vehicle Passengers</td>\n",
              "      <td>16377</td>\n",
              "      <td>POINT (-73.44253 44.990010000000005)</td>\n",
              "    </tr>\n",
              "  </tbody>\n",
              "</table>\n",
              "</div>"
            ],
            "text/plain": [
              "       Port Name       State  ...  Value                               Location\n",
              "0  Calexico East  California  ...  34447   POINT (-115.48433000000001 32.67524)\n",
              "1      Van Buren       Maine  ...    428             POINT (-67.94271 47.16207)\n",
              "2      Otay Mesa  California  ...  81217            POINT (-117.05333 32.57333)\n",
              "3        Nogales     Arizona  ...     62  POINT (-110.93361 31.340279999999996)\n",
              "4    Trout River    New York  ...  16377   POINT (-73.44253 44.990010000000005)\n",
              "\n",
              "[5 rows x 8 columns]"
            ]
          },
          "metadata": {
            "tags": []
          },
          "execution_count": 5
        }
      ]
    },
    {
      "cell_type": "code",
      "metadata": {
        "id": "bHvQxlTcvPwk",
        "colab_type": "code",
        "colab": {}
      },
      "source": [
        "entry_data['Month'] = entry_data['Date'].str.split(\" \",n = 1, expand = True)"
      ],
      "execution_count": 0,
      "outputs": []
    },
    {
      "cell_type": "code",
      "metadata": {
        "id": "L0iPYNeows33",
        "colab_type": "code",
        "colab": {}
      },
      "source": [
        "entry_data['Month'] = entry_data['Month'].str.split(\"/\", n = 1, expand = True)"
      ],
      "execution_count": 0,
      "outputs": []
    },
    {
      "cell_type": "code",
      "metadata": {
        "id": "b2pW_2ZDynN8",
        "colab_type": "code",
        "colab": {}
      },
      "source": [
        "entry_trucks = entry_data[(entry_data['Measure'] == \"Trucks\")].groupby('Month').size().to_frame('Trucks').reset_index()"
      ],
      "execution_count": 0,
      "outputs": []
    },
    {
      "cell_type": "code",
      "metadata": {
        "id": "VNQoZaXSz7Uw",
        "colab_type": "code",
        "outputId": "c5dafb21-f491-4dac-fdde-bafa7da878cf",
        "colab": {
          "base_uri": "https://localhost:8080/",
          "height": 303
        }
      },
      "source": [
        "# 1. Plot the number of trucks that cross the US-Mexico border on a Monthly basis.\n",
        "entry_trucks.plot.bar( x= 'Month', y = 'Trucks')"
      ],
      "execution_count": 0,
      "outputs": [
        {
          "output_type": "execute_result",
          "data": {
            "text/plain": [
              "<matplotlib.axes._subplots.AxesSubplot at 0x7f8d0f206198>"
            ]
          },
          "metadata": {
            "tags": []
          },
          "execution_count": 39
        },
        {
          "output_type": "display_data",
          "data": {
            "image/png": "[encoded data removed]",
            "text/plain": [
              "<Figure size 432x288 with 1 Axes>"
            ]
          },
          "metadata": {
            "tags": []
          }
        }
      ]
    },
    {
      "cell_type": "code",
      "metadata": {
        "id": "TZiaMRZTvOzq",
        "colab_type": "code",
        "colab": {}
      },
      "source": [
        "type_of_vehicle = entry_data.groupby('Measure').size().to_frame(\"count\").reset_index()"
      ],
      "execution_count": 0,
      "outputs": []
    },
    {
      "cell_type": "code",
      "metadata": {
        "id": "yJzKXb6I4RIf",
        "colab_type": "code",
        "outputId": "0638c46f-f6c0-4aec-e9ed-df5d73e7999b",
        "colab": {
          "base_uri": "https://localhost:8080/",
          "height": 421
        }
      },
      "source": [
        "type_of_vehicle"
      ],
      "execution_count": 0,
      "outputs": [
        {
          "output_type": "execute_result",
          "data": {
            "text/html": [
              "<div>\n",
              "<style scoped>\n",
              "    .dataframe tbody tr th:only-of-type {\n",
              "        vertical-align: middle;\n",
              "    }\n",
              "\n",
              "    .dataframe tbody tr th {\n",
              "        vertical-align: top;\n",
              "    }\n",
              "\n",
              "    .dataframe thead th {\n",
              "        text-align: right;\n",
              "    }\n",
              "</style>\n",
              "<table border=\"1\" class=\"dataframe\">\n",
              "  <thead>\n",
              "    <tr style=\"text-align: right;\">\n",
              "      <th></th>\n",
              "      <th>Measure</th>\n",
              "      <th>count</th>\n",
              "    </tr>\n",
              "  </thead>\n",
              "  <tbody>\n",
              "    <tr>\n",
              "      <th>0</th>\n",
              "      <td>Bus Passengers</td>\n",
              "      <td>28820</td>\n",
              "    </tr>\n",
              "    <tr>\n",
              "      <th>1</th>\n",
              "      <td>Buses</td>\n",
              "      <td>28822</td>\n",
              "    </tr>\n",
              "    <tr>\n",
              "      <th>2</th>\n",
              "      <td>Pedestrians</td>\n",
              "      <td>28697</td>\n",
              "    </tr>\n",
              "    <tr>\n",
              "      <th>3</th>\n",
              "      <td>Personal Vehicle Passengers</td>\n",
              "      <td>30196</td>\n",
              "    </tr>\n",
              "    <tr>\n",
              "      <th>4</th>\n",
              "      <td>Personal Vehicles</td>\n",
              "      <td>30219</td>\n",
              "    </tr>\n",
              "    <tr>\n",
              "      <th>5</th>\n",
              "      <td>Rail Containers Empty</td>\n",
              "      <td>27684</td>\n",
              "    </tr>\n",
              "    <tr>\n",
              "      <th>6</th>\n",
              "      <td>Rail Containers Full</td>\n",
              "      <td>27657</td>\n",
              "    </tr>\n",
              "    <tr>\n",
              "      <th>7</th>\n",
              "      <td>Train Passengers</td>\n",
              "      <td>27623</td>\n",
              "    </tr>\n",
              "    <tr>\n",
              "      <th>8</th>\n",
              "      <td>Trains</td>\n",
              "      <td>27708</td>\n",
              "    </tr>\n",
              "    <tr>\n",
              "      <th>9</th>\n",
              "      <td>Truck Containers Empty</td>\n",
              "      <td>29757</td>\n",
              "    </tr>\n",
              "    <tr>\n",
              "      <th>10</th>\n",
              "      <td>Truck Containers Full</td>\n",
              "      <td>29694</td>\n",
              "    </tr>\n",
              "    <tr>\n",
              "      <th>11</th>\n",
              "      <td>Trucks</td>\n",
              "      <td>29856</td>\n",
              "    </tr>\n",
              "  </tbody>\n",
              "</table>\n",
              "</div>"
            ],
            "text/plain": [
              "                        Measure  count\n",
              "0                Bus Passengers  28820\n",
              "1                         Buses  28822\n",
              "2                   Pedestrians  28697\n",
              "3   Personal Vehicle Passengers  30196\n",
              "4             Personal Vehicles  30219\n",
              "5         Rail Containers Empty  27684\n",
              "6          Rail Containers Full  27657\n",
              "7              Train Passengers  27623\n",
              "8                        Trains  27708\n",
              "9        Truck Containers Empty  29757\n",
              "10        Truck Containers Full  29694\n",
              "11                       Trucks  29856"
            ]
          },
          "metadata": {
            "tags": []
          },
          "execution_count": 53
        }
      ]
    },
    {
      "cell_type": "code",
      "metadata": {
        "id": "HIM2BwcI21Db",
        "colab_type": "code",
        "colab": {}
      },
      "source": [
        "type_of_vehicle['percentage'] = (type_of_vehicle['count']/type_of_vehicle['count'].sum())*100\n",
        "\n"
      ],
      "execution_count": 0,
      "outputs": []
    },
    {
      "cell_type": "code",
      "metadata": {
        "id": "BXpBUPpx4y-r",
        "colab_type": "code",
        "outputId": "11c5c259-bfff-4329-c3e4-c8860353111b",
        "colab": {
          "base_uri": "https://localhost:8080/",
          "height": 421
        }
      },
      "source": [
        "#2. What is the percentage distribution for different types of vehicles that cross the borders.\n",
        "type_of_vehicle"
      ],
      "execution_count": 0,
      "outputs": [
        {
          "output_type": "execute_result",
          "data": {
            "text/html": [
              "<div>\n",
              "<style scoped>\n",
              "    .dataframe tbody tr th:only-of-type {\n",
              "        vertical-align: middle;\n",
              "    }\n",
              "\n",
              "    .dataframe tbody tr th {\n",
              "        vertical-align: top;\n",
              "    }\n",
              "\n",
              "    .dataframe thead th {\n",
              "        text-align: right;\n",
              "    }\n",
              "</style>\n",
              "<table border=\"1\" class=\"dataframe\">\n",
              "  <thead>\n",
              "    <tr style=\"text-align: right;\">\n",
              "      <th></th>\n",
              "      <th>Measure</th>\n",
              "      <th>count</th>\n",
              "      <th>percentage</th>\n",
              "    </tr>\n",
              "  </thead>\n",
              "  <tbody>\n",
              "    <tr>\n",
              "      <th>0</th>\n",
              "      <td>Bus Passengers</td>\n",
              "      <td>28820</td>\n",
              "      <td>8.311871</td>\n",
              "    </tr>\n",
              "    <tr>\n",
              "      <th>1</th>\n",
              "      <td>Buses</td>\n",
              "      <td>28822</td>\n",
              "      <td>8.312448</td>\n",
              "    </tr>\n",
              "    <tr>\n",
              "      <th>2</th>\n",
              "      <td>Pedestrians</td>\n",
              "      <td>28697</td>\n",
              "      <td>8.276397</td>\n",
              "    </tr>\n",
              "    <tr>\n",
              "      <th>3</th>\n",
              "      <td>Personal Vehicle Passengers</td>\n",
              "      <td>30196</td>\n",
              "      <td>8.708718</td>\n",
              "    </tr>\n",
              "    <tr>\n",
              "      <th>4</th>\n",
              "      <td>Personal Vehicles</td>\n",
              "      <td>30219</td>\n",
              "      <td>8.715352</td>\n",
              "    </tr>\n",
              "    <tr>\n",
              "      <th>5</th>\n",
              "      <td>Rail Containers Empty</td>\n",
              "      <td>27684</td>\n",
              "      <td>7.984241</td>\n",
              "    </tr>\n",
              "    <tr>\n",
              "      <th>6</th>\n",
              "      <td>Rail Containers Full</td>\n",
              "      <td>27657</td>\n",
              "      <td>7.976455</td>\n",
              "    </tr>\n",
              "    <tr>\n",
              "      <th>7</th>\n",
              "      <td>Train Passengers</td>\n",
              "      <td>27623</td>\n",
              "      <td>7.966649</td>\n",
              "    </tr>\n",
              "    <tr>\n",
              "      <th>8</th>\n",
              "      <td>Trains</td>\n",
              "      <td>27708</td>\n",
              "      <td>7.991163</td>\n",
              "    </tr>\n",
              "    <tr>\n",
              "      <th>9</th>\n",
              "      <td>Truck Containers Empty</td>\n",
              "      <td>29757</td>\n",
              "      <td>8.582108</td>\n",
              "    </tr>\n",
              "    <tr>\n",
              "      <th>10</th>\n",
              "      <td>Truck Containers Full</td>\n",
              "      <td>29694</td>\n",
              "      <td>8.563938</td>\n",
              "    </tr>\n",
              "    <tr>\n",
              "      <th>11</th>\n",
              "      <td>Trucks</td>\n",
              "      <td>29856</td>\n",
              "      <td>8.610660</td>\n",
              "    </tr>\n",
              "  </tbody>\n",
              "</table>\n",
              "</div>"
            ],
            "text/plain": [
              "                        Measure  count  percentage\n",
              "0                Bus Passengers  28820    8.311871\n",
              "1                         Buses  28822    8.312448\n",
              "2                   Pedestrians  28697    8.276397\n",
              "3   Personal Vehicle Passengers  30196    8.708718\n",
              "4             Personal Vehicles  30219    8.715352\n",
              "5         Rail Containers Empty  27684    7.984241\n",
              "6          Rail Containers Full  27657    7.976455\n",
              "7              Train Passengers  27623    7.966649\n",
              "8                        Trains  27708    7.991163\n",
              "9        Truck Containers Empty  29757    8.582108\n",
              "10        Truck Containers Full  29694    8.563938\n",
              "11                       Trucks  29856    8.610660"
            ]
          },
          "metadata": {
            "tags": []
          },
          "execution_count": 58
        }
      ]
    },
    {
      "cell_type": "code",
      "metadata": {
        "id": "afY48p-e6ZUo",
        "colab_type": "code",
        "outputId": "03619ddf-a581-4c50-a5b4-bcb7834a7926",
        "colab": {
          "base_uri": "https://localhost:8080/",
          "height": 300
        }
      },
      "source": [
        "\n",
        "sns.barplot(y=type_of_vehicle['Measure'], x = type_of_vehicle['percentage'] )"
      ],
      "execution_count": 0,
      "outputs": [
        {
          "output_type": "execute_result",
          "data": {
            "text/plain": [
              "<matplotlib.axes._subplots.AxesSubplot at 0x7f8d0f25e780>"
            ]
          },
          "metadata": {
            "tags": []
          },
          "execution_count": 62
        },
        {
          "output_type": "display_data",
          "data": {
            "image/png": "[encoded data removed]",
            "text/plain": [
              "<Figure size 432x288 with 1 Axes>"
            ]
          },
          "metadata": {
            "tags": []
          }
        }
      ]
    },
    {
      "cell_type": "code",
      "metadata": {
        "id": "AlXiy0Yp7b9K",
        "colab_type": "code",
        "outputId": "4cf3d212-7ca6-43ff-a661-c1433958d80b",
        "colab": {
          "base_uri": "https://localhost:8080/",
          "height": 300
        }
      },
      "source": [
        "#3. Which month has a hike in average number of vehicles that cross the border.\n",
        "sns.barplot(x = entry_data['Month'],  y = entry_data['Value'])"
      ],
      "execution_count": 0,
      "outputs": [
        {
          "output_type": "execute_result",
          "data": {
            "text/plain": [
              "<matplotlib.axes._subplots.AxesSubplot at 0x7f8d0f2aa550>"
            ]
          },
          "metadata": {
            "tags": []
          },
          "execution_count": 65
        },
        {
          "output_type": "display_data",
          "data": {
            "image/png": "[encoded data removed]",
            "text/plain": [
              "<Figure size 432x288 with 1 Axes>"
            ]
          },
          "metadata": {
            "tags": []
          }
        }
      ]
    },
    {
      "cell_type": "markdown",
      "metadata": {
        "id": "mZoSvUn_9l5N",
        "colab_type": "text"
      },
      "source": [
        "As per the barplot 'August' month has the highest crossover\n",
        "\n",
        "\n",
        "\n"
      ]
    },
    {
      "cell_type": "code",
      "metadata": {
        "id": "71aDoCcb9w1C",
        "colab_type": "code",
        "colab": {}
      },
      "source": [
        "# 4. Plot the frequency of buses and personal vehicles that cross the US-Canada border on a daily basis."
      ],
      "execution_count": 0,
      "outputs": []
    },
    {
      "cell_type": "code",
      "metadata": {
        "id": "4vSsswM3-BUX",
        "colab_type": "code",
        "outputId": "bc332872-2e71-4f05-cbab-400abd38755c",
        "colab": {
          "base_uri": "https://localhost:8080/",
          "height": 306
        }
      },
      "source": [
        "entry_data.head()"
      ],
      "execution_count": 0,
      "outputs": [
        {
          "output_type": "execute_result",
          "data": {
            "text/html": [
              "<div>\n",
              "<style scoped>\n",
              "    .dataframe tbody tr th:only-of-type {\n",
              "        vertical-align: middle;\n",
              "    }\n",
              "\n",
              "    .dataframe tbody tr th {\n",
              "        vertical-align: top;\n",
              "    }\n",
              "\n",
              "    .dataframe thead th {\n",
              "        text-align: right;\n",
              "    }\n",
              "</style>\n",
              "<table border=\"1\" class=\"dataframe\">\n",
              "  <thead>\n",
              "    <tr style=\"text-align: right;\">\n",
              "      <th></th>\n",
              "      <th>Port Name</th>\n",
              "      <th>State</th>\n",
              "      <th>Port Code</th>\n",
              "      <th>Border</th>\n",
              "      <th>Date</th>\n",
              "      <th>Measure</th>\n",
              "      <th>Value</th>\n",
              "      <th>Location</th>\n",
              "      <th>Month</th>\n",
              "    </tr>\n",
              "  </thead>\n",
              "  <tbody>\n",
              "    <tr>\n",
              "      <th>0</th>\n",
              "      <td>Calexico East</td>\n",
              "      <td>California</td>\n",
              "      <td>2507</td>\n",
              "      <td>US-Mexico Border</td>\n",
              "      <td>03/01/2019 12:00:00 AM</td>\n",
              "      <td>Trucks</td>\n",
              "      <td>34447</td>\n",
              "      <td>POINT (-115.48433000000001 32.67524)</td>\n",
              "      <td>03</td>\n",
              "    </tr>\n",
              "    <tr>\n",
              "      <th>1</th>\n",
              "      <td>Van Buren</td>\n",
              "      <td>Maine</td>\n",
              "      <td>108</td>\n",
              "      <td>US-Canada Border</td>\n",
              "      <td>03/01/2019 12:00:00 AM</td>\n",
              "      <td>Rail Containers Full</td>\n",
              "      <td>428</td>\n",
              "      <td>POINT (-67.94271 47.16207)</td>\n",
              "      <td>03</td>\n",
              "    </tr>\n",
              "    <tr>\n",
              "      <th>2</th>\n",
              "      <td>Otay Mesa</td>\n",
              "      <td>California</td>\n",
              "      <td>2506</td>\n",
              "      <td>US-Mexico Border</td>\n",
              "      <td>03/01/2019 12:00:00 AM</td>\n",
              "      <td>Trucks</td>\n",
              "      <td>81217</td>\n",
              "      <td>POINT (-117.05333 32.57333)</td>\n",
              "      <td>03</td>\n",
              "    </tr>\n",
              "    <tr>\n",
              "      <th>3</th>\n",
              "      <td>Nogales</td>\n",
              "      <td>Arizona</td>\n",
              "      <td>2604</td>\n",
              "      <td>US-Mexico Border</td>\n",
              "      <td>03/01/2019 12:00:00 AM</td>\n",
              "      <td>Trains</td>\n",
              "      <td>62</td>\n",
              "      <td>POINT (-110.93361 31.340279999999996)</td>\n",
              "      <td>03</td>\n",
              "    </tr>\n",
              "    <tr>\n",
              "      <th>4</th>\n",
              "      <td>Trout River</td>\n",
              "      <td>New York</td>\n",
              "      <td>715</td>\n",
              "      <td>US-Canada Border</td>\n",
              "      <td>03/01/2019 12:00:00 AM</td>\n",
              "      <td>Personal Vehicle Passengers</td>\n",
              "      <td>16377</td>\n",
              "      <td>POINT (-73.44253 44.990010000000005)</td>\n",
              "      <td>03</td>\n",
              "    </tr>\n",
              "  </tbody>\n",
              "</table>\n",
              "</div>"
            ],
            "text/plain": [
              "       Port Name       State  ...                               Location Month\n",
              "0  Calexico East  California  ...   POINT (-115.48433000000001 32.67524)    03\n",
              "1      Van Buren       Maine  ...             POINT (-67.94271 47.16207)    03\n",
              "2      Otay Mesa  California  ...            POINT (-117.05333 32.57333)    03\n",
              "3        Nogales     Arizona  ...  POINT (-110.93361 31.340279999999996)    03\n",
              "4    Trout River    New York  ...   POINT (-73.44253 44.990010000000005)    03\n",
              "\n",
              "[5 rows x 9 columns]"
            ]
          },
          "metadata": {
            "tags": []
          },
          "execution_count": 67
        }
      ]
    },
    {
      "cell_type": "code",
      "metadata": {
        "id": "DiOr0mKJ-R37",
        "colab_type": "code",
        "colab": {}
      },
      "source": [
        "entry_data['Day'] = entry_data['Date'].str.split(\" \",n = 1, expand = True)\n",
        "entry_data['Day'] = entry_data['Day'].str.split(\"/\", n = 1, expand = True)"
      ],
      "execution_count": 0,
      "outputs": []
    },
    {
      "cell_type": "code",
      "metadata": {
        "id": "KAwBBMOjAnoA",
        "colab_type": "code",
        "colab": {}
      },
      "source": [
        "#5. Plot a state wise analysis of the vehicles that enter the US-Mexico border"
      ],
      "execution_count": 0,
      "outputs": []
    },
    {
      "cell_type": "code",
      "metadata": {
        "id": "eJRf81J_AqmS",
        "colab_type": "code",
        "colab": {}
      },
      "source": [
        "US_states = entry_data['State'].unique()\n",
        "entry_data_US_Mexico_border =  entry_data[(entry_data['Border'] == \"US-Mexico Border\")].groupby('State').size().to_frame('Veh_count').reset_index()"
      ],
      "execution_count": 0,
      "outputs": []
    },
    {
      "cell_type": "code",
      "metadata": {
        "id": "IuisvkRkDKRM",
        "colab_type": "code",
        "outputId": "64559a58-d784-4f8a-ace4-fb0b65149957",
        "colab": {
          "base_uri": "https://localhost:8080/",
          "height": 301
        }
      },
      "source": [
        "sns.barplot(y= entry_data_US_Mexico_border['State'],x = entry_data_US_Mexico_border['Veh_count'])"
      ],
      "execution_count": 0,
      "outputs": [
        {
          "output_type": "execute_result",
          "data": {
            "text/plain": [
              "<matplotlib.axes._subplots.AxesSubplot at 0x7f8d0f2fa7f0>"
            ]
          },
          "metadata": {
            "tags": []
          },
          "execution_count": 93
        },
        {
          "output_type": "display_data",
          "data": {
            "image/png": "[encoded data removed]",
            "text/plain": [
              "<Figure size 432x288 with 1 Axes>"
            ]
          },
          "metadata": {
            "tags": []
          }
        }
      ]
    },
    {
      "cell_type": "markdown",
      "metadata": {
        "id": "Onhxk_J1F__U",
        "colab_type": "text"
      },
      "source": [
        "Texas state of  USA has max vehicles  enter through  US-Mexico border"
      ]
    },
    {
      "cell_type": "markdown",
      "metadata": {
        "id": "620BYPNsFsLX",
        "colab_type": "text"
      },
      "source": [
        "\n"
      ]
    }
  ]
}