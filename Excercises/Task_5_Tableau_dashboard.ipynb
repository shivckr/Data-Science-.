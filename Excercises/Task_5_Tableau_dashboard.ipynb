{
  "nbformat": 4,
  "nbformat_minor": 0,
  "metadata": {
    "colab": {
      "name": "Task 5:Tableau dashboard.ipynb",
      "provenance": [],
      "collapsed_sections": []
    },
    "kernelspec": {
      "name": "python3",
      "display_name": "Python 3"
    }
  },
  "cells": [
    {
      "cell_type": "markdown",
      "metadata": {
        "id": "P5XWtQ1FsMmY",
        "colab_type": "text"
      },
      "source": [
        "This notebook has interactive Tableau dashboard build on dataset data breaches 2018"
      ]
    },
    {
      "cell_type": "markdown",
      "metadata": {
        "id": "o-UJ04aYsLNk",
        "colab_type": "text"
      },
      "source": [
        "some of the question answered are :\n",
        "\n",
        "Questions:\n",
        "1. Which sector has the maximum number of records stolen(make use of LOD calculations to\n",
        "find avg no of records stolen)\n",
        "2. Which year has the maximum records lost and from which sector.\n",
        "3. Visualize the methods by which the maximum records leaked.\n",
        "4. By making use of filters on method of leak, find which entity records are lost in maximum\n",
        "numbers from all the methods of leak.\n",
        "5. By making use of tree map, find which sector has the maximum number of records stolen\n",
        "and which source name provides that information."
      ]
    },
    {
      "cell_type": "markdown",
      "metadata": {
        "id": "XobTZlWzWW7l",
        "colab_type": "text"
      },
      "source": [
        "Tableau public  Link: https://public.tableau.com/views/DataBreaches2018_dashboard/Q4entityrecordsarelost?:display_count=y&:origin=viz_share_link\n",
        "\n",
        "My Tableau public link: https://public.tableau.com/profile/shiv.kumar5718#!/\n",
        "\n"
      ]
    },
    {
      "cell_type": "code",
      "metadata": {
        "id": "cwE-u3nLtgQx",
        "colab_type": "code",
        "outputId": "587f3ca2-80ce-4e2c-b260-99ea40f03eb1",
        "colab": {
          "base_uri": "https://localhost:8080/",
          "height": 889
        }
      },
      "source": [
        "# Import Tableau Visualization \n",
        "%%HTML\n",
        "\n",
        "<div class='tableauPlaceholder' id='viz1573480000091' style='position: relative'><noscript><a href='#'><img alt=' ' src='https:&#47;&#47;public.tableau.com&#47;static&#47;images&#47;Da&#47;DataBreaches2018_dashboard&#47;Q3maximumrecordsleaked_&#47;1_rss.png' style='border: none' /></a></noscript><object class='tableauViz'  style='display:none;'><param name='host_url' value='https%3A%2F%2Fpublic.tableau.com%2F' /> <param name='embed_code_version' value='3' /> <param name='site_root' value='' /><param name='name' value='DataBreaches2018_dashboard&#47;Q3maximumrecordsleaked_' /><param name='tabs' value='yes' /><param name='toolbar' value='yes' /><param name='static_image' value='https:&#47;&#47;public.tableau.com&#47;static&#47;images&#47;Da&#47;DataBreaches2018_dashboard&#47;Q3maximumrecordsleaked_&#47;1.png' /> <param name='animate_transition' value='yes' /><param name='display_static_image' value='yes' /><param name='display_spinner' value='yes' /><param name='display_overlay' value='yes' /><param name='display_count' value='yes' /></object></div>                <script type='text/javascript'>                    var divElement = document.getElementById('viz1573480000091');                    var vizElement = divElement.getElementsByTagName('object')[0];                    vizElement.style.width='100%';vizElement.style.height=(divElement.offsetWidth*0.75)+'px';                    var scriptElement = document.createElement('script');                    scriptElement.src = 'https://public.tableau.com/javascripts/api/viz_v1.js';                    vizElement.parentNode.insertBefore(scriptElement, vizElement);                </script>\n"
      ],
      "execution_count": 0,
      "outputs": [
        {
          "output_type": "display_data",
          "data": {
            "text/html": [
              "\n",
              "<div class='tableauPlaceholder' id='viz1573480000091' style='position: relative'><noscript><a href='#'><img alt=' ' src='https:&#47;&#47;public.tableau.com&#47;static&#47;images&#47;Da&#47;DataBreaches2018_dashboard&#47;Q3maximumrecordsleaked_&#47;1_rss.png' style='border: none' /></a></noscript><object class='tableauViz'  style='display:none;'><param name='host_url' value='https%3A%2F%2Fpublic.tableau.com%2F' /> <param name='embed_code_version' value='3' /> <param name='site_root' value='' /><param name='name' value='DataBreaches2018_dashboard&#47;Q3maximumrecordsleaked_' /><param name='tabs' value='yes' /><param name='toolbar' value='yes' /><param name='static_image' value='https:&#47;&#47;public.tableau.com&#47;static&#47;images&#47;Da&#47;DataBreaches2018_dashboard&#47;Q3maximumrecordsleaked_&#47;1.png' /> <param name='animate_transition' value='yes' /><param name='display_static_image' value='yes' /><param name='display_spinner' value='yes' /><param name='display_overlay' value='yes' /><param name='display_count' value='yes' /></object></div>                <script type='text/javascript'>                    var divElement = document.getElementById('viz1573480000091');                    var vizElement = divElement.getElementsByTagName('object')[0];                    vizElement.style.width='100%';vizElement.style.height=(divElement.offsetWidth*0.75)+'px';                    var scriptElement = document.createElement('script');                    scriptElement.src = 'https://public.tableau.com/javascripts/api/viz_v1.js';                    vizElement.parentNode.insertBefore(scriptElement, vizElement);                </script>"
            ],
            "text/plain": [
              "<IPython.core.display.HTML object>"
            ]
          },
          "metadata": {
            "tags": []
          }
        }
      ]
    }
  ]
}