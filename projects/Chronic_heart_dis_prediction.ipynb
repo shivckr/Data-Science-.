{
  "nbformat": 4,
  "nbformat_minor": 0,
  "metadata": {
    "kernelspec": {
      "display_name": "Python 3",
      "language": "python",
      "name": "python3"
    },
    "language_info": {
      "codemirror_mode": {
        "name": "ipython",
        "version": 3
      },
      "file_extension": ".py",
      "mimetype": "text/x-python",
      "name": "python",
      "nbconvert_exporter": "python",
      "pygments_lexer": "ipython3",
      "version": "3.6.5"
    },
    "colab": {
      "name": "Chronic heart dis prediction.ipynb",
      "provenance": [],
      "collapsed_sections": [
        "YC2uXjI3_zBn",
        "Xvs3MX4y_zB6"
      ]
    }
  },
  "cells": [
    {
      "cell_type": "markdown",
      "metadata": {
        "id": "Jukpmfac_uuu",
        "colab_type": "text"
      },
      "source": [
        "<a href=\"https://colab.research.google.com/drive/1-o5k6S2BLadMziKIVeWc2BBihL_CKNzL#scrollTo=Jukpmfac_uuu\">\n",
        "  <img src=\"https://colab.research.google.com/assets/colab-badge.svg\" alt=\"Open In Colab\"/>\n",
        "</a>"
      ]
    },
    {
      "cell_type": "markdown",
      "metadata": {
        "id": "YtCuc1or_y_n",
        "colab_type": "text"
      },
      "source": [
        "\n",
        "# Framingham Heart Study\n",
        "Regression Analysis to predict 10-year risk of heart disease\n",
        "\n",
        "\n",
        "\n"
      ]
    },
    {
      "cell_type": "code",
      "metadata": {
        "id": "oQGrn73h_y_p",
        "colab_type": "code",
        "colab": {}
      },
      "source": [
        "import os\n",
        "os.getcwd(/home/shiv/upx/bootcamp/Healthcare/framingham.csv)\n",
        "print (\"Current working dir : %s\" % os.getcwd())"
      ],
      "execution_count": 0,
      "outputs": []
    },
    {
      "cell_type": "code",
      "metadata": {
        "id": "00p5Eggp_y_v",
        "colab_type": "code",
        "colab": {}
      },
      "source": [
        "your_local_path = os.getcwd()"
      ],
      "execution_count": 0,
      "outputs": []
    },
    {
      "cell_type": "markdown",
      "metadata": {
        "id": "JCinMmdi_y_z",
        "colab_type": "text"
      },
      "source": [
        "### Import all scientific and visualization packages"
      ]
    },
    {
      "cell_type": "code",
      "metadata": {
        "id": "fmAF4I02_y_0",
        "colab_type": "code",
        "colab": {}
      },
      "source": [
        "import pandas as pd\n",
        "import numpy as np\n",
        "from sklearn.model_selection import train_test_split\n",
        "from sklearn.linear_model import LogisticRegression\n",
        "from sklearn import metrics\n",
        "from sklearn.metrics import roc_curve, auc\n",
        "\n",
        "## visualization packages\n",
        "\n",
        "from matplotlib import pyplot as plt\n",
        "import seaborn as sns\n",
        "%matplotlib inline\n"
      ],
      "execution_count": 0,
      "outputs": []
    },
    {
      "cell_type": "markdown",
      "metadata": {
        "id": "sIh6q83H_y_3",
        "colab_type": "text"
      },
      "source": [
        "### Load dataset"
      ]
    },
    {
      "cell_type": "code",
      "metadata": {
        "id": "RbONPi2Z_y_5",
        "colab_type": "code",
        "colab": {}
      },
      "source": [
        "url=\"https://raw.githubusercontent.com/shivckr/Insurance_claim/master/framingham.csv\"\n",
        "framingham = pd.read_csv(url)"
      ],
      "execution_count": 0,
      "outputs": []
    },
    {
      "cell_type": "code",
      "metadata": {
        "id": "4OyXniuj_y_8",
        "colab_type": "code",
        "outputId": "9d7ed766-7701-471c-ea4b-4dfda3e58a92",
        "colab": {
          "base_uri": "https://localhost:8080/",
          "height": 224
        }
      },
      "source": [
        "# print the first 5 rows of data\n",
        "framingham.head()"
      ],
      "execution_count": 0,
      "outputs": [
        {
          "output_type": "execute_result",
          "data": {
            "text/html": [
              "<div>\n",
              "<style scoped>\n",
              "    .dataframe tbody tr th:only-of-type {\n",
              "        vertical-align: middle;\n",
              "    }\n",
              "\n",
              "    .dataframe tbody tr th {\n",
              "        vertical-align: top;\n",
              "    }\n",
              "\n",
              "    .dataframe thead th {\n",
              "        text-align: right;\n",
              "    }\n",
              "</style>\n",
              "<table border=\"1\" class=\"dataframe\">\n",
              "  <thead>\n",
              "    <tr style=\"text-align: right;\">\n",
              "      <th></th>\n",
              "      <th>male</th>\n",
              "      <th>age</th>\n",
              "      <th>education</th>\n",
              "      <th>currentSmoker</th>\n",
              "      <th>cigsPerDay</th>\n",
              "      <th>BPMeds</th>\n",
              "      <th>prevalentStroke</th>\n",
              "      <th>prevalentHyp</th>\n",
              "      <th>diabetes</th>\n",
              "      <th>totChol</th>\n",
              "      <th>sysBP</th>\n",
              "      <th>diaBP</th>\n",
              "      <th>BMI</th>\n",
              "      <th>heartRate</th>\n",
              "      <th>glucose</th>\n",
              "      <th>TenYearCHD</th>\n",
              "    </tr>\n",
              "  </thead>\n",
              "  <tbody>\n",
              "    <tr>\n",
              "      <th>0</th>\n",
              "      <td>1</td>\n",
              "      <td>39</td>\n",
              "      <td>4.0</td>\n",
              "      <td>0</td>\n",
              "      <td>0.0</td>\n",
              "      <td>0.0</td>\n",
              "      <td>0</td>\n",
              "      <td>0</td>\n",
              "      <td>0</td>\n",
              "      <td>195.0</td>\n",
              "      <td>106.0</td>\n",
              "      <td>70.0</td>\n",
              "      <td>26.97</td>\n",
              "      <td>80.0</td>\n",
              "      <td>77.0</td>\n",
              "      <td>0</td>\n",
              "    </tr>\n",
              "    <tr>\n",
              "      <th>1</th>\n",
              "      <td>0</td>\n",
              "      <td>46</td>\n",
              "      <td>2.0</td>\n",
              "      <td>0</td>\n",
              "      <td>0.0</td>\n",
              "      <td>0.0</td>\n",
              "      <td>0</td>\n",
              "      <td>0</td>\n",
              "      <td>0</td>\n",
              "      <td>250.0</td>\n",
              "      <td>121.0</td>\n",
              "      <td>81.0</td>\n",
              "      <td>28.73</td>\n",
              "      <td>95.0</td>\n",
              "      <td>76.0</td>\n",
              "      <td>0</td>\n",
              "    </tr>\n",
              "    <tr>\n",
              "      <th>2</th>\n",
              "      <td>1</td>\n",
              "      <td>48</td>\n",
              "      <td>1.0</td>\n",
              "      <td>1</td>\n",
              "      <td>20.0</td>\n",
              "      <td>0.0</td>\n",
              "      <td>0</td>\n",
              "      <td>0</td>\n",
              "      <td>0</td>\n",
              "      <td>245.0</td>\n",
              "      <td>127.5</td>\n",
              "      <td>80.0</td>\n",
              "      <td>25.34</td>\n",
              "      <td>75.0</td>\n",
              "      <td>70.0</td>\n",
              "      <td>0</td>\n",
              "    </tr>\n",
              "    <tr>\n",
              "      <th>3</th>\n",
              "      <td>0</td>\n",
              "      <td>61</td>\n",
              "      <td>3.0</td>\n",
              "      <td>1</td>\n",
              "      <td>30.0</td>\n",
              "      <td>0.0</td>\n",
              "      <td>0</td>\n",
              "      <td>1</td>\n",
              "      <td>0</td>\n",
              "      <td>225.0</td>\n",
              "      <td>150.0</td>\n",
              "      <td>95.0</td>\n",
              "      <td>28.58</td>\n",
              "      <td>65.0</td>\n",
              "      <td>103.0</td>\n",
              "      <td>1</td>\n",
              "    </tr>\n",
              "    <tr>\n",
              "      <th>4</th>\n",
              "      <td>0</td>\n",
              "      <td>46</td>\n",
              "      <td>3.0</td>\n",
              "      <td>1</td>\n",
              "      <td>23.0</td>\n",
              "      <td>0.0</td>\n",
              "      <td>0</td>\n",
              "      <td>0</td>\n",
              "      <td>0</td>\n",
              "      <td>285.0</td>\n",
              "      <td>130.0</td>\n",
              "      <td>84.0</td>\n",
              "      <td>23.10</td>\n",
              "      <td>85.0</td>\n",
              "      <td>85.0</td>\n",
              "      <td>0</td>\n",
              "    </tr>\n",
              "  </tbody>\n",
              "</table>\n",
              "</div>"
            ],
            "text/plain": [
              "   male  age  education  currentSmoker  ...    BMI  heartRate  glucose  TenYearCHD\n",
              "0     1   39        4.0              0  ...  26.97       80.0     77.0           0\n",
              "1     0   46        2.0              0  ...  28.73       95.0     76.0           0\n",
              "2     1   48        1.0              1  ...  25.34       75.0     70.0           0\n",
              "3     0   61        3.0              1  ...  28.58       65.0    103.0           1\n",
              "4     0   46        3.0              1  ...  23.10       85.0     85.0           0\n",
              "\n",
              "[5 rows x 16 columns]"
            ]
          },
          "metadata": {
            "tags": []
          },
          "execution_count": 16
        }
      ]
    },
    {
      "cell_type": "markdown",
      "metadata": {
        "id": "Xo7l5Ew0_y__",
        "colab_type": "text"
      },
      "source": [
        "### Understand datatypes present in dataframe"
      ]
    },
    {
      "cell_type": "code",
      "metadata": {
        "id": "RGn76_Uc_zAB",
        "colab_type": "code",
        "outputId": "69e9c198-282e-4cdc-f901-8d87cd8cd908",
        "colab": {}
      },
      "source": [
        "framingham.info()"
      ],
      "execution_count": 0,
      "outputs": [
        {
          "output_type": "stream",
          "text": [
            "<class 'pandas.core.frame.DataFrame'>\n",
            "RangeIndex: 4240 entries, 0 to 4239\n",
            "Data columns (total 16 columns):\n",
            "male               4240 non-null int64\n",
            "age                4240 non-null int64\n",
            "education          4135 non-null float64\n",
            "currentSmoker      4240 non-null int64\n",
            "cigsPerDay         4211 non-null float64\n",
            "BPMeds             4187 non-null float64\n",
            "prevalentStroke    4240 non-null int64\n",
            "prevalentHyp       4240 non-null int64\n",
            "diabetes           4240 non-null int64\n",
            "totChol            4190 non-null float64\n",
            "sysBP              4240 non-null float64\n",
            "diaBP              4240 non-null float64\n",
            "BMI                4221 non-null float64\n",
            "heartRate          4239 non-null float64\n",
            "glucose            3852 non-null float64\n",
            "TenYearCHD         4240 non-null int64\n",
            "dtypes: float64(9), int64(7)\n",
            "memory usage: 530.1 KB\n"
          ],
          "name": "stdout"
        }
      ]
    },
    {
      "cell_type": "markdown",
      "metadata": {
        "id": "qUee5mu2_zAE",
        "colab_type": "text"
      },
      "source": [
        "### Data cleaning"
      ]
    },
    {
      "cell_type": "markdown",
      "metadata": {
        "id": "vxUKwxts_zAF",
        "colab_type": "text"
      },
      "source": [
        "#### Count the number of missing values in the dataframe"
      ]
    },
    {
      "cell_type": "code",
      "metadata": {
        "id": "CFUEcARU_zAG",
        "colab_type": "code",
        "outputId": "4690ec60-f1ef-4621-9ad4-760424463c8a",
        "colab": {}
      },
      "source": [
        "# count the number of NaN values in each column\n",
        "print(framingham.isnull().sum())"
      ],
      "execution_count": 0,
      "outputs": [
        {
          "output_type": "stream",
          "text": [
            "male                 0\n",
            "age                  0\n",
            "education          105\n",
            "currentSmoker        0\n",
            "cigsPerDay          29\n",
            "BPMeds              53\n",
            "prevalentStroke      0\n",
            "prevalentHyp         0\n",
            "diabetes             0\n",
            "totChol             50\n",
            "sysBP                0\n",
            "diaBP                0\n",
            "BMI                 19\n",
            "heartRate            1\n",
            "glucose            388\n",
            "TenYearCHD           0\n",
            "dtype: int64\n"
          ],
          "name": "stdout"
        }
      ]
    },
    {
      "cell_type": "markdown",
      "metadata": {
        "id": "--BumCY0_zAK",
        "colab_type": "text"
      },
      "source": [
        "#### Remove columns that are 90% empty"
      ]
    },
    {
      "cell_type": "code",
      "metadata": {
        "id": "nE-eilPR_zAL",
        "colab_type": "code",
        "colab": {}
      },
      "source": [
        "## remove columns that are 90% empty\n",
        "\n",
        "\n",
        "thresh = len(framingham) * .1\n",
        "framingham.dropna(thresh = thresh, axis = 1, inplace = True)"
      ],
      "execution_count": 0,
      "outputs": []
    },
    {
      "cell_type": "markdown",
      "metadata": {
        "id": "fVOCfIIa_zAP",
        "colab_type": "text"
      },
      "source": [
        "Here axis refers to a direction along which aggregation will take place in the matrix, axis=0 refers to row wise aggregation whereas axis=1 refers to column wise aggregation\n",
        "When inplace=True is passed, the data is renamed in place .i.e in the same cell itselfrefers to"
      ]
    },
    {
      "cell_type": "markdown",
      "metadata": {
        "id": "zkf16nc9_zAQ",
        "colab_type": "text"
      },
      "source": [
        "### Data Imputation\n",
        "\n",
        "Fill the null value cells using appropriate values of the particular column using aggregation functions such as mean, median or mode. "
      ]
    },
    {
      "cell_type": "code",
      "metadata": {
        "id": "QrDSsTXu_zAS",
        "colab_type": "code",
        "colab": {}
      },
      "source": [
        "## Define a function impute_median\n",
        "def impute_median(series):\n",
        "    return series.fillna(series.median())\n",
        "\n",
        "framingham.glucose=framingham['glucose'].transform(impute_median)\n",
        "framingham.education=framingham['education'].transform(impute_median)\n",
        "framingham.heartRate=framingham['heartRate'].transform(impute_median)\n",
        "framingham.totChol=framingham['totChol'].transform(impute_median)\n",
        "framingham.BPMeds=framingham['BPMeds'].transform(impute_median)"
      ],
      "execution_count": 0,
      "outputs": []
    },
    {
      "cell_type": "code",
      "metadata": {
        "id": "9KWDSWOP_zAV",
        "colab_type": "code",
        "colab": {}
      },
      "source": [
        "## group by classes that are in relation with other classes\n",
        "by_currentSmoker_class=framingham.groupby(['currentSmoker'])\n",
        "framingham.cigsPerDay=by_currentSmoker_class['cigsPerDay'].transform(impute_median)\n",
        "by_age_class=framingham.groupby(['male','diabetes'])\n",
        "framingham.BMI=by_age_class['BMI'].transform(impute_median)"
      ],
      "execution_count": 0,
      "outputs": []
    },
    {
      "cell_type": "markdown",
      "metadata": {
        "id": "AmpIJ3r-_zAZ",
        "colab_type": "text"
      },
      "source": [
        "### Understand data statistics"
      ]
    },
    {
      "cell_type": "code",
      "metadata": {
        "id": "0x2Jq1UI_zAa",
        "colab_type": "code",
        "outputId": "e55c0461-9c4b-4b81-a6fc-aa91ac17c513",
        "colab": {}
      },
      "source": [
        "framingham.describe()"
      ],
      "execution_count": 0,
      "outputs": [
        {
          "output_type": "execute_result",
          "data": {
            "text/html": [
              "<div>\n",
              "<style scoped>\n",
              "    .dataframe tbody tr th:only-of-type {\n",
              "        vertical-align: middle;\n",
              "    }\n",
              "\n",
              "    .dataframe tbody tr th {\n",
              "        vertical-align: top;\n",
              "    }\n",
              "\n",
              "    .dataframe thead th {\n",
              "        text-align: right;\n",
              "    }\n",
              "</style>\n",
              "<table border=\"1\" class=\"dataframe\">\n",
              "  <thead>\n",
              "    <tr style=\"text-align: right;\">\n",
              "      <th></th>\n",
              "      <th>male</th>\n",
              "      <th>age</th>\n",
              "      <th>education</th>\n",
              "      <th>currentSmoker</th>\n",
              "      <th>cigsPerDay</th>\n",
              "      <th>BPMeds</th>\n",
              "      <th>prevalentStroke</th>\n",
              "      <th>prevalentHyp</th>\n",
              "      <th>diabetes</th>\n",
              "      <th>totChol</th>\n",
              "      <th>sysBP</th>\n",
              "      <th>diaBP</th>\n",
              "      <th>BMI</th>\n",
              "      <th>heartRate</th>\n",
              "      <th>glucose</th>\n",
              "      <th>TenYearCHD</th>\n",
              "    </tr>\n",
              "  </thead>\n",
              "  <tbody>\n",
              "    <tr>\n",
              "      <th>count</th>\n",
              "      <td>4240.000000</td>\n",
              "      <td>4240.000000</td>\n",
              "      <td>4240.000000</td>\n",
              "      <td>4240.000000</td>\n",
              "      <td>4240.000000</td>\n",
              "      <td>4240.000000</td>\n",
              "      <td>4240.000000</td>\n",
              "      <td>4240.000000</td>\n",
              "      <td>4240.000000</td>\n",
              "      <td>4240.000000</td>\n",
              "      <td>4240.000000</td>\n",
              "      <td>4240.000000</td>\n",
              "      <td>4240.000000</td>\n",
              "      <td>4240.000000</td>\n",
              "      <td>4240.000000</td>\n",
              "      <td>4240.000000</td>\n",
              "    </tr>\n",
              "    <tr>\n",
              "      <th>mean</th>\n",
              "      <td>0.429245</td>\n",
              "      <td>49.580189</td>\n",
              "      <td>1.979953</td>\n",
              "      <td>0.494104</td>\n",
              "      <td>9.081132</td>\n",
              "      <td>0.029245</td>\n",
              "      <td>0.005896</td>\n",
              "      <td>0.310613</td>\n",
              "      <td>0.025708</td>\n",
              "      <td>236.667689</td>\n",
              "      <td>132.354599</td>\n",
              "      <td>82.897759</td>\n",
              "      <td>25.798605</td>\n",
              "      <td>75.878774</td>\n",
              "      <td>81.600943</td>\n",
              "      <td>0.151887</td>\n",
              "    </tr>\n",
              "    <tr>\n",
              "      <th>std</th>\n",
              "      <td>0.495027</td>\n",
              "      <td>8.572942</td>\n",
              "      <td>1.007087</td>\n",
              "      <td>0.500024</td>\n",
              "      <td>11.916119</td>\n",
              "      <td>0.168513</td>\n",
              "      <td>0.076569</td>\n",
              "      <td>0.462799</td>\n",
              "      <td>0.158280</td>\n",
              "      <td>44.328480</td>\n",
              "      <td>22.033300</td>\n",
              "      <td>11.910394</td>\n",
              "      <td>4.071386</td>\n",
              "      <td>12.023937</td>\n",
              "      <td>22.860340</td>\n",
              "      <td>0.358953</td>\n",
              "    </tr>\n",
              "    <tr>\n",
              "      <th>min</th>\n",
              "      <td>0.000000</td>\n",
              "      <td>32.000000</td>\n",
              "      <td>1.000000</td>\n",
              "      <td>0.000000</td>\n",
              "      <td>0.000000</td>\n",
              "      <td>0.000000</td>\n",
              "      <td>0.000000</td>\n",
              "      <td>0.000000</td>\n",
              "      <td>0.000000</td>\n",
              "      <td>107.000000</td>\n",
              "      <td>83.500000</td>\n",
              "      <td>48.000000</td>\n",
              "      <td>15.540000</td>\n",
              "      <td>44.000000</td>\n",
              "      <td>40.000000</td>\n",
              "      <td>0.000000</td>\n",
              "    </tr>\n",
              "    <tr>\n",
              "      <th>25%</th>\n",
              "      <td>0.000000</td>\n",
              "      <td>42.000000</td>\n",
              "      <td>1.000000</td>\n",
              "      <td>0.000000</td>\n",
              "      <td>0.000000</td>\n",
              "      <td>0.000000</td>\n",
              "      <td>0.000000</td>\n",
              "      <td>0.000000</td>\n",
              "      <td>0.000000</td>\n",
              "      <td>206.000000</td>\n",
              "      <td>117.000000</td>\n",
              "      <td>75.000000</td>\n",
              "      <td>23.077500</td>\n",
              "      <td>68.000000</td>\n",
              "      <td>72.000000</td>\n",
              "      <td>0.000000</td>\n",
              "    </tr>\n",
              "    <tr>\n",
              "      <th>50%</th>\n",
              "      <td>0.000000</td>\n",
              "      <td>49.000000</td>\n",
              "      <td>2.000000</td>\n",
              "      <td>0.000000</td>\n",
              "      <td>0.000000</td>\n",
              "      <td>0.000000</td>\n",
              "      <td>0.000000</td>\n",
              "      <td>0.000000</td>\n",
              "      <td>0.000000</td>\n",
              "      <td>234.000000</td>\n",
              "      <td>128.000000</td>\n",
              "      <td>82.000000</td>\n",
              "      <td>25.380000</td>\n",
              "      <td>75.000000</td>\n",
              "      <td>78.000000</td>\n",
              "      <td>0.000000</td>\n",
              "    </tr>\n",
              "    <tr>\n",
              "      <th>75%</th>\n",
              "      <td>1.000000</td>\n",
              "      <td>56.000000</td>\n",
              "      <td>3.000000</td>\n",
              "      <td>1.000000</td>\n",
              "      <td>20.000000</td>\n",
              "      <td>0.000000</td>\n",
              "      <td>0.000000</td>\n",
              "      <td>1.000000</td>\n",
              "      <td>0.000000</td>\n",
              "      <td>262.000000</td>\n",
              "      <td>144.000000</td>\n",
              "      <td>90.000000</td>\n",
              "      <td>28.040000</td>\n",
              "      <td>83.000000</td>\n",
              "      <td>85.000000</td>\n",
              "      <td>0.000000</td>\n",
              "    </tr>\n",
              "    <tr>\n",
              "      <th>max</th>\n",
              "      <td>1.000000</td>\n",
              "      <td>70.000000</td>\n",
              "      <td>4.000000</td>\n",
              "      <td>1.000000</td>\n",
              "      <td>70.000000</td>\n",
              "      <td>1.000000</td>\n",
              "      <td>1.000000</td>\n",
              "      <td>1.000000</td>\n",
              "      <td>1.000000</td>\n",
              "      <td>696.000000</td>\n",
              "      <td>295.000000</td>\n",
              "      <td>142.500000</td>\n",
              "      <td>56.800000</td>\n",
              "      <td>143.000000</td>\n",
              "      <td>394.000000</td>\n",
              "      <td>1.000000</td>\n",
              "    </tr>\n",
              "  </tbody>\n",
              "</table>\n",
              "</div>"
            ],
            "text/plain": [
              "              male          age    education  currentSmoker   cigsPerDay  \\\n",
              "count  4240.000000  4240.000000  4240.000000    4240.000000  4240.000000   \n",
              "mean      0.429245    49.580189     1.979953       0.494104     9.081132   \n",
              "std       0.495027     8.572942     1.007087       0.500024    11.916119   \n",
              "min       0.000000    32.000000     1.000000       0.000000     0.000000   \n",
              "25%       0.000000    42.000000     1.000000       0.000000     0.000000   \n",
              "50%       0.000000    49.000000     2.000000       0.000000     0.000000   \n",
              "75%       1.000000    56.000000     3.000000       1.000000    20.000000   \n",
              "max       1.000000    70.000000     4.000000       1.000000    70.000000   \n",
              "\n",
              "            BPMeds  prevalentStroke  prevalentHyp     diabetes      totChol  \\\n",
              "count  4240.000000      4240.000000   4240.000000  4240.000000  4240.000000   \n",
              "mean      0.029245         0.005896      0.310613     0.025708   236.667689   \n",
              "std       0.168513         0.076569      0.462799     0.158280    44.328480   \n",
              "min       0.000000         0.000000      0.000000     0.000000   107.000000   \n",
              "25%       0.000000         0.000000      0.000000     0.000000   206.000000   \n",
              "50%       0.000000         0.000000      0.000000     0.000000   234.000000   \n",
              "75%       0.000000         0.000000      1.000000     0.000000   262.000000   \n",
              "max       1.000000         1.000000      1.000000     1.000000   696.000000   \n",
              "\n",
              "             sysBP        diaBP          BMI    heartRate      glucose  \\\n",
              "count  4240.000000  4240.000000  4240.000000  4240.000000  4240.000000   \n",
              "mean    132.354599    82.897759    25.798605    75.878774    81.600943   \n",
              "std      22.033300    11.910394     4.071386    12.023937    22.860340   \n",
              "min      83.500000    48.000000    15.540000    44.000000    40.000000   \n",
              "25%     117.000000    75.000000    23.077500    68.000000    72.000000   \n",
              "50%     128.000000    82.000000    25.380000    75.000000    78.000000   \n",
              "75%     144.000000    90.000000    28.040000    83.000000    85.000000   \n",
              "max     295.000000   142.500000    56.800000   143.000000   394.000000   \n",
              "\n",
              "        TenYearCHD  \n",
              "count  4240.000000  \n",
              "mean      0.151887  \n",
              "std       0.358953  \n",
              "min       0.000000  \n",
              "25%       0.000000  \n",
              "50%       0.000000  \n",
              "75%       0.000000  \n",
              "max       1.000000  "
            ]
          },
          "metadata": {
            "tags": []
          },
          "execution_count": 11
        }
      ]
    },
    {
      "cell_type": "markdown",
      "metadata": {
        "id": "v01Jmw3Z_zAd",
        "colab_type": "text"
      },
      "source": [
        "### Data Visualization"
      ]
    },
    {
      "cell_type": "code",
      "metadata": {
        "id": "MfWPtNDF_zAe",
        "colab_type": "code",
        "colab": {}
      },
      "source": [
        "def persontype_func(gender):\n",
        "    if gender.item()==1:\n",
        "        return 'Male'\n",
        "    else:\n",
        "        return 'Female' \n",
        "framingham['PersonType'] = framingham[['male']].apply(persontype_func, axis=1)"
      ],
      "execution_count": 0,
      "outputs": []
    },
    {
      "cell_type": "code",
      "metadata": {
        "id": "ECiKIXui_zAh",
        "colab_type": "code",
        "outputId": "fb683c3d-ec68-4cf0-f542-f46309a6e967",
        "colab": {}
      },
      "source": [
        "# How is 10-year risk of Coronary Heart Disease affect gender?\n",
        "\n",
        "mx = sns.factorplot(x=\"PersonType\", hue='TenYearCHD',data=framingham, kind=\"count\", size=6)\n",
        "mx.set(ylabel='Number of Patients')\n",
        "plt.title('Ten year CHD risk by gender');"
      ],
      "execution_count": 0,
      "outputs": [
        {
          "output_type": "display_data",
          "data": {
            "image/png": "[encoded data removed]",
            "text/plain": [
              "<Figure size 502.969x432 with 1 Axes>"
            ]
          },
          "metadata": {
            "tags": []
          }
        }
      ]
    },
    {
      "cell_type": "code",
      "metadata": {
        "id": "88madiHT_zAk",
        "colab_type": "code",
        "outputId": "cedd171c-aff6-45b0-fd7b-0e5f5c5d7669",
        "colab": {}
      },
      "source": [
        "sns.distplot(framingham['age'], bins=15, kde=True)\n",
        "plt.ylabel('Count')\n",
        "plt.title('Agewise distribution of the patients')"
      ],
      "execution_count": 0,
      "outputs": [
        {
          "output_type": "stream",
          "text": [
            "C:\\Users\\MS00420757\\AppData\\Local\\Continuum\\anaconda3\\lib\\site-packages\\matplotlib\\axes\\_axes.py:6462: UserWarning: The 'normed' kwarg is deprecated, and has been replaced by the 'density' kwarg.\n",
            "  warnings.warn(\"The 'normed' kwarg is deprecated, and has been \"\n",
            "C:\\Users\\MS00420757\\AppData\\Local\\Continuum\\anaconda3\\lib\\site-packages\\scipy\\stats\\stats.py:1713: FutureWarning: Using a non-tuple sequence for multidimensional indexing is deprecated; use `arr[tuple(seq)]` instead of `arr[seq]`. In the future this will be interpreted as an array index, `arr[np.array(seq)]`, which will result either in an error or a different result.\n",
            "  return np.add.reduce(sorted[indexer] * weights, axis=axis) / sumval\n"
          ],
          "name": "stderr"
        },
        {
          "output_type": "execute_result",
          "data": {
            "text/plain": [
              "Text(0.5,1,'Agewise distribution of the patients')"
            ]
          },
          "metadata": {
            "tags": []
          },
          "execution_count": 14
        },
        {
          "output_type": "display_data",
          "data": {
            "image/png": "[encoded data removed]",
            "text/plain": [
              "<Figure size 432x288 with 1 Axes>"
            ]
          },
          "metadata": {
            "tags": []
          }
        }
      ]
    },
    {
      "cell_type": "code",
      "metadata": {
        "id": "9Z2yeZZ6_zAo",
        "colab_type": "code",
        "colab": {}
      },
      "source": [
        "def agetype_func(age):\n",
        "    \n",
        "    if age.item()<40:\n",
        "        return 'Young'\n",
        "    elif age.item()>=40 and age.item()<50:\n",
        "        return 'Middle aged (40-50)' \n",
        "    elif age.item()>=50 and age.item()<60:\n",
        "        return 'Middle aged(50-60)'\n",
        "    else:\n",
        "        return 'Old(>60)'\n",
        "framingham['AgeType'] = framingham[['age']].apply(agetype_func, axis=1)"
      ],
      "execution_count": 0,
      "outputs": []
    },
    {
      "cell_type": "code",
      "metadata": {
        "id": "wFeRnwYB_zAr",
        "colab_type": "code",
        "outputId": "444d061b-a2d6-402d-894f-9d03b436f208",
        "colab": {}
      },
      "source": [
        "# How is 10-year risk of Coronary Heart Disease affect age?\n",
        "mx = sns.factorplot(x=\"AgeType\",y='TenYearCHD', hue='PersonType',data=framingham, kind=\"bar\", size=6)\n",
        "mx.set(ylabel='Percentage of patients at a risk of having CHD after ten years')\n",
        "plt.title('Ten year CHD risk by age type');"
      ],
      "execution_count": 0,
      "outputs": [
        {
          "output_type": "stream",
          "text": [
            "C:\\Users\\MS00420757\\AppData\\Local\\Continuum\\anaconda3\\lib\\site-packages\\scipy\\stats\\stats.py:1713: FutureWarning: Using a non-tuple sequence for multidimensional indexing is deprecated; use `arr[tuple(seq)]` instead of `arr[seq]`. In the future this will be interpreted as an array index, `arr[np.array(seq)]`, which will result either in an error or a different result.\n",
            "  return np.add.reduce(sorted[indexer] * weights, axis=axis) / sumval\n"
          ],
          "name": "stderr"
        },
        {
          "output_type": "display_data",
          "data": {
            "image/png": "[encoded data removed]",
            "text/plain": [
              "<Figure size 504.625x432 with 1 Axes>"
            ]
          },
          "metadata": {
            "tags": []
          }
        }
      ]
    },
    {
      "cell_type": "code",
      "metadata": {
        "id": "4RcD2doV_zAv",
        "colab_type": "code",
        "outputId": "3cd05531-e85a-4bb0-b1a7-457304378c22",
        "colab": {}
      },
      "source": [
        "from matplotlib import style\n",
        "style.use('ggplot')\n",
        "#plt.figure(figsize=(12,4))\n",
        "sns.boxplot(x='glucose',data=framingham)"
      ],
      "execution_count": 0,
      "outputs": [
        {
          "output_type": "execute_result",
          "data": {
            "text/plain": [
              "<matplotlib.axes._subplots.AxesSubplot at 0x1bd54a19630>"
            ]
          },
          "metadata": {
            "tags": []
          },
          "execution_count": 17
        },
        {
          "output_type": "display_data",
          "data": {
            "image/png": "[encoded data removed]",
            "text/plain": [
              "<Figure size 432x288 with 1 Axes>"
            ]
          },
          "metadata": {
            "tags": []
          }
        }
      ]
    },
    {
      "cell_type": "code",
      "metadata": {
        "id": "voG6cHcD_zA2",
        "colab_type": "code",
        "outputId": "24dc8509-ef32-42e2-afb7-6a115012af8d",
        "colab": {}
      },
      "source": [
        "g = sns.boxplot(x=\"PersonType\", y=\"diaBP\",hue=\"prevalentStroke\",data=framingham)"
      ],
      "execution_count": 0,
      "outputs": [
        {
          "output_type": "display_data",
          "data": {
            "image/png": "[encoded data removed]",
            "text/plain": [
              "<Figure size 432x288 with 1 Axes>"
            ]
          },
          "metadata": {
            "tags": []
          }
        }
      ]
    },
    {
      "cell_type": "code",
      "metadata": {
        "id": "sKJSkVoo_zA7",
        "colab_type": "code",
        "colab": {}
      },
      "source": [
        "def hyper_func(hyper):\n",
        "    if hyper.item()==1:\n",
        "        return 'Has hypertension'\n",
        "    else:\n",
        "        return 'No hypertension' \n",
        "framingham['hasHyper'] = framingham[['prevalentHyp']].apply(hyper_func, axis=1)"
      ],
      "execution_count": 0,
      "outputs": []
    },
    {
      "cell_type": "code",
      "metadata": {
        "id": "U89vir11_zBA",
        "colab_type": "code",
        "outputId": "25b2dc6f-4b2f-4e1e-f8d6-a3427ad1d535",
        "colab": {}
      },
      "source": [
        "g = sns.boxplot(x=\"hasHyper\", y=\"heartRate\",hue=\"TenYearCHD\",data=framingham)"
      ],
      "execution_count": 0,
      "outputs": [
        {
          "output_type": "display_data",
          "data": {
            "image/png": "[encoded data removed]",
            "text/plain": [
              "<Figure size 432x288 with 1 Axes>"
            ]
          },
          "metadata": {
            "tags": []
          }
        }
      ]
    },
    {
      "cell_type": "code",
      "metadata": {
        "id": "hHn7dMTV_zBD",
        "colab_type": "code",
        "colab": {}
      },
      "source": [
        "# As systolic blood pressure increases for each age group there is higher chance for CHD to develop after 10 years\n",
        "plt.figure(figsize=(10,5))\n",
        "sns.boxplot('AgeType','sysBP', data=framingham, hue=\"TenYearCHD\")\n",
        "plt.title('Scatterplot of systolic blood pressure vs age type coloured by people who are at risk of CHD')"
      ],
      "execution_count": 0,
      "outputs": []
    },
    {
      "cell_type": "code",
      "metadata": {
        "id": "petwDJ7I_zBG",
        "colab_type": "code",
        "outputId": "04d1a389-8867-4132-d31e-dda0582d8393",
        "colab": {
          "base_uri": "https://localhost:8080/",
          "height": 197
        }
      },
      "source": [
        "plt.figure(figsize=(12,9))\n",
        "sns.heatmap(framingham.corr()\n",
        "            ,cmap=\"BrBG\",annot=True)"
      ],
      "execution_count": 0,
      "outputs": [
        {
          "output_type": "error",
          "ename": "NameError",
          "evalue": "ignored",
          "traceback": [
            "\u001b[0;31m---------------------------------------------------------------------------\u001b[0m",
            "\u001b[0;31mNameError\u001b[0m                                 Traceback (most recent call last)",
            "\u001b[0;32m<ipython-input-1-538b4baf74c1>\u001b[0m in \u001b[0;36m<module>\u001b[0;34m()\u001b[0m\n\u001b[0;32m----> 1\u001b[0;31m \u001b[0mplt\u001b[0m\u001b[0;34m.\u001b[0m\u001b[0mfigure\u001b[0m\u001b[0;34m(\u001b[0m\u001b[0mfigsize\u001b[0m\u001b[0;34m=\u001b[0m\u001b[0;34m(\u001b[0m\u001b[0;36m12\u001b[0m\u001b[0;34m,\u001b[0m\u001b[0;36m9\u001b[0m\u001b[0;34m)\u001b[0m\u001b[0;34m)\u001b[0m\u001b[0;34m\u001b[0m\u001b[0;34m\u001b[0m\u001b[0m\n\u001b[0m\u001b[1;32m      2\u001b[0m sns.heatmap(framingham.corr()\n\u001b[1;32m      3\u001b[0m             ,cmap=\"BrBG\",annot=True)\n",
            "\u001b[0;31mNameError\u001b[0m: name 'plt' is not defined"
          ]
        }
      ]
    },
    {
      "cell_type": "code",
      "metadata": {
        "id": "Hk11Q9h__zBK",
        "colab_type": "code",
        "colab": {}
      },
      "source": [
        "framingham.drop(['PersonType','AgeType','hasHyper'],axis=1,inplace=True)"
      ],
      "execution_count": 0,
      "outputs": []
    },
    {
      "cell_type": "markdown",
      "metadata": {
        "id": "FiQAVseJ_zBN",
        "colab_type": "text"
      },
      "source": [
        "### Prepare the data"
      ]
    },
    {
      "cell_type": "markdown",
      "metadata": {
        "id": "fIISvM3N_zBO",
        "colab_type": "text"
      },
      "source": [
        "Analyze the number of observations in the dataset that belong to each category as either having a risk of develping CHD or not.\n",
        "<p align=\"center\">\n",
        "<img src=\"imbalance.png\" width=300px>\n",
        "</p>\n",
        "This is a highly imbalanced dataset with only roughly 15% of the observations lying in the category of having a high risk of contracting a cardiac disease."
      ]
    },
    {
      "cell_type": "code",
      "metadata": {
        "id": "SweNqZ_G_zBP",
        "colab_type": "code",
        "colab": {}
      },
      "source": [
        "X = framingham.drop(['TenYearCHD','education'],axis=1)\n",
        "\n",
        "y = framingham.TenYearCHD\n",
        "\n",
        "X_train, X_test, y_train, y_test = train_test_split(X,y,random_state=23)"
      ],
      "execution_count": 0,
      "outputs": []
    },
    {
      "cell_type": "code",
      "metadata": {
        "id": "EnzrKDTC_zBS",
        "colab_type": "code",
        "colab": {}
      },
      "source": [
        "y.value_counts()"
      ],
      "execution_count": 0,
      "outputs": []
    },
    {
      "cell_type": "code",
      "metadata": {
        "id": "LO0jpCCs_zBV",
        "colab_type": "code",
        "colab": {}
      },
      "source": [
        "# train a logistic regression model on the training set\n",
        "\n",
        "logreg = LogisticRegression(C=0.8)\n",
        "logreg.fit(X_train, y_train)"
      ],
      "execution_count": 0,
      "outputs": []
    },
    {
      "cell_type": "code",
      "metadata": {
        "id": "3O2olzX__zBZ",
        "colab_type": "code",
        "colab": {}
      },
      "source": [
        "# make class predictions for the testing set\n",
        "y_pred_class = logreg.predict(X_test)\n",
        "# calculate accuracy with threshold of 0.5\n",
        "print(metrics.accuracy_score(y_test, y_pred_class))"
      ],
      "execution_count": 0,
      "outputs": []
    },
    {
      "cell_type": "markdown",
      "metadata": {
        "id": "dU2syZv4_zBf",
        "colab_type": "text"
      },
      "source": [
        "The model accuracy on test data is 85.8%. \n",
        "\n",
        "Due to an imbalanced dataset, let's compare with our baseline model "
      ]
    },
    {
      "cell_type": "code",
      "metadata": {
        "id": "wzHHdxlz_zBh",
        "colab_type": "code",
        "colab": {}
      },
      "source": [
        "# examine the class distribution of the testing set\n",
        "y_test.value_counts()"
      ],
      "execution_count": 0,
      "outputs": []
    },
    {
      "cell_type": "code",
      "metadata": {
        "id": "-1iPZ1Vm_zBk",
        "colab_type": "code",
        "outputId": "966ffaf3-0440-4b21-b5af-8b0ccb149ee6",
        "colab": {}
      },
      "source": [
        "# calculate null accuracy \n",
        "y_test.value_counts().head(1) / len(y_test)"
      ],
      "execution_count": 0,
      "outputs": [
        {
          "output_type": "execute_result",
          "data": {
            "text/plain": [
              "0    0.856604\n",
              "Name: TenYearCHD, dtype: float64"
            ]
          },
          "metadata": {
            "tags": []
          },
          "execution_count": 29
        }
      ]
    },
    {
      "cell_type": "markdown",
      "metadata": {
        "id": "YC2uXjI3_zBn",
        "colab_type": "text"
      },
      "source": [
        "#### The null accuracy is 85.6%. There is only a slight improvement in accuracy for our model from the baseline model.\n",
        "\n",
        "#### Accuracy is not an appropriate metric in this scenario. We employ confusion matrix and ROC curve to further understand performance of our model on test data.\n"
      ]
    },
    {
      "cell_type": "code",
      "metadata": {
        "id": "NY6WpfUk_zBo",
        "colab_type": "code",
        "outputId": "fb0c2bd2-95e2-43c1-e475-a58d7a8b0748",
        "colab": {}
      },
      "source": [
        "conf=metrics.confusion_matrix(y_test, y_pred_class)\n",
        "print(metrics.confusion_matrix(y_test, y_pred_class))"
      ],
      "execution_count": 0,
      "outputs": [
        {
          "output_type": "stream",
          "text": [
            "[[905   3]\n",
            " [146   6]]\n"
          ],
          "name": "stdout"
        }
      ]
    },
    {
      "cell_type": "markdown",
      "metadata": {
        "id": "4Az1jLyJ_zBr",
        "colab_type": "text"
      },
      "source": [
        "Here the false negatives are very high which means most of the predictions around 146 patients are wrongly classifed as healthy when in reality they are sick.\n",
        "Our aim is to be able to detect the risk of heart disease more precisely even if we have to compromise on the false positives. It is very crucial to reduce the false negatives as a person's health is jeopardised once he is wrongly identified as healthy when in actual he is sick. "
      ]
    },
    {
      "cell_type": "code",
      "metadata": {
        "id": "P1FXAB9K_zBr",
        "colab_type": "code",
        "outputId": "bee76951-bfd8-46f7-82cb-43d2209e4dcb",
        "colab": {}
      },
      "source": [
        "cmap = sns.cubehelix_palette(as_cmap=True)\n",
        "sns.heatmap(conf,cmap = cmap,xticklabels=['No','Yes'],yticklabels=['No','Yes'],annot=True, fmt=\"d\")"
      ],
      "execution_count": 0,
      "outputs": [
        {
          "output_type": "execute_result",
          "data": {
            "text/plain": [
              "<matplotlib.axes._subplots.AxesSubplot at 0x1bd550cd748>"
            ]
          },
          "metadata": {
            "tags": []
          },
          "execution_count": 31
        },
        {
          "output_type": "display_data",
          "data": {
            "image/png": "[encoded data removed]",
            "text/plain": [
              "<Figure size 432x288 with 2 Axes>"
            ]
          },
          "metadata": {
            "tags": []
          }
        }
      ]
    },
    {
      "cell_type": "code",
      "metadata": {
        "id": "8g1XYdVX_zBu",
        "colab_type": "code",
        "colab": {}
      },
      "source": [
        "predict_probabilities = logreg.predict_proba(X_test)\n",
        "fpr, tpr, thresholds = metrics.roc_curve(y_test, predict_probabilities[:,1])"
      ],
      "execution_count": 0,
      "outputs": []
    },
    {
      "cell_type": "code",
      "metadata": {
        "id": "Iwgl1_dD_zBy",
        "colab_type": "code",
        "outputId": "d1f68e18-6f87-45c5-ece2-746b13ecf8f2",
        "colab": {}
      },
      "source": [
        "plt.plot(fpr, tpr)\n",
        "plt.xlim([0.0, 1.0])\n",
        "plt.ylim([0.0, 1.0])\n",
        "plt.title('ROC curve for heart rate data (imbalanced)')\n",
        "plt.xlabel('False Positive Rate (1 - Specificity)')\n",
        "plt.ylabel('True Positive Rate (Sensitivity)')\n",
        "plt.grid(True)"
      ],
      "execution_count": 0,
      "outputs": [
        {
          "output_type": "display_data",
          "data": {
            "image/png": "[encoded data removed]",
            "text/plain": [
              "<Figure size 432x288 with 1 Axes>"
            ]
          },
          "metadata": {
            "tags": []
          }
        }
      ]
    },
    {
      "cell_type": "code",
      "metadata": {
        "id": "PB6D8Zqv_zB2",
        "colab_type": "code",
        "outputId": "f3479c09-e412-486f-a4dd-addd61b4f29f",
        "colab": {}
      },
      "source": [
        "roc_auc = metrics.auc(fpr, tpr)\n",
        "print(\"Area under the ROC curve : %f\" % roc_auc)"
      ],
      "execution_count": 0,
      "outputs": [
        {
          "output_type": "stream",
          "text": [
            "Area under the ROC curve : 0.715352\n"
          ],
          "name": "stdout"
        }
      ]
    },
    {
      "cell_type": "markdown",
      "metadata": {
        "id": "Xvs3MX4y_zB6",
        "colab_type": "text"
      },
      "source": [
        "#### Let us retrain our data using logistic regression this time using a parameter called 'balanced' which would handle imbalance in the data by changing the threshold set by logistic regression model:"
      ]
    },
    {
      "cell_type": "code",
      "metadata": {
        "id": "vpCElR88_zB7",
        "colab_type": "code",
        "colab": {}
      },
      "source": [
        "# train a logistic regression model on the training set\n",
        "\n",
        "logreg = LogisticRegression(class_weight='balanced')\n",
        "logreg.fit(X_train, y_train)\n",
        "# make class predictions for the testing set\n",
        "y_pred_class = logreg.predict(X_test)"
      ],
      "execution_count": 0,
      "outputs": []
    },
    {
      "cell_type": "markdown",
      "metadata": {
        "id": "1kwhZJyz_zB-",
        "colab_type": "text"
      },
      "source": [
        "Now the model has drastically improved through a balanced Logistic regression model in capturing patients that were not being detected earlier as having a high risk for coronary heart disease in a span of 10 years. "
      ]
    },
    {
      "cell_type": "code",
      "metadata": {
        "id": "0k6zyuEK_zCA",
        "colab_type": "code",
        "outputId": "b1040916-3a7d-41ff-d18a-193459223c95",
        "colab": {}
      },
      "source": [
        "conf=metrics.confusion_matrix(y_test, y_pred_class)\n",
        "print(metrics.confusion_matrix(y_test, y_pred_class))"
      ],
      "execution_count": 0,
      "outputs": [
        {
          "output_type": "stream",
          "text": [
            "[[606 302]\n",
            " [ 50 102]]\n"
          ],
          "name": "stdout"
        }
      ]
    },
    {
      "cell_type": "code",
      "metadata": {
        "id": "kpt_U1_y_zCC",
        "colab_type": "code",
        "outputId": "e05c285a-9f80-491e-b6fe-6a35d55c962b",
        "colab": {}
      },
      "source": [
        "cmap = sns.cubehelix_palette(as_cmap=True)\n",
        "sns.heatmap(conf,cmap = cmap,xticklabels=['No','Yes'],yticklabels=['No','Yes'],annot=True, fmt=\"d\")"
      ],
      "execution_count": 0,
      "outputs": [
        {
          "output_type": "execute_result",
          "data": {
            "text/plain": [
              "<matplotlib.axes._subplots.AxesSubplot at 0x1bd54a19e48>"
            ]
          },
          "metadata": {
            "tags": []
          },
          "execution_count": 37
        },
        {
          "output_type": "display_data",
          "data": {
            "image/png": "[encoded data removed]",
            "text/plain": [
              "<Figure size 432x288 with 2 Axes>"
            ]
          },
          "metadata": {
            "tags": []
          }
        }
      ]
    },
    {
      "cell_type": "code",
      "metadata": {
        "id": "2weUnwB5_zCF",
        "colab_type": "code",
        "colab": {}
      },
      "source": [
        "predict_probabilities = logreg.predict_proba(X_test)\n",
        "fpr, tpr, thresholds = metrics.roc_curve(y_test, predict_probabilities[:,1])\n"
      ],
      "execution_count": 0,
      "outputs": []
    },
    {
      "cell_type": "code",
      "metadata": {
        "id": "U__pjjYT_zCI",
        "colab_type": "code",
        "outputId": "fb57cdf6-02ae-4f07-9127-193fbbe06782",
        "colab": {}
      },
      "source": [
        "plt.plot(fpr, tpr)\n",
        "plt.xlim([0.0, 1.0])\n",
        "plt.ylim([0.0, 1.0])\n",
        "plt.title('ROC curve for heart rate data(balanced)')\n",
        "plt.xlabel('False Positive Rate (1 - Specificity)')\n",
        "plt.ylabel('True Positive Rate (Sensitivity)')\n",
        "plt.grid(True)"
      ],
      "execution_count": 0,
      "outputs": [
        {
          "output_type": "display_data",
          "data": {
            "image/png": "[encoded data removed]",
            "text/plain": [
              "<Figure size 432x288 with 1 Axes>"
            ]
          },
          "metadata": {
            "tags": []
          }
        }
      ]
    },
    {
      "cell_type": "code",
      "metadata": {
        "id": "pwQzJnNO_zCO",
        "colab_type": "code",
        "outputId": "9a16f30e-9708-4cb4-abf8-0b147e08c8b6",
        "colab": {}
      },
      "source": [
        "roc_auc = metrics.auc(fpr, tpr)\n",
        "print(\"Area under the ROC curve : %f\" % roc_auc)"
      ],
      "execution_count": 0,
      "outputs": [
        {
          "output_type": "stream",
          "text": [
            "Area under the ROC curve : 0.727749\n"
          ],
          "name": "stdout"
        }
      ]
    },
    {
      "cell_type": "code",
      "metadata": {
        "id": "BWlZTQNR_zCR",
        "colab_type": "code",
        "colab": {}
      },
      "source": [
        ""
      ],
      "execution_count": 0,
      "outputs": []
    },
    {
      "cell_type": "code",
      "metadata": {
        "id": "VLLk0jdm_zCU",
        "colab_type": "code",
        "colab": {}
      },
      "source": [
        ""
      ],
      "execution_count": 0,
      "outputs": []
    }
  ]
}