{
  "nbformat": 4,
  "nbformat_minor": 0,
  "metadata": {
    "colab": {
      "name": "Sales_prediction.ipynb",
      "provenance": [],
      "collapsed_sections": []
    },
    "kernelspec": {
      "display_name": "Python 3",
      "language": "python",
      "name": "python3"
    }
  },
  "cells": [
    {
      "cell_type": "markdown",
      "metadata": {
        "colab_type": "text",
        "id": "JCN6VRHBQ31z"
      },
      "source": [
        "<a href=\"https://colab.research.google.com/drive/1XvBRcW1gFSvc2pv8_qNmEbd-oeQ6C-ck\">\n",
        "  <img src=\"https://colab.research.google.com/assets/colab-badge.svg\" alt=\"Open In Colab\"/>\n",
        "</a>"
      ]
    },
    {
      "cell_type": "markdown",
      "metadata": {
        "colab_type": "text",
        "id": "-vidlR-DQ311"
      },
      "source": [
        "## Table of Contents\n",
        "\n",
        "1. [Objective](#1)\n",
        "2. [Column Description](#2)\n",
        "3. [Initial Exploratory Data Analysis](#3)\n",
        "4. [Dealing with Missing values in the dataset](#4)\n",
        "5. [Feature Engineering](#5)\n",
        "6. [Handling Categorical Variables](#6)\n",
        "7. [Creating Train and Validation Data](#7)\n",
        "8. [Linear Regression](#8)\n",
        "9. [XG Boost](#9)\n",
        "     - 9.1. [XGBoost Regressor with Grid Search CV](#9.1) <br>\n",
        "     \n",
        "     \n",
        "     \n",
        "10. [Model Evaluation](#10)\n"
      ]
    },
    {
      "cell_type": "markdown",
      "metadata": {
        "colab_type": "text",
        "id": "rQya2QZNQ313"
      },
      "source": [
        "## 1. Objective  <a id='1'>"
      ]
    },
    {
      "cell_type": "markdown",
      "metadata": {
        "colab_type": "text",
        "id": "y4qrOeGAQ314"
      },
      "source": [
        "Goal of this project is to **predict the sales** of a Retail outlet based on the historical data provided for sales."
      ]
    },
    {
      "cell_type": "markdown",
      "metadata": {
        "colab_type": "text",
        "id": "k4LZbUZmQ315"
      },
      "source": [
        "# 2. Column Description  <a id=2>\n",
        "\n",
        "**Item Identifier**: A code provided for the item of sale <br>\n",
        "**Item Weight**: Weight of item <br>\n",
        "**Item Fat Content**: A categorical column of how much fat is present in the item : ‘Low Fat’, ‘Regular’, ‘low fat’, ‘LF’, ‘reg’ <br>\n",
        "**Item Visibility**: Numeric value for how visible the item is  <br> \n",
        "**Item Type**: What category does the item belong to: ‘Dairy’, ‘Soft Drinks’, ‘Meat’, ‘Fruits and Vegetables’, ‘Household’, ‘Baking Goods’, ‘Snack Foods’, ‘Frozen Foods’, ‘Breakfast’, ’Health and Hygiene’, ‘Hard Drinks’, ‘Canned’, ‘Breads’, ‘Starchy Foods’, ‘Others’, ‘Seafood’. <br>\n",
        "**Item MRP**: The MRP price of item <br>\n",
        "**Outlet Identifier**: Which outlet was the item sold. This will be categorical column <br>\n",
        "**Outlet Establishment Year**: Which year was the outlet established <br>\n",
        "**Outlet Size**: A categorical column to explain size of outlet: ‘Medium’, ‘High’, ‘Small’.  <br> \n",
        "**Outlet Location Type**: A categorical column to describe the location of the outlet: ‘Tier 1’, ‘Tier 2’, ‘Tier 3’  <br>\n",
        "**Outlet Type** : Categorical column for type of outlet: ‘Supermarket Type1’, ‘Supermarket Type2’, ‘Supermarket Type3’, ‘Grocery Store’  <br>\n",
        "**Item Outlet Sales**: The amount of sales for an item.  <br> \n",
        "**Source**: Whether the data is from train or test.  <br>\n",
        "\n"
      ]
    },
    {
      "cell_type": "markdown",
      "metadata": {
        "colab_type": "text",
        "id": "psYfZJp-Q317"
      },
      "source": [
        "## 3. Initial Exploratory Data Analysis  <a id=3>"
      ]
    },
    {
      "cell_type": "markdown",
      "metadata": {
        "colab_type": "text",
        "id": "dJ1hlvFpQ318"
      },
      "source": [
        "In the first step we are going to acquire data into dataframes for further processing."
      ]
    },
    {
      "cell_type": "code",
      "metadata": {
        "id": "IAxwvA-2laBm",
        "colab_type": "code",
        "colab": {}
      },
      "source": [
        "# Importing the packages and dataset\n",
        "\n",
        "import numpy as np                                                 \n",
        "import pandas as pd                            \n",
        "import matplotlib.pyplot as plt\n",
        "\n",
        "%matplotlib inline\n",
        "\n",
        "import seaborn as sns"
      ],
      "execution_count": 0,
      "outputs": []
    },
    {
      "cell_type": "code",
      "metadata": {
        "id": "i_Pmk8Ax1izC",
        "colab_type": "code",
        "outputId": "4496461f-3173-4a9c-8cda-679adfa63bd0",
        "colab": {
          "base_uri": "https://localhost:8080/",
          "height": 204
        }
      },
      "source": [
        "!wget https://raw.githubusercontent.com/shivckr/border/master/Train_Retail.csv"
      ],
      "execution_count": 0,
      "outputs": [
        {
          "output_type": "stream",
          "text": [
            "--2019-11-14 10:16:10--  https://raw.githubusercontent.com/shivckr/border/master/Train_Retail.csv\n",
            "Resolving raw.githubusercontent.com (raw.githubusercontent.com)... 151.101.0.133, 151.101.64.133, 151.101.128.133, ...\n",
            "Connecting to raw.githubusercontent.com (raw.githubusercontent.com)|151.101.0.133|:443... connected.\n",
            "HTTP request sent, awaiting response... 200 OK\n",
            "Length: 869537 (849K) [text/plain]\n",
            "Saving to: ‘Train_Retail.csv’\n",
            "\n",
            "\rTrain_Retail.csv      0%[                    ]       0  --.-KB/s               \rTrain_Retail.csv    100%[===================>] 849.16K  --.-KB/s    in 0.02s   \n",
            "\n",
            "2019-11-14 10:16:10 (34.1 MB/s) - ‘Train_Retail.csv’ saved [869537/869537]\n",
            "\n"
          ],
          "name": "stdout"
        }
      ]
    },
    {
      "cell_type": "code",
      "metadata": {
        "id": "bScxkmUg5_Qh",
        "colab_type": "code",
        "outputId": "efe8b91f-61fe-44b6-bcd9-485cb2d669dd",
        "colab": {
          "base_uri": "https://localhost:8080/",
          "height": 204
        }
      },
      "source": [
        "!wget https://raw.githubusercontent.com/shivckr/border/master/Test_Retail.csv"
      ],
      "execution_count": 0,
      "outputs": [
        {
          "output_type": "stream",
          "text": [
            "--2019-11-14 10:16:54--  https://raw.githubusercontent.com/shivckr/border/master/Test_Retail.csv\n",
            "Resolving raw.githubusercontent.com (raw.githubusercontent.com)... 151.101.0.133, 151.101.64.133, 151.101.128.133, ...\n",
            "Connecting to raw.githubusercontent.com (raw.githubusercontent.com)|151.101.0.133|:443... connected.\n",
            "HTTP request sent, awaiting response... 200 OK\n",
            "Length: 527709 (515K) [text/plain]\n",
            "Saving to: ‘Test_Retail.csv’\n",
            "\n",
            "\rTest_Retail.csv       0%[                    ]       0  --.-KB/s               \rTest_Retail.csv     100%[===================>] 515.34K  --.-KB/s    in 0.02s   \n",
            "\n",
            "2019-11-14 10:16:54 (25.9 MB/s) - ‘Test_Retail.csv’ saved [527709/527709]\n",
            "\n"
          ],
          "name": "stdout"
        }
      ]
    },
    {
      "cell_type": "code",
      "metadata": {
        "colab_type": "code",
        "id": "2Ufv58w_Q319",
        "colab": {}
      },
      "source": [
        "data_Train = pd.read_csv(\"Train_Retail.csv\")\n",
        "data_Test = pd.read_csv(\"Test_Retail.csv\")\n",
        "data_Train['Source'] = 'train'\n",
        "data_Test['Source'] = 'test'"
      ],
      "execution_count": 0,
      "outputs": []
    },
    {
      "cell_type": "code",
      "metadata": {
        "colab_type": "code",
        "id": "K4sLxjI3Q32B",
        "colab": {}
      },
      "source": [
        "data_Train.shape                                    # Checking the shape of the data_train dataframe"
      ],
      "execution_count": 0,
      "outputs": []
    },
    {
      "cell_type": "code",
      "metadata": {
        "colab_type": "code",
        "id": "lh01Q-8lQ32H",
        "colab": {}
      },
      "source": [
        "data_Test.shape                                     # Checking the shape of the data_test dataframe"
      ],
      "execution_count": 0,
      "outputs": []
    },
    {
      "cell_type": "code",
      "metadata": {
        "colab_type": "code",
        "id": "rfx27MQ9Q32N",
        "outputId": "39fda038-7c99-4e1c-93b7-cb1d36763cf6",
        "colab": {
          "base_uri": "https://localhost:8080/",
          "height": 299
        }
      },
      "source": [
        "data_Train.head()                                    # CHecking the first 5 rows"
      ],
      "execution_count": 0,
      "outputs": [
        {
          "output_type": "execute_result",
          "data": {
            "text/html": [
              "<div>\n",
              "<style scoped>\n",
              "    .dataframe tbody tr th:only-of-type {\n",
              "        vertical-align: middle;\n",
              "    }\n",
              "\n",
              "    .dataframe tbody tr th {\n",
              "        vertical-align: top;\n",
              "    }\n",
              "\n",
              "    .dataframe thead th {\n",
              "        text-align: right;\n",
              "    }\n",
              "</style>\n",
              "<table border=\"1\" class=\"dataframe\">\n",
              "  <thead>\n",
              "    <tr style=\"text-align: right;\">\n",
              "      <th></th>\n",
              "      <th>Item_Identifier</th>\n",
              "      <th>Item_Weight</th>\n",
              "      <th>Item_Fat_Content</th>\n",
              "      <th>Item_Visibility</th>\n",
              "      <th>Item_Type</th>\n",
              "      <th>Item_MRP</th>\n",
              "      <th>Outlet_Identifier</th>\n",
              "      <th>Outlet_Establishment_Year</th>\n",
              "      <th>Outlet_Size</th>\n",
              "      <th>Outlet_Location_Type</th>\n",
              "      <th>Outlet_Type</th>\n",
              "      <th>Item_Outlet_Sales</th>\n",
              "      <th>Source</th>\n",
              "    </tr>\n",
              "  </thead>\n",
              "  <tbody>\n",
              "    <tr>\n",
              "      <th>0</th>\n",
              "      <td>FDA15</td>\n",
              "      <td>9.30</td>\n",
              "      <td>Low Fat</td>\n",
              "      <td>0.016047</td>\n",
              "      <td>Dairy</td>\n",
              "      <td>249.8092</td>\n",
              "      <td>OUT049</td>\n",
              "      <td>1999</td>\n",
              "      <td>Medium</td>\n",
              "      <td>Tier 1</td>\n",
              "      <td>Supermarket Type1</td>\n",
              "      <td>3735.1380</td>\n",
              "      <td>train</td>\n",
              "    </tr>\n",
              "    <tr>\n",
              "      <th>1</th>\n",
              "      <td>DRC01</td>\n",
              "      <td>5.92</td>\n",
              "      <td>Regular</td>\n",
              "      <td>0.019278</td>\n",
              "      <td>Soft Drinks</td>\n",
              "      <td>48.2692</td>\n",
              "      <td>OUT018</td>\n",
              "      <td>2009</td>\n",
              "      <td>Medium</td>\n",
              "      <td>Tier 3</td>\n",
              "      <td>Supermarket Type2</td>\n",
              "      <td>443.4228</td>\n",
              "      <td>train</td>\n",
              "    </tr>\n",
              "    <tr>\n",
              "      <th>2</th>\n",
              "      <td>FDN15</td>\n",
              "      <td>17.50</td>\n",
              "      <td>Low Fat</td>\n",
              "      <td>0.016760</td>\n",
              "      <td>Meat</td>\n",
              "      <td>141.6180</td>\n",
              "      <td>OUT049</td>\n",
              "      <td>1999</td>\n",
              "      <td>Medium</td>\n",
              "      <td>Tier 1</td>\n",
              "      <td>Supermarket Type1</td>\n",
              "      <td>2097.2700</td>\n",
              "      <td>train</td>\n",
              "    </tr>\n",
              "    <tr>\n",
              "      <th>3</th>\n",
              "      <td>FDX07</td>\n",
              "      <td>19.20</td>\n",
              "      <td>Regular</td>\n",
              "      <td>0.000000</td>\n",
              "      <td>Fruits and Vegetables</td>\n",
              "      <td>182.0950</td>\n",
              "      <td>OUT010</td>\n",
              "      <td>1998</td>\n",
              "      <td>NaN</td>\n",
              "      <td>Tier 3</td>\n",
              "      <td>Grocery Store</td>\n",
              "      <td>732.3800</td>\n",
              "      <td>train</td>\n",
              "    </tr>\n",
              "    <tr>\n",
              "      <th>4</th>\n",
              "      <td>NCD19</td>\n",
              "      <td>8.93</td>\n",
              "      <td>Low Fat</td>\n",
              "      <td>0.000000</td>\n",
              "      <td>Household</td>\n",
              "      <td>53.8614</td>\n",
              "      <td>OUT013</td>\n",
              "      <td>1987</td>\n",
              "      <td>High</td>\n",
              "      <td>Tier 3</td>\n",
              "      <td>Supermarket Type1</td>\n",
              "      <td>994.7052</td>\n",
              "      <td>train</td>\n",
              "    </tr>\n",
              "  </tbody>\n",
              "</table>\n",
              "</div>"
            ],
            "text/plain": [
              "  Item_Identifier  Item_Weight  ... Item_Outlet_Sales  Source\n",
              "0           FDA15         9.30  ...         3735.1380   train\n",
              "1           DRC01         5.92  ...          443.4228   train\n",
              "2           FDN15        17.50  ...         2097.2700   train\n",
              "3           FDX07        19.20  ...          732.3800   train\n",
              "4           NCD19         8.93  ...          994.7052   train\n",
              "\n",
              "[5 rows x 13 columns]"
            ]
          },
          "metadata": {
            "tags": []
          },
          "execution_count": 17
        }
      ]
    },
    {
      "cell_type": "code",
      "metadata": {
        "colab_type": "code",
        "id": "aPPjVd_NQ32R",
        "outputId": "36c5d668-2429-4e9d-987a-99ac3d4b3ba4",
        "colab": {
          "base_uri": "https://localhost:8080/",
          "height": 282
        }
      },
      "source": [
        "data_Test.head()"
      ],
      "execution_count": 0,
      "outputs": [
        {
          "output_type": "execute_result",
          "data": {
            "text/html": [
              "<div>\n",
              "<style scoped>\n",
              "    .dataframe tbody tr th:only-of-type {\n",
              "        vertical-align: middle;\n",
              "    }\n",
              "\n",
              "    .dataframe tbody tr th {\n",
              "        vertical-align: top;\n",
              "    }\n",
              "\n",
              "    .dataframe thead th {\n",
              "        text-align: right;\n",
              "    }\n",
              "</style>\n",
              "<table border=\"1\" class=\"dataframe\">\n",
              "  <thead>\n",
              "    <tr style=\"text-align: right;\">\n",
              "      <th></th>\n",
              "      <th>Item_Identifier</th>\n",
              "      <th>Item_Weight</th>\n",
              "      <th>Item_Fat_Content</th>\n",
              "      <th>Item_Visibility</th>\n",
              "      <th>Item_Type</th>\n",
              "      <th>Item_MRP</th>\n",
              "      <th>Outlet_Identifier</th>\n",
              "      <th>Outlet_Establishment_Year</th>\n",
              "      <th>Outlet_Size</th>\n",
              "      <th>Outlet_Location_Type</th>\n",
              "      <th>Outlet_Type</th>\n",
              "      <th>Source</th>\n",
              "    </tr>\n",
              "  </thead>\n",
              "  <tbody>\n",
              "    <tr>\n",
              "      <th>0</th>\n",
              "      <td>FDW58</td>\n",
              "      <td>20.750</td>\n",
              "      <td>Low Fat</td>\n",
              "      <td>0.007565</td>\n",
              "      <td>Snack Foods</td>\n",
              "      <td>107.8622</td>\n",
              "      <td>OUT049</td>\n",
              "      <td>1999</td>\n",
              "      <td>Medium</td>\n",
              "      <td>Tier 1</td>\n",
              "      <td>Supermarket Type1</td>\n",
              "      <td>test</td>\n",
              "    </tr>\n",
              "    <tr>\n",
              "      <th>1</th>\n",
              "      <td>FDW14</td>\n",
              "      <td>8.300</td>\n",
              "      <td>reg</td>\n",
              "      <td>0.038428</td>\n",
              "      <td>Dairy</td>\n",
              "      <td>87.3198</td>\n",
              "      <td>OUT017</td>\n",
              "      <td>2007</td>\n",
              "      <td>NaN</td>\n",
              "      <td>Tier 2</td>\n",
              "      <td>Supermarket Type1</td>\n",
              "      <td>test</td>\n",
              "    </tr>\n",
              "    <tr>\n",
              "      <th>2</th>\n",
              "      <td>NCN55</td>\n",
              "      <td>14.600</td>\n",
              "      <td>Low Fat</td>\n",
              "      <td>0.099575</td>\n",
              "      <td>Others</td>\n",
              "      <td>241.7538</td>\n",
              "      <td>OUT010</td>\n",
              "      <td>1998</td>\n",
              "      <td>NaN</td>\n",
              "      <td>Tier 3</td>\n",
              "      <td>Grocery Store</td>\n",
              "      <td>test</td>\n",
              "    </tr>\n",
              "    <tr>\n",
              "      <th>3</th>\n",
              "      <td>FDQ58</td>\n",
              "      <td>7.315</td>\n",
              "      <td>Low Fat</td>\n",
              "      <td>0.015388</td>\n",
              "      <td>Snack Foods</td>\n",
              "      <td>155.0340</td>\n",
              "      <td>OUT017</td>\n",
              "      <td>2007</td>\n",
              "      <td>NaN</td>\n",
              "      <td>Tier 2</td>\n",
              "      <td>Supermarket Type1</td>\n",
              "      <td>test</td>\n",
              "    </tr>\n",
              "    <tr>\n",
              "      <th>4</th>\n",
              "      <td>FDY38</td>\n",
              "      <td>NaN</td>\n",
              "      <td>Regular</td>\n",
              "      <td>0.118599</td>\n",
              "      <td>Dairy</td>\n",
              "      <td>234.2300</td>\n",
              "      <td>OUT027</td>\n",
              "      <td>1985</td>\n",
              "      <td>Medium</td>\n",
              "      <td>Tier 3</td>\n",
              "      <td>Supermarket Type3</td>\n",
              "      <td>test</td>\n",
              "    </tr>\n",
              "  </tbody>\n",
              "</table>\n",
              "</div>"
            ],
            "text/plain": [
              "  Item_Identifier  Item_Weight  ...        Outlet_Type  Source\n",
              "0           FDW58       20.750  ...  Supermarket Type1    test\n",
              "1           FDW14        8.300  ...  Supermarket Type1    test\n",
              "2           NCN55       14.600  ...      Grocery Store    test\n",
              "3           FDQ58        7.315  ...  Supermarket Type1    test\n",
              "4           FDY38          NaN  ...  Supermarket Type3    test\n",
              "\n",
              "[5 rows x 12 columns]"
            ]
          },
          "metadata": {
            "tags": []
          },
          "execution_count": 18
        }
      ]
    },
    {
      "cell_type": "markdown",
      "metadata": {
        "colab_type": "text",
        "id": "pwr_G2GMQ32W"
      },
      "source": [
        "With this it is clear that we have the columns named \"Item_Identifier\",\"Item_Weight\",\"Item_Fat_Content\",\"Item_Visibility\",\"Item_Type\",\"Item_MRP\",\"Outlet_Identifier\",\n",
        "\"Outlet_Establishment_Year\",\"Outlet_Size\",\"Outlet_Location_Type\",\"Outlet_Type\",\"Item_Outlet_Sales\" in our training dataset.<br><br> Of all these attributes all the columns in the starting are **predictors for the outcome \"Item_Outlet_Sales\"**."
      ]
    },
    {
      "cell_type": "markdown",
      "metadata": {
        "colab_type": "text",
        "id": "ZoWQf6n0Q32X"
      },
      "source": [
        "Now check for the datatypes of different columns in the dataset which will be helpful in further data processing operations. "
      ]
    },
    {
      "cell_type": "code",
      "metadata": {
        "colab_type": "code",
        "id": "HOBs3vpcQ32Y",
        "colab": {}
      },
      "source": [
        "data_Train.dtypes"
      ],
      "execution_count": 0,
      "outputs": []
    },
    {
      "cell_type": "code",
      "metadata": {
        "colab_type": "code",
        "id": "n7R6FfJWQ32d",
        "outputId": "6cd83b92-ba67-4eae-8654-c22e75e0c93d",
        "colab": {
          "base_uri": "https://localhost:8080/",
          "height": 238
        }
      },
      "source": [
        "data_Test.dtypes"
      ],
      "execution_count": 0,
      "outputs": [
        {
          "output_type": "execute_result",
          "data": {
            "text/plain": [
              "Item_Identifier               object\n",
              "Item_Weight                  float64\n",
              "Item_Fat_Content              object\n",
              "Item_Visibility              float64\n",
              "Item_Type                     object\n",
              "Item_MRP                     float64\n",
              "Outlet_Identifier             object\n",
              "Outlet_Establishment_Year      int64\n",
              "Outlet_Size                   object\n",
              "Outlet_Location_Type          object\n",
              "Outlet_Type                   object\n",
              "Source                        object\n",
              "dtype: object"
            ]
          },
          "metadata": {
            "tags": []
          },
          "execution_count": 7
        }
      ]
    },
    {
      "cell_type": "markdown",
      "metadata": {
        "colab_type": "text",
        "id": "5-Ac8RIYQ32h"
      },
      "source": [
        "We can see that our dataset has numerical values in them and also we have few of the categorical columns. <br><br>Lets check for any of the missing data items in different attributes for our datasets.  "
      ]
    },
    {
      "cell_type": "code",
      "metadata": {
        "colab_type": "code",
        "id": "wEdEIBL7Q32i",
        "outputId": "ccd89b96-fb59-43fe-a530-b36d4a623374",
        "colab": {
          "base_uri": "https://localhost:8080/",
          "height": 263
        }
      },
      "source": [
        "data_Train.isnull().sum()"
      ],
      "execution_count": 0,
      "outputs": [
        {
          "output_type": "execute_result",
          "data": {
            "text/plain": [
              "Item_Identifier                 0\n",
              "Item_Weight                  1463\n",
              "Item_Fat_Content                0\n",
              "Item_Visibility                 0\n",
              "Item_Type                       0\n",
              "Item_MRP                        0\n",
              "Outlet_Identifier               0\n",
              "Outlet_Establishment_Year       0\n",
              "Outlet_Size                  2410\n",
              "Outlet_Location_Type            0\n",
              "Outlet_Type                     0\n",
              "Item_Outlet_Sales               0\n",
              "Source                          0\n",
              "dtype: int64"
            ]
          },
          "metadata": {
            "tags": []
          },
          "execution_count": 21
        }
      ]
    },
    {
      "cell_type": "markdown",
      "metadata": {
        "colab_type": "text",
        "id": "eR8EjbplQ32r"
      },
      "source": [
        "In our training dataset we have the missing data values for the columns **\"Item_Weight\"** and **\"Outlet_Size\"** each of them having missing values for 1463 and 2410 number of rows. By checking the same for Test dataset. "
      ]
    },
    {
      "cell_type": "code",
      "metadata": {
        "colab_type": "code",
        "id": "f0GuV_FqQ32t",
        "outputId": "1c72bf76-ddde-4159-b563-2480815a9328",
        "colab": {
          "base_uri": "https://localhost:8080/",
          "height": 246
        }
      },
      "source": [
        "data_Test.isnull().sum()"
      ],
      "execution_count": 0,
      "outputs": [
        {
          "output_type": "execute_result",
          "data": {
            "text/plain": [
              "Item_Identifier                 0\n",
              "Item_Weight                   976\n",
              "Item_Fat_Content                0\n",
              "Item_Visibility                 0\n",
              "Item_Type                       0\n",
              "Item_MRP                        0\n",
              "Outlet_Identifier               0\n",
              "Outlet_Establishment_Year       0\n",
              "Outlet_Size                  1606\n",
              "Outlet_Location_Type            0\n",
              "Outlet_Type                     0\n",
              "Source                          0\n",
              "dtype: int64"
            ]
          },
          "metadata": {
            "tags": []
          },
          "execution_count": 22
        }
      ]
    },
    {
      "cell_type": "markdown",
      "metadata": {
        "colab_type": "text",
        "id": "iSoAFI5IQ32z"
      },
      "source": [
        "Our Test dataset also have missing values for **\"Item_Weight\"** and **\"Outlet_Size\"** columns. <br>  <br>\n",
        "For better understanding the values in the dataset lets have a look into the statistics of our datasets."
      ]
    },
    {
      "cell_type": "code",
      "metadata": {
        "colab_type": "code",
        "id": "BYnPPaVJQ320",
        "outputId": "dbd00118-b1ec-410e-b078-81e9b91d78e8",
        "colab": {
          "base_uri": "https://localhost:8080/",
          "height": 284
        }
      },
      "source": [
        "data_Train.describe()"
      ],
      "execution_count": 0,
      "outputs": [
        {
          "output_type": "execute_result",
          "data": {
            "text/html": [
              "<div>\n",
              "<style scoped>\n",
              "    .dataframe tbody tr th:only-of-type {\n",
              "        vertical-align: middle;\n",
              "    }\n",
              "\n",
              "    .dataframe tbody tr th {\n",
              "        vertical-align: top;\n",
              "    }\n",
              "\n",
              "    .dataframe thead th {\n",
              "        text-align: right;\n",
              "    }\n",
              "</style>\n",
              "<table border=\"1\" class=\"dataframe\">\n",
              "  <thead>\n",
              "    <tr style=\"text-align: right;\">\n",
              "      <th></th>\n",
              "      <th>Item_Weight</th>\n",
              "      <th>Item_Visibility</th>\n",
              "      <th>Item_MRP</th>\n",
              "      <th>Outlet_Establishment_Year</th>\n",
              "      <th>Item_Outlet_Sales</th>\n",
              "    </tr>\n",
              "  </thead>\n",
              "  <tbody>\n",
              "    <tr>\n",
              "      <th>count</th>\n",
              "      <td>7060.000000</td>\n",
              "      <td>8523.000000</td>\n",
              "      <td>8523.000000</td>\n",
              "      <td>8523.000000</td>\n",
              "      <td>8523.000000</td>\n",
              "    </tr>\n",
              "    <tr>\n",
              "      <th>mean</th>\n",
              "      <td>12.857645</td>\n",
              "      <td>0.066132</td>\n",
              "      <td>140.992782</td>\n",
              "      <td>1997.831867</td>\n",
              "      <td>2181.288914</td>\n",
              "    </tr>\n",
              "    <tr>\n",
              "      <th>std</th>\n",
              "      <td>4.643456</td>\n",
              "      <td>0.051598</td>\n",
              "      <td>62.275067</td>\n",
              "      <td>8.371760</td>\n",
              "      <td>1706.499616</td>\n",
              "    </tr>\n",
              "    <tr>\n",
              "      <th>min</th>\n",
              "      <td>4.555000</td>\n",
              "      <td>0.000000</td>\n",
              "      <td>31.290000</td>\n",
              "      <td>1985.000000</td>\n",
              "      <td>33.290000</td>\n",
              "    </tr>\n",
              "    <tr>\n",
              "      <th>25%</th>\n",
              "      <td>8.773750</td>\n",
              "      <td>0.026989</td>\n",
              "      <td>93.826500</td>\n",
              "      <td>1987.000000</td>\n",
              "      <td>834.247400</td>\n",
              "    </tr>\n",
              "    <tr>\n",
              "      <th>50%</th>\n",
              "      <td>12.600000</td>\n",
              "      <td>0.053931</td>\n",
              "      <td>143.012800</td>\n",
              "      <td>1999.000000</td>\n",
              "      <td>1794.331000</td>\n",
              "    </tr>\n",
              "    <tr>\n",
              "      <th>75%</th>\n",
              "      <td>16.850000</td>\n",
              "      <td>0.094585</td>\n",
              "      <td>185.643700</td>\n",
              "      <td>2004.000000</td>\n",
              "      <td>3101.296400</td>\n",
              "    </tr>\n",
              "    <tr>\n",
              "      <th>max</th>\n",
              "      <td>21.350000</td>\n",
              "      <td>0.328391</td>\n",
              "      <td>266.888400</td>\n",
              "      <td>2009.000000</td>\n",
              "      <td>13086.964800</td>\n",
              "    </tr>\n",
              "  </tbody>\n",
              "</table>\n",
              "</div>"
            ],
            "text/plain": [
              "       Item_Weight  ...  Item_Outlet_Sales\n",
              "count  7060.000000  ...        8523.000000\n",
              "mean     12.857645  ...        2181.288914\n",
              "std       4.643456  ...        1706.499616\n",
              "min       4.555000  ...          33.290000\n",
              "25%       8.773750  ...         834.247400\n",
              "50%      12.600000  ...        1794.331000\n",
              "75%      16.850000  ...        3101.296400\n",
              "max      21.350000  ...       13086.964800\n",
              "\n",
              "[8 rows x 5 columns]"
            ]
          },
          "metadata": {
            "tags": []
          },
          "execution_count": 23
        }
      ]
    },
    {
      "cell_type": "markdown",
      "metadata": {
        "colab_type": "text",
        "id": "TVfYbuLsQ326"
      },
      "source": [
        "#### Some Important Observations from the Statistics of Training dataset:"
      ]
    },
    {
      "cell_type": "markdown",
      "metadata": {
        "colab_type": "text",
        "id": "f5h-oz8LQ329"
      },
      "source": [
        "1. Column \"Item_Weight\" has values ranging from 4.56 to 21.35 with a mean value of 12.86 (adjusted to 2 decimal points). Count is showing as 7060 although we have 8523 number of rows in our training dataset. This phenomenon is justified by missing value count of 1463.\n",
        "2. \"Item_MRP\" has values ranging from 31.29 to 266.89 with a mean value of 141. \n",
        "3. \"Outlet_Establishment_Year\" has values ranging from 1985 to 2009. From this we can see that, first store started is in 1985 and the most recent store started in 2009."
      ]
    },
    {
      "cell_type": "markdown",
      "metadata": {
        "colab_type": "text",
        "collapsed": true,
        "id": "IBYyxBODQ33J"
      },
      "source": [
        "Doing the same for our Test dataset. "
      ]
    },
    {
      "cell_type": "code",
      "metadata": {
        "colab_type": "code",
        "id": "DVv-tG5EQ33R",
        "colab": {}
      },
      "source": [
        "data_Test.describe()"
      ],
      "execution_count": 0,
      "outputs": []
    },
    {
      "cell_type": "markdown",
      "metadata": {
        "colab_type": "text",
        "id": "6PlZjDBzQ33e"
      },
      "source": [
        "## 4. Dealing with Missing values in the dataset   <a id=4>"
      ]
    },
    {
      "cell_type": "markdown",
      "metadata": {
        "colab_type": "text",
        "id": "fPvRniEAQ33m"
      },
      "source": [
        "We will fill the missing values with the mean of that attribute."
      ]
    },
    {
      "cell_type": "markdown",
      "metadata": {
        "colab_type": "text",
        "id": "eM38sjYfQ33p"
      },
      "source": [
        "Lets have a look at the mean of all the numeric columns in the Training and Test data."
      ]
    },
    {
      "cell_type": "code",
      "metadata": {
        "colab_type": "code",
        "id": "yzido8hUQ33r",
        "outputId": "f99d5e56-15ce-49a4-94e3-60c93b8d0e21",
        "colab": {
          "base_uri": "https://localhost:8080/",
          "height": 119
        }
      },
      "source": [
        "data_Train.mean()"
      ],
      "execution_count": 0,
      "outputs": [
        {
          "output_type": "execute_result",
          "data": {
            "text/plain": [
              "Item_Weight                    12.857645\n",
              "Item_Visibility                 0.066132\n",
              "Item_MRP                      140.992782\n",
              "Outlet_Establishment_Year    1997.831867\n",
              "Item_Outlet_Sales            2181.288914\n",
              "dtype: float64"
            ]
          },
          "metadata": {
            "tags": []
          },
          "execution_count": 8
        }
      ]
    },
    {
      "cell_type": "code",
      "metadata": {
        "colab_type": "code",
        "id": "nm8bxmi0Q331",
        "colab": {}
      },
      "source": [
        "data_Test.mean()"
      ],
      "execution_count": 0,
      "outputs": []
    },
    {
      "cell_type": "markdown",
      "metadata": {
        "colab_type": "text",
        "id": "X-u15SMGQ339"
      },
      "source": [
        "We will fill the missing values with the mean in both Training and Test data"
      ]
    },
    {
      "cell_type": "code",
      "metadata": {
        "colab_type": "code",
        "id": "He6Ik2QmQ34A",
        "colab": {}
      },
      "source": [
        "data_Train = data_Train.fillna(data_Train.mean())"
      ],
      "execution_count": 0,
      "outputs": []
    },
    {
      "cell_type": "code",
      "metadata": {
        "colab_type": "code",
        "id": "GywhIkKsQ34H",
        "colab": {}
      },
      "source": [
        "data_Test = data_Test.fillna(data_Test.mean())"
      ],
      "execution_count": 0,
      "outputs": []
    },
    {
      "cell_type": "markdown",
      "metadata": {
        "colab_type": "text",
        "collapsed": true,
        "id": "0kIPKhWcQ34L"
      },
      "source": [
        "We have missing values in **the categorical variable OutletSize**. We are going to impute the missing values in the Outlet size with the value which will balance this 'Outlet Size' column."
      ]
    },
    {
      "cell_type": "code",
      "metadata": {
        "colab_type": "code",
        "id": "z4QwpcZoQ34N",
        "colab": {}
      },
      "source": [
        "pd.crosstab(data_Train['Outlet_Size'], 'count')"
      ],
      "execution_count": 0,
      "outputs": []
    },
    {
      "cell_type": "code",
      "metadata": {
        "colab_type": "code",
        "id": "trz2IqzpQ34T",
        "outputId": "3eb2a609-8e46-4304-e67a-dabcb78ede7a",
        "colab": {
          "base_uri": "https://localhost:8080/",
          "height": 166
        }
      },
      "source": [
        "pd.crosstab(data_Test['Outlet_Size'], 'count')"
      ],
      "execution_count": 0,
      "outputs": [
        {
          "output_type": "execute_result",
          "data": {
            "text/html": [
              "<div>\n",
              "<style scoped>\n",
              "    .dataframe tbody tr th:only-of-type {\n",
              "        vertical-align: middle;\n",
              "    }\n",
              "\n",
              "    .dataframe tbody tr th {\n",
              "        vertical-align: top;\n",
              "    }\n",
              "\n",
              "    .dataframe thead th {\n",
              "        text-align: right;\n",
              "    }\n",
              "</style>\n",
              "<table border=\"1\" class=\"dataframe\">\n",
              "  <thead>\n",
              "    <tr style=\"text-align: right;\">\n",
              "      <th>col_0</th>\n",
              "      <th>count</th>\n",
              "    </tr>\n",
              "    <tr>\n",
              "      <th>Outlet_Size</th>\n",
              "      <th></th>\n",
              "    </tr>\n",
              "  </thead>\n",
              "  <tbody>\n",
              "    <tr>\n",
              "      <th>High</th>\n",
              "      <td>621</td>\n",
              "    </tr>\n",
              "    <tr>\n",
              "      <th>Medium</th>\n",
              "      <td>1862</td>\n",
              "    </tr>\n",
              "    <tr>\n",
              "      <th>Small</th>\n",
              "      <td>1592</td>\n",
              "    </tr>\n",
              "  </tbody>\n",
              "</table>\n",
              "</div>"
            ],
            "text/plain": [
              "col_0        count\n",
              "Outlet_Size       \n",
              "High           621\n",
              "Medium        1862\n",
              "Small         1592"
            ]
          },
          "metadata": {
            "tags": []
          },
          "execution_count": 30
        }
      ]
    },
    {
      "cell_type": "markdown",
      "metadata": {
        "colab_type": "text",
        "id": "LnPrVJ_6Q34Z"
      },
      "source": [
        "We can observe that the dataset is imbalanced and there are less occurance of \"High\". So we will use this to fill missing values.\n",
        "After this step, out column should be balanced."
      ]
    },
    {
      "cell_type": "code",
      "metadata": {
        "colab_type": "code",
        "id": "DEhglL_8Q34-",
        "outputId": "deea904d-2b0b-43bb-86fe-5a878d8452b7",
        "colab": {
          "base_uri": "https://localhost:8080/",
          "height": 263
        }
      },
      "source": [
        "data_Train.isnull().sum()"
      ],
      "execution_count": 0,
      "outputs": [
        {
          "output_type": "execute_result",
          "data": {
            "text/plain": [
              "Item_Identifier                 0\n",
              "Item_Weight                     0\n",
              "Item_Fat_Content                0\n",
              "Item_Visibility                 0\n",
              "Item_Type                       0\n",
              "Item_MRP                        0\n",
              "Outlet_Identifier               0\n",
              "Outlet_Establishment_Year       0\n",
              "Outlet_Size                  2410\n",
              "Outlet_Location_Type            0\n",
              "Outlet_Type                     0\n",
              "Item_Outlet_Sales               0\n",
              "Source                          0\n",
              "dtype: int64"
            ]
          },
          "metadata": {
            "tags": []
          },
          "execution_count": 31
        }
      ]
    },
    {
      "cell_type": "code",
      "metadata": {
        "colab_type": "code",
        "id": "WEcv1p8FQ35G",
        "outputId": "ef018212-d7dc-4587-ca8d-7a599100b1a4",
        "colab": {
          "base_uri": "https://localhost:8080/",
          "height": 246
        }
      },
      "source": [
        "data_Test.isnull().sum()"
      ],
      "execution_count": 0,
      "outputs": [
        {
          "output_type": "execute_result",
          "data": {
            "text/plain": [
              "Item_Identifier                 0\n",
              "Item_Weight                     0\n",
              "Item_Fat_Content                0\n",
              "Item_Visibility                 0\n",
              "Item_Type                       0\n",
              "Item_MRP                        0\n",
              "Outlet_Identifier               0\n",
              "Outlet_Establishment_Year       0\n",
              "Outlet_Size                  1606\n",
              "Outlet_Location_Type            0\n",
              "Outlet_Type                     0\n",
              "Source                          0\n",
              "dtype: int64"
            ]
          },
          "metadata": {
            "tags": []
          },
          "execution_count": 32
        }
      ]
    },
    {
      "cell_type": "markdown",
      "metadata": {
        "colab_type": "text",
        "id": "Usgd2x_4Q35N"
      },
      "source": [
        "'Outlet Size' of both train and test data are imbalanced because we have less number of occurrence in Class \"High\".  <br>"
      ]
    },
    {
      "cell_type": "code",
      "metadata": {
        "colab_type": "code",
        "id": "vdrrmw73Q35O",
        "colab": {}
      },
      "source": [
        "data_Train['Outlet_Size'] = data_Train['Outlet_Size'].fillna('High')"
      ],
      "execution_count": 0,
      "outputs": []
    },
    {
      "cell_type": "code",
      "metadata": {
        "colab_type": "code",
        "id": "Qblv9sdtQ35S",
        "colab": {}
      },
      "source": [
        "data_Test['Outlet_Size'] = data_Test['Outlet_Size'].fillna('High')"
      ],
      "execution_count": 0,
      "outputs": []
    },
    {
      "cell_type": "code",
      "metadata": {
        "colab_type": "code",
        "id": "9GwKZ5TLQ35Y",
        "outputId": "74df1044-2aef-4a78-9878-4752af163e22",
        "colab": {
          "base_uri": "https://localhost:8080/",
          "height": 166
        }
      },
      "source": [
        "pd.crosstab(data_Train['Outlet_Size'], 'count')"
      ],
      "execution_count": 0,
      "outputs": [
        {
          "output_type": "execute_result",
          "data": {
            "text/html": [
              "<div>\n",
              "<style scoped>\n",
              "    .dataframe tbody tr th:only-of-type {\n",
              "        vertical-align: middle;\n",
              "    }\n",
              "\n",
              "    .dataframe tbody tr th {\n",
              "        vertical-align: top;\n",
              "    }\n",
              "\n",
              "    .dataframe thead th {\n",
              "        text-align: right;\n",
              "    }\n",
              "</style>\n",
              "<table border=\"1\" class=\"dataframe\">\n",
              "  <thead>\n",
              "    <tr style=\"text-align: right;\">\n",
              "      <th>col_0</th>\n",
              "      <th>count</th>\n",
              "    </tr>\n",
              "    <tr>\n",
              "      <th>Outlet_Size</th>\n",
              "      <th></th>\n",
              "    </tr>\n",
              "  </thead>\n",
              "  <tbody>\n",
              "    <tr>\n",
              "      <th>High</th>\n",
              "      <td>3342</td>\n",
              "    </tr>\n",
              "    <tr>\n",
              "      <th>Medium</th>\n",
              "      <td>2793</td>\n",
              "    </tr>\n",
              "    <tr>\n",
              "      <th>Small</th>\n",
              "      <td>2388</td>\n",
              "    </tr>\n",
              "  </tbody>\n",
              "</table>\n",
              "</div>"
            ],
            "text/plain": [
              "col_0        count\n",
              "Outlet_Size       \n",
              "High          3342\n",
              "Medium        2793\n",
              "Small         2388"
            ]
          },
          "metadata": {
            "tags": []
          },
          "execution_count": 35
        }
      ]
    },
    {
      "cell_type": "code",
      "metadata": {
        "colab_type": "code",
        "id": "o-bSysHiQ35c",
        "outputId": "69e9659f-9379-4341-e9d5-03b8a2e343b5",
        "colab": {
          "base_uri": "https://localhost:8080/",
          "height": 166
        }
      },
      "source": [
        "pd.crosstab(data_Test['Outlet_Size'], 'count')"
      ],
      "execution_count": 0,
      "outputs": [
        {
          "output_type": "execute_result",
          "data": {
            "text/html": [
              "<div>\n",
              "<style scoped>\n",
              "    .dataframe tbody tr th:only-of-type {\n",
              "        vertical-align: middle;\n",
              "    }\n",
              "\n",
              "    .dataframe tbody tr th {\n",
              "        vertical-align: top;\n",
              "    }\n",
              "\n",
              "    .dataframe thead th {\n",
              "        text-align: right;\n",
              "    }\n",
              "</style>\n",
              "<table border=\"1\" class=\"dataframe\">\n",
              "  <thead>\n",
              "    <tr style=\"text-align: right;\">\n",
              "      <th>col_0</th>\n",
              "      <th>count</th>\n",
              "    </tr>\n",
              "    <tr>\n",
              "      <th>Outlet_Size</th>\n",
              "      <th></th>\n",
              "    </tr>\n",
              "  </thead>\n",
              "  <tbody>\n",
              "    <tr>\n",
              "      <th>High</th>\n",
              "      <td>2227</td>\n",
              "    </tr>\n",
              "    <tr>\n",
              "      <th>Medium</th>\n",
              "      <td>1862</td>\n",
              "    </tr>\n",
              "    <tr>\n",
              "      <th>Small</th>\n",
              "      <td>1592</td>\n",
              "    </tr>\n",
              "  </tbody>\n",
              "</table>\n",
              "</div>"
            ],
            "text/plain": [
              "col_0        count\n",
              "Outlet_Size       \n",
              "High          2227\n",
              "Medium        1862\n",
              "Small         1592"
            ]
          },
          "metadata": {
            "tags": []
          },
          "execution_count": 36
        }
      ]
    },
    {
      "cell_type": "markdown",
      "metadata": {
        "colab_type": "text",
        "id": "uP6grnmuSV-F"
      },
      "source": [
        "Now both the Train and Test data look balanced.  <br>  <br>\n",
        "Lets check for any more null values."
      ]
    },
    {
      "cell_type": "code",
      "metadata": {
        "colab_type": "code",
        "id": "iYnkVRlEQ35g",
        "outputId": "49fe8555-dd58-4770-f4b1-ec30c4fe3fc3",
        "colab": {
          "base_uri": "https://localhost:8080/",
          "height": 263
        }
      },
      "source": [
        "data_Train.isnull().sum()"
      ],
      "execution_count": 0,
      "outputs": [
        {
          "output_type": "execute_result",
          "data": {
            "text/plain": [
              "Item_Identifier              0\n",
              "Item_Weight                  0\n",
              "Item_Fat_Content             0\n",
              "Item_Visibility              0\n",
              "Item_Type                    0\n",
              "Item_MRP                     0\n",
              "Outlet_Identifier            0\n",
              "Outlet_Establishment_Year    0\n",
              "Outlet_Size                  0\n",
              "Outlet_Location_Type         0\n",
              "Outlet_Type                  0\n",
              "Item_Outlet_Sales            0\n",
              "Source                       0\n",
              "dtype: int64"
            ]
          },
          "metadata": {
            "tags": []
          },
          "execution_count": 37
        }
      ]
    },
    {
      "cell_type": "code",
      "metadata": {
        "colab_type": "code",
        "id": "_OVxFDBcQ35m",
        "outputId": "00fb278f-4dd7-4257-970c-09b9cf1dce5a",
        "colab": {
          "base_uri": "https://localhost:8080/",
          "height": 246
        }
      },
      "source": [
        "data_Test.isnull().sum()"
      ],
      "execution_count": 0,
      "outputs": [
        {
          "output_type": "execute_result",
          "data": {
            "text/plain": [
              "Item_Identifier              0\n",
              "Item_Weight                  0\n",
              "Item_Fat_Content             0\n",
              "Item_Visibility              0\n",
              "Item_Type                    0\n",
              "Item_MRP                     0\n",
              "Outlet_Identifier            0\n",
              "Outlet_Establishment_Year    0\n",
              "Outlet_Size                  0\n",
              "Outlet_Location_Type         0\n",
              "Outlet_Type                  0\n",
              "Source                       0\n",
              "dtype: int64"
            ]
          },
          "metadata": {
            "tags": []
          },
          "execution_count": 38
        }
      ]
    },
    {
      "cell_type": "markdown",
      "metadata": {
        "id": "1hwMiMiWlaEf",
        "colab_type": "text"
      },
      "source": [
        "### Visualizations"
      ]
    },
    {
      "cell_type": "code",
      "metadata": {
        "id": "_Kl759o-laEj",
        "colab_type": "code",
        "outputId": "9f41f9d9-b357-461b-f2f4-f60466d7cbfd",
        "colab": {
          "base_uri": "https://localhost:8080/",
          "height": 926
        }
      },
      "source": [
        "# Lets visualize the relation between the variables\n",
        "\n",
        "sns.pairplot(data_Train)"
      ],
      "execution_count": 0,
      "outputs": [
        {
          "output_type": "execute_result",
          "data": {
            "text/plain": [
              "<seaborn.axisgrid.PairGrid at 0x7f9a6753c5f8>"
            ]
          },
          "metadata": {
            "tags": []
          },
          "execution_count": 39
        },
        {
          "output_type": "display_data",
          "data": {
            "image/png": "[encoded data removed]",
            "text/plain": [
              "<Figure size 900x900 with 30 Axes>"
            ]
          },
          "metadata": {
            "tags": []
          }
        }
      ]
    },
    {
      "cell_type": "markdown",
      "metadata": {
        "id": "AtnxzEzqlaEu",
        "colab_type": "text"
      },
      "source": [
        "**Observation**: There is no significant correlation between the variables."
      ]
    },
    {
      "cell_type": "code",
      "metadata": {
        "id": "fn8BGhBxlaEv",
        "colab_type": "code",
        "colab": {}
      },
      "source": [
        "# Lets have a look at the correlations between the attributes.\n",
        "\n",
        "corr = data_Train.corr()"
      ],
      "execution_count": 0,
      "outputs": []
    },
    {
      "cell_type": "code",
      "metadata": {
        "id": "N4VxQFpflaEx",
        "colab_type": "code",
        "outputId": "20042d7e-bd34-4d6e-9051-c741bd4103c4",
        "colab": {
          "base_uri": "https://localhost:8080/",
          "height": 412
        }
      },
      "source": [
        "sns.heatmap(corr, annot=True)"
      ],
      "execution_count": 0,
      "outputs": [
        {
          "output_type": "execute_result",
          "data": {
            "text/plain": [
              "<matplotlib.axes._subplots.AxesSubplot at 0x7f9a628d9278>"
            ]
          },
          "metadata": {
            "tags": []
          },
          "execution_count": 41
        },
        {
          "output_type": "display_data",
          "data": {
            "image/png": "[encoded data removed]",
            "text/plain": [
              "<Figure size 432x288 with 2 Axes>"
            ]
          },
          "metadata": {
            "tags": []
          }
        }
      ]
    },
    {
      "cell_type": "markdown",
      "metadata": {
        "id": "nRp_DfEQlaE0",
        "colab_type": "text"
      },
      "source": [
        "**Observations**: There is moderate correlation between **Item_Outlet_Sales** and **Item_MRP**."
      ]
    },
    {
      "cell_type": "code",
      "metadata": {
        "id": "HRjBx-hLlaE0",
        "colab_type": "code",
        "outputId": "6aded6e1-d764-4c4d-c79d-741d8d4128c3",
        "colab": {
          "base_uri": "https://localhost:8080/",
          "height": 386
        }
      },
      "source": [
        "sns.lmplot(x='Item_Outlet_Sales', y='Item_MRP', data=data_Train)"
      ],
      "execution_count": 0,
      "outputs": [
        {
          "output_type": "execute_result",
          "data": {
            "text/plain": [
              "<seaborn.axisgrid.FacetGrid at 0x7f9a644b2b00>"
            ]
          },
          "metadata": {
            "tags": []
          },
          "execution_count": 42
        },
        {
          "output_type": "display_data",
          "data": {
            "image/png": "[encoded data removed]",
            "text/plain": [
              "<Figure size 360x360 with 1 Axes>"
            ]
          },
          "metadata": {
            "tags": []
          }
        }
      ]
    },
    {
      "cell_type": "markdown",
      "metadata": {
        "id": "L0aNNaFWlaE3",
        "colab_type": "text"
      },
      "source": [
        "**Observation**: This shows the moderate correlation."
      ]
    },
    {
      "cell_type": "code",
      "metadata": {
        "id": "k9USF1cvlaE4",
        "colab_type": "code",
        "outputId": "738f05a9-52dd-4f74-d89d-87d3f079f4a6",
        "colab": {
          "base_uri": "https://localhost:8080/",
          "height": 510
        }
      },
      "source": [
        "plt.figure(figsize=(15,6))\n",
        "plt.xticks(rotation=90)\n",
        "sns.barplot(x='Item_Type', y = 'Item_Outlet_Sales', data = data_Train)"
      ],
      "execution_count": 0,
      "outputs": [
        {
          "output_type": "execute_result",
          "data": {
            "text/plain": [
              "<matplotlib.axes._subplots.AxesSubplot at 0x7f9a6186f978>"
            ]
          },
          "metadata": {
            "tags": []
          },
          "execution_count": 43
        },
        {
          "output_type": "display_data",
          "data": {
            "image/png": "[encoded data removed]",
            "text/plain": [
              "<Figure size 1080x432 with 1 Axes>"
            ]
          },
          "metadata": {
            "tags": []
          }
        }
      ]
    },
    {
      "cell_type": "markdown",
      "metadata": {
        "id": "9jDaNwPdlaE7",
        "colab_type": "text"
      },
      "source": [
        "**Observation** : Most of the sales amount are happening for Starchy Foods or Seafood. "
      ]
    },
    {
      "cell_type": "code",
      "metadata": {
        "id": "HuQ_65lTlaE8",
        "colab_type": "code",
        "outputId": "5be2be41-e0d2-445d-dea9-9ac78ea2ebcf",
        "colab": {
          "base_uri": "https://localhost:8080/",
          "height": 510
        }
      },
      "source": [
        "plt.figure(figsize=[15,6])\n",
        "plt.xticks(rotation=90)\n",
        "sns.countplot(data_Train.Item_Type,hue=data_Train.Outlet_Location_Type)"
      ],
      "execution_count": 0,
      "outputs": [
        {
          "output_type": "execute_result",
          "data": {
            "text/plain": [
              "<matplotlib.axes._subplots.AxesSubplot at 0x7f9a6177f588>"
            ]
          },
          "metadata": {
            "tags": []
          },
          "execution_count": 44
        },
        {
          "output_type": "display_data",
          "data": {
            "image/png": "[encoded data removed]",
            "text/plain": [
              "<Figure size 1080x432 with 1 Axes>"
            ]
          },
          "metadata": {
            "tags": []
          }
        }
      ]
    },
    {
      "cell_type": "markdown",
      "metadata": {
        "id": "00s-0Q77laE_",
        "colab_type": "text"
      },
      "source": [
        "**Observation**: Fruits and Vegetables are the most sold items in Tier 3 and Tier 1 cities whereas Snack Foods are the most sold items in Tier 2 cities. <br>\n",
        "\n",
        "So finally we can conclude that Fruits and Vegetables are the most sold items in 3 location and Seafood is the least sold item in 3 locations."
      ]
    },
    {
      "cell_type": "code",
      "metadata": {
        "id": "5U2LGKi0laFA",
        "colab_type": "code",
        "outputId": "0611b871-0d42-44cd-9db4-bd8d1423e269",
        "colab": {
          "base_uri": "https://localhost:8080/",
          "height": 897
        }
      },
      "source": [
        "data_Train.groupby(['Outlet_Location_Type'])['Item_Type'].value_counts()"
      ],
      "execution_count": 0,
      "outputs": [
        {
          "output_type": "execute_result",
          "data": {
            "text/plain": [
              "Outlet_Location_Type  Item_Type            \n",
              "Tier 1                Fruits and Vegetables    337\n",
              "                      Snack Foods              334\n",
              "                      Frozen Foods             250\n",
              "                      Household                250\n",
              "                      Dairy                    205\n",
              "                      Baking Goods             185\n",
              "                      Canned                   177\n",
              "                      Health and Hygiene       138\n",
              "                      Meat                     123\n",
              "                      Soft Drinks              120\n",
              "                      Breads                    67\n",
              "                      Hard Drinks               58\n",
              "                      Others                    56\n",
              "                      Starchy Foods             36\n",
              "                      Breakfast                 33\n",
              "                      Seafood                   19\n",
              "Tier 2                Snack Foods              401\n",
              "                      Fruits and Vegetables    399\n",
              "                      Household                296\n",
              "                      Frozen Foods             279\n",
              "                      Canned                   222\n",
              "                      Dairy                    214\n",
              "                      Baking Goods             211\n",
              "                      Health and Hygiene       166\n",
              "                      Soft Drinks              157\n",
              "                      Meat                     125\n",
              "                      Breads                    84\n",
              "                      Hard Drinks               72\n",
              "                      Starchy Foods             53\n",
              "                      Others                    52\n",
              "                      Breakfast                 32\n",
              "                      Seafood                   22\n",
              "Tier 3                Fruits and Vegetables    496\n",
              "                      Snack Foods              465\n",
              "                      Household                364\n",
              "                      Frozen Foods             327\n",
              "                      Dairy                    263\n",
              "                      Baking Goods             252\n",
              "                      Canned                   250\n",
              "                      Health and Hygiene       216\n",
              "                      Meat                     177\n",
              "                      Soft Drinks              168\n",
              "                      Breads                   100\n",
              "                      Hard Drinks               84\n",
              "                      Others                    61\n",
              "                      Starchy Foods             59\n",
              "                      Breakfast                 45\n",
              "                      Seafood                   23\n",
              "Name: Item_Type, dtype: int64"
            ]
          },
          "metadata": {
            "tags": []
          },
          "execution_count": 45
        }
      ]
    },
    {
      "cell_type": "markdown",
      "metadata": {
        "id": "ESR341BUlaFR",
        "colab_type": "text"
      },
      "source": [
        "**Observation** : There is not much difference in purchase patterns in different city types."
      ]
    },
    {
      "cell_type": "code",
      "metadata": {
        "id": "QYH9GoWMlaFR",
        "colab_type": "code",
        "outputId": "9d4c1f3d-5bf7-40ad-8692-61a446107aa3",
        "colab": {
          "base_uri": "https://localhost:8080/",
          "height": 302
        }
      },
      "source": [
        "sns.boxplot(x='Outlet_Size', y = 'Item_Outlet_Sales', data = data_Train)"
      ],
      "execution_count": 0,
      "outputs": [
        {
          "output_type": "execute_result",
          "data": {
            "text/plain": [
              "<matplotlib.axes._subplots.AxesSubplot at 0x7f9a61669160>"
            ]
          },
          "metadata": {
            "tags": []
          },
          "execution_count": 46
        },
        {
          "output_type": "display_data",
          "data": {
            "image/png": "[encoded data removed]",
            "text/plain": [
              "<Figure size 432x288 with 1 Axes>"
            ]
          },
          "metadata": {
            "tags": []
          }
        }
      ]
    },
    {
      "cell_type": "markdown",
      "metadata": {
        "id": "anpPJnL4laFY",
        "colab_type": "text"
      },
      "source": [
        "**Observation**: Maximum sales is incurred from medium size outlets. Outliers are present in the Item_Outlet_Sales across all the given Outlet_Size.<br>\n",
        "\n",
        "Median outlet sales of Medium outlet size varies greatly from High and Small sized outlets and that can be confirmed from the table below."
      ]
    },
    {
      "cell_type": "code",
      "metadata": {
        "scrolled": true,
        "id": "NFohM7XAlaFZ",
        "colab_type": "code",
        "outputId": "cf11fd1f-0158-4b99-da0b-501289361c04",
        "colab": {
          "base_uri": "https://localhost:8080/",
          "height": 105
        }
      },
      "source": [
        "median_sales=data_Train.Item_Outlet_Sales.groupby(data_Train.Outlet_Size).median()\n",
        "median_sales"
      ],
      "execution_count": 0,
      "outputs": [
        {
          "output_type": "execute_result",
          "data": {
            "text/plain": [
              "Outlet_Size\n",
              "High      1637.8680\n",
              "Medium    2251.0698\n",
              "Small     1544.6560\n",
              "Name: Item_Outlet_Sales, dtype: float64"
            ]
          },
          "metadata": {
            "tags": []
          },
          "execution_count": 47
        }
      ]
    },
    {
      "cell_type": "markdown",
      "metadata": {
        "id": "ZaqoecoZqHgl",
        "colab_type": "text"
      },
      "source": [
        ""
      ]
    },
    {
      "cell_type": "code",
      "metadata": {
        "id": "qI_qyK8LlaFc",
        "colab_type": "code",
        "outputId": "4a36708c-e251-42f9-d62b-d0dbaa10872c",
        "colab": {
          "base_uri": "https://localhost:8080/",
          "height": 302
        }
      },
      "source": [
        "sns.barplot(x='Outlet_Size', y = 'Item_Outlet_Sales', data = data_Train)\n"
      ],
      "execution_count": 0,
      "outputs": [
        {
          "output_type": "execute_result",
          "data": {
            "text/plain": [
              "<matplotlib.axes._subplots.AxesSubplot at 0x7f9a61681ef0>"
            ]
          },
          "metadata": {
            "tags": []
          },
          "execution_count": 48
        },
        {
          "output_type": "display_data",
          "data": {
            "image/png": "[encoded data removed]",
            "text/plain": [
              "<Figure size 432x288 with 1 Axes>"
            ]
          },
          "metadata": {
            "tags": []
          }
        }
      ]
    },
    {
      "cell_type": "markdown",
      "metadata": {
        "id": "Z8CN6L7ElaFk",
        "colab_type": "text"
      },
      "source": [
        "**Observation** : Maximum sales is observed in Mid Sized Outlets."
      ]
    },
    {
      "cell_type": "code",
      "metadata": {
        "id": "W3td74bvlaFl",
        "colab_type": "code",
        "outputId": "c2ff87e5-aaba-44ea-89f5-de8f7f7fddc3",
        "colab": {
          "base_uri": "https://localhost:8080/",
          "height": 410
        }
      },
      "source": [
        "plt.figure(figsize=(12,6))\n",
        "sns.barplot(x='Outlet_Type', y = 'Item_Outlet_Sales', data = data_Train)"
      ],
      "execution_count": 0,
      "outputs": [
        {
          "output_type": "execute_result",
          "data": {
            "text/plain": [
              "<matplotlib.axes._subplots.AxesSubplot at 0x7f9a615f4e48>"
            ]
          },
          "metadata": {
            "tags": []
          },
          "execution_count": 49
        },
        {
          "output_type": "display_data",
          "data": {
            "image/png": "[encoded data removed]",
            "text/plain": [
              "<Figure size 864x432 with 1 Axes>"
            ]
          },
          "metadata": {
            "tags": []
          }
        }
      ]
    },
    {
      "cell_type": "markdown",
      "metadata": {
        "id": "YxpQ2R4klaFw",
        "colab_type": "text"
      },
      "source": [
        "**Observation** :  Most of the sales are hapenning in Supermarket Type 3."
      ]
    },
    {
      "cell_type": "code",
      "metadata": {
        "id": "nQglW7wGlaFy",
        "colab_type": "code",
        "outputId": "1690edde-d2fa-41c6-c303-8d755eae0ff7",
        "colab": {
          "base_uri": "https://localhost:8080/",
          "height": 410
        }
      },
      "source": [
        "plt.figure(figsize=(12,6))\n",
        "sns.boxplot(x='Outlet_Establishment_Year', y = 'Item_Outlet_Sales', data = data_Train)"
      ],
      "execution_count": 0,
      "outputs": [
        {
          "output_type": "execute_result",
          "data": {
            "text/plain": [
              "<matplotlib.axes._subplots.AxesSubplot at 0x7f9a614caf98>"
            ]
          },
          "metadata": {
            "tags": []
          },
          "execution_count": 50
        },
        {
          "output_type": "display_data",
          "data": {
            "image/png": "[encoded data removed]",
            "text/plain": [
              "<Figure size 864x432 with 1 Axes>"
            ]
          },
          "metadata": {
            "tags": []
          }
        }
      ]
    },
    {
      "cell_type": "markdown",
      "metadata": {
        "id": "O9LdrC0FlaF6",
        "colab_type": "text"
      },
      "source": [
        "**Observation**: Outliers are observed across all the years and the least sales is observed in the outlets established in 1998. "
      ]
    },
    {
      "cell_type": "code",
      "metadata": {
        "id": "f3WH89KllaF7",
        "colab_type": "code",
        "outputId": "d7597372-85e9-4464-d43e-8f57a51284ba",
        "colab": {
          "base_uri": "https://localhost:8080/",
          "height": 410
        }
      },
      "source": [
        "plt.figure(figsize=(12,6))\n",
        "sns.countplot(data_Train.Outlet_Establishment_Year)"
      ],
      "execution_count": 0,
      "outputs": [
        {
          "output_type": "execute_result",
          "data": {
            "text/plain": [
              "<matplotlib.axes._subplots.AxesSubplot at 0x7f9a61564978>"
            ]
          },
          "metadata": {
            "tags": []
          },
          "execution_count": 51
        },
        {
          "output_type": "display_data",
          "data": {
            "image/png": "[encoded data removed]",
            "text/plain": [
              "<Figure size 864x432 with 1 Axes>"
            ]
          },
          "metadata": {
            "tags": []
          }
        }
      ]
    },
    {
      "cell_type": "markdown",
      "metadata": {
        "id": "0qv-tWSTlaF9",
        "colab_type": "text"
      },
      "source": [
        "**Observation**: In the dataset we have few transactions of outlets established in 1998. <br>\n",
        "This implies that there is less footfalls in outlets established in 1998. "
      ]
    },
    {
      "cell_type": "code",
      "metadata": {
        "id": "nU11yibtlaF9",
        "colab_type": "code",
        "outputId": "6e49e6ca-e673-4294-fc38-1d54c2f71e20",
        "colab": {
          "base_uri": "https://localhost:8080/",
          "height": 410
        }
      },
      "source": [
        "plt.figure(figsize=(12,6))\n",
        "sns.barplot(x='Outlet_Location_Type', y = 'Item_Outlet_Sales', data = data_Train)"
      ],
      "execution_count": 0,
      "outputs": [
        {
          "output_type": "execute_result",
          "data": {
            "text/plain": [
              "<matplotlib.axes._subplots.AxesSubplot at 0x7f9a61396128>"
            ]
          },
          "metadata": {
            "tags": []
          },
          "execution_count": 52
        },
        {
          "output_type": "display_data",
          "data": {
            "image/png": "[encoded data removed]",
            "text/plain": [
              "<Figure size 864x432 with 1 Axes>"
            ]
          },
          "metadata": {
            "tags": []
          }
        }
      ]
    },
    {
      "cell_type": "markdown",
      "metadata": {
        "id": "SNyzgYbqlaGB",
        "colab_type": "text"
      },
      "source": [
        "**Observation** : Maximum sales is observed in Tier 2 and 3 cities. Now we should inspect more for low sales in Tier 1 cities."
      ]
    },
    {
      "cell_type": "code",
      "metadata": {
        "id": "TOblGZiBlaGD",
        "colab_type": "code",
        "outputId": "eff9f992-804f-480f-8df8-5c8a78e9b556",
        "colab": {
          "base_uri": "https://localhost:8080/",
          "height": 87
        }
      },
      "source": [
        "data_Train.Outlet_Location_Type.value_counts()"
      ],
      "execution_count": 0,
      "outputs": [
        {
          "output_type": "execute_result",
          "data": {
            "text/plain": [
              "Tier 3    3350\n",
              "Tier 2    2785\n",
              "Tier 1    2388\n",
              "Name: Outlet_Location_Type, dtype: int64"
            ]
          },
          "metadata": {
            "tags": []
          },
          "execution_count": 53
        }
      ]
    },
    {
      "cell_type": "markdown",
      "metadata": {
        "id": "lSHKgEs-laGI",
        "colab_type": "text"
      },
      "source": [
        "**Observation** : The number of outlets in Tier 1 cities is less than that of Tier 2 and 3 cities. There are more people living in Tier 1 cities and we can expect more Sales over there. But this is not observed in the above graph.<br>\n",
        "<br>\n",
        "**Let us find what factors are influencing the low sales in Tier 1 cities.**"
      ]
    },
    {
      "cell_type": "code",
      "metadata": {
        "id": "DriJtQ9dlaGJ",
        "colab_type": "code",
        "outputId": "ec553b2e-ad91-4ce9-87cd-921f4049d1eb",
        "colab": {
          "base_uri": "https://localhost:8080/",
          "height": 105
        }
      },
      "source": [
        "data_Train.groupby('Outlet_Location_Type')['Item_MRP'].mean()"
      ],
      "execution_count": 0,
      "outputs": [
        {
          "output_type": "execute_result",
          "data": {
            "text/plain": [
              "Outlet_Location_Type\n",
              "Tier 1    140.870106\n",
              "Tier 2    141.167196\n",
              "Tier 3    140.935232\n",
              "Name: Item_MRP, dtype: float64"
            ]
          },
          "metadata": {
            "tags": []
          },
          "execution_count": 54
        }
      ]
    },
    {
      "cell_type": "markdown",
      "metadata": {
        "id": "AfTaiqGdlaGM",
        "colab_type": "text"
      },
      "source": [
        "**Observation**: We wanted to inspect whether Item_MRP has any impact in Low Sales in Tier 1 cities, but from the table above\n",
        "we observe that there average MRP across 3 different Outlet_Location_Type is similar."
      ]
    },
    {
      "cell_type": "code",
      "metadata": {
        "id": "cPF93zVslaGN",
        "colab_type": "code",
        "outputId": "a431780f-8fff-4a67-d634-c6ab4c050539",
        "colab": {
          "base_uri": "https://localhost:8080/",
          "height": 302
        }
      },
      "source": [
        "sns.boxplot(x='Outlet_Location_Type', y = 'Item_Outlet_Sales', hue='Outlet_Size', data = data_Train)"
      ],
      "execution_count": 0,
      "outputs": [
        {
          "output_type": "execute_result",
          "data": {
            "text/plain": [
              "<matplotlib.axes._subplots.AxesSubplot at 0x7f9a61309cc0>"
            ]
          },
          "metadata": {
            "tags": []
          },
          "execution_count": 55
        },
        {
          "output_type": "display_data",
          "data": {
            "image/png": "[encoded data removed]",
            "text/plain": [
              "<Figure size 432x288 with 1 Axes>"
            ]
          },
          "metadata": {
            "tags": []
          }
        }
      ]
    },
    {
      "cell_type": "markdown",
      "metadata": {
        "id": "XFMJQ38dlaGU",
        "colab_type": "text"
      },
      "source": [
        "**Observation**: There are no big outlets in Tier 1 cities. <br>\n",
        "    This gives us the reason why there is less sales in Tier 1 cities."
      ]
    },
    {
      "cell_type": "markdown",
      "metadata": {
        "colab_type": "text",
        "id": "O9DGLEB1Q35q"
      },
      "source": [
        "## 5. Feature Engineering  <a id=5>"
      ]
    },
    {
      "cell_type": "markdown",
      "metadata": {
        "colab_type": "text",
        "id": "bNHb2CLqQ34j"
      },
      "source": [
        "We want to convert **Outlet_Size** column as it is nominal."
      ]
    },
    {
      "cell_type": "code",
      "metadata": {
        "id": "Xpp_JHpPlaGW",
        "colab_type": "code",
        "colab": {}
      },
      "source": [
        "data_Train['Outlet_Size'] = data_Train['Outlet_Size'].replace({'Small':0, 'Medium':1, 'High':2})"
      ],
      "execution_count": 0,
      "outputs": []
    },
    {
      "cell_type": "code",
      "metadata": {
        "id": "8gaS64gplaGZ",
        "colab_type": "code",
        "colab": {}
      },
      "source": [
        "data_Test['Outlet_Size'] = data_Test['Outlet_Size'].replace({'Small':0, 'Medium':1, 'High':2})"
      ],
      "execution_count": 0,
      "outputs": []
    },
    {
      "cell_type": "markdown",
      "metadata": {
        "colab_type": "text",
        "id": "TeyznEL-Q35s"
      },
      "source": [
        "#### Classify the items into broad categories - Creating a derived attribute"
      ]
    },
    {
      "cell_type": "markdown",
      "metadata": {
        "colab_type": "text",
        "id": "6ep0lh_HQ35t"
      },
      "source": [
        "**Let's derive Item_Category based on the Item_Identifier.**\n",
        "\n",
        "If we check the column Item_Identifier keenly we can observe that, Item_Identifier has a code prefixed in it based on the category which they belogns to(FDA15, DRC01, FDX07, NCD19...etc.). Broadly there are three categories of items each of which are identified by FD, DR and NC. Here I'm naming the derived column as Item_Category. "
      ]
    },
    {
      "cell_type": "code",
      "metadata": {
        "colab_type": "code",
        "id": "rHBxqC20Q35u",
        "colab": {}
      },
      "source": [
        "data_Train['Item_Category'] = data_Train['Item_Identifier'].apply(lambda x: x[0:2])"
      ],
      "execution_count": 0,
      "outputs": []
    },
    {
      "cell_type": "markdown",
      "metadata": {
        "colab_type": "text",
        "id": "sbN4qkkgQ35w"
      },
      "source": [
        "In the above line of code, we are extracting the first 2 letters of the Item Identifier.  <br>\n",
        "FDA15 --> FD  <br>\n",
        "DRC01 --> DR  <br>"
      ]
    },
    {
      "cell_type": "code",
      "metadata": {
        "colab_type": "code",
        "id": "G8LldVs1Q35x",
        "outputId": "09edcc89-34e0-437b-f34f-6da9d4a5a9d7",
        "colab": {
          "base_uri": "https://localhost:8080/",
          "height": 87
        }
      },
      "source": [
        "data_Train['Item_Category'].value_counts()"
      ],
      "execution_count": 0,
      "outputs": [
        {
          "output_type": "execute_result",
          "data": {
            "text/plain": [
              "FD    6125\n",
              "NC    1599\n",
              "DR     799\n",
              "Name: Item_Category, dtype: int64"
            ]
          },
          "metadata": {
            "tags": []
          },
          "execution_count": 59
        }
      ]
    },
    {
      "cell_type": "markdown",
      "metadata": {
        "colab_type": "text",
        "id": "HNiwh5EKQ350"
      },
      "source": [
        "Lets do the same for test data."
      ]
    },
    {
      "cell_type": "code",
      "metadata": {
        "colab_type": "code",
        "id": "jwmPhUqoQ351",
        "colab": {}
      },
      "source": [
        "data_Test['Item_Category'] = data_Test['Item_Identifier'].apply(lambda x: x[0:2])"
      ],
      "execution_count": 0,
      "outputs": []
    },
    {
      "cell_type": "code",
      "metadata": {
        "colab_type": "code",
        "id": "QutvvOyjQ354",
        "outputId": "8be0b360-f48a-4bf6-f6c7-e27b32e6418d",
        "colab": {
          "base_uri": "https://localhost:8080/",
          "height": 87
        }
      },
      "source": [
        "data_Test['Item_Category'].value_counts()"
      ],
      "execution_count": 0,
      "outputs": [
        {
          "output_type": "execute_result",
          "data": {
            "text/plain": [
              "FD    4076\n",
              "NC    1087\n",
              "DR     518\n",
              "Name: Item_Category, dtype: int64"
            ]
          },
          "metadata": {
            "tags": []
          },
          "execution_count": 61
        }
      ]
    },
    {
      "cell_type": "markdown",
      "metadata": {
        "colab_type": "text",
        "id": "I_aZpWVvQ356"
      },
      "source": [
        "Lets look at the original data and observe which columns require more cleaning."
      ]
    },
    {
      "cell_type": "code",
      "metadata": {
        "colab_type": "code",
        "id": "PEp_CBQIQ357",
        "outputId": "4902a165-bb06-4c50-929c-c769d5a1e28b",
        "scrolled": true,
        "colab": {
          "base_uri": "https://localhost:8080/",
          "height": 299
        }
      },
      "source": [
        "data_Train.head(5)"
      ],
      "execution_count": 0,
      "outputs": [
        {
          "output_type": "execute_result",
          "data": {
            "text/html": [
              "<div>\n",
              "<style scoped>\n",
              "    .dataframe tbody tr th:only-of-type {\n",
              "        vertical-align: middle;\n",
              "    }\n",
              "\n",
              "    .dataframe tbody tr th {\n",
              "        vertical-align: top;\n",
              "    }\n",
              "\n",
              "    .dataframe thead th {\n",
              "        text-align: right;\n",
              "    }\n",
              "</style>\n",
              "<table border=\"1\" class=\"dataframe\">\n",
              "  <thead>\n",
              "    <tr style=\"text-align: right;\">\n",
              "      <th></th>\n",
              "      <th>Item_Identifier</th>\n",
              "      <th>Item_Weight</th>\n",
              "      <th>Item_Fat_Content</th>\n",
              "      <th>Item_Visibility</th>\n",
              "      <th>Item_Type</th>\n",
              "      <th>Item_MRP</th>\n",
              "      <th>Outlet_Identifier</th>\n",
              "      <th>Outlet_Establishment_Year</th>\n",
              "      <th>Outlet_Size</th>\n",
              "      <th>Outlet_Location_Type</th>\n",
              "      <th>Outlet_Type</th>\n",
              "      <th>Item_Outlet_Sales</th>\n",
              "      <th>Source</th>\n",
              "      <th>Item_Category</th>\n",
              "    </tr>\n",
              "  </thead>\n",
              "  <tbody>\n",
              "    <tr>\n",
              "      <th>0</th>\n",
              "      <td>FDA15</td>\n",
              "      <td>9.30</td>\n",
              "      <td>Low Fat</td>\n",
              "      <td>0.016047</td>\n",
              "      <td>Dairy</td>\n",
              "      <td>249.8092</td>\n",
              "      <td>OUT049</td>\n",
              "      <td>1999</td>\n",
              "      <td>1</td>\n",
              "      <td>Tier 1</td>\n",
              "      <td>Supermarket Type1</td>\n",
              "      <td>3735.1380</td>\n",
              "      <td>train</td>\n",
              "      <td>FD</td>\n",
              "    </tr>\n",
              "    <tr>\n",
              "      <th>1</th>\n",
              "      <td>DRC01</td>\n",
              "      <td>5.92</td>\n",
              "      <td>Regular</td>\n",
              "      <td>0.019278</td>\n",
              "      <td>Soft Drinks</td>\n",
              "      <td>48.2692</td>\n",
              "      <td>OUT018</td>\n",
              "      <td>2009</td>\n",
              "      <td>1</td>\n",
              "      <td>Tier 3</td>\n",
              "      <td>Supermarket Type2</td>\n",
              "      <td>443.4228</td>\n",
              "      <td>train</td>\n",
              "      <td>DR</td>\n",
              "    </tr>\n",
              "    <tr>\n",
              "      <th>2</th>\n",
              "      <td>FDN15</td>\n",
              "      <td>17.50</td>\n",
              "      <td>Low Fat</td>\n",
              "      <td>0.016760</td>\n",
              "      <td>Meat</td>\n",
              "      <td>141.6180</td>\n",
              "      <td>OUT049</td>\n",
              "      <td>1999</td>\n",
              "      <td>1</td>\n",
              "      <td>Tier 1</td>\n",
              "      <td>Supermarket Type1</td>\n",
              "      <td>2097.2700</td>\n",
              "      <td>train</td>\n",
              "      <td>FD</td>\n",
              "    </tr>\n",
              "    <tr>\n",
              "      <th>3</th>\n",
              "      <td>FDX07</td>\n",
              "      <td>19.20</td>\n",
              "      <td>Regular</td>\n",
              "      <td>0.000000</td>\n",
              "      <td>Fruits and Vegetables</td>\n",
              "      <td>182.0950</td>\n",
              "      <td>OUT010</td>\n",
              "      <td>1998</td>\n",
              "      <td>2</td>\n",
              "      <td>Tier 3</td>\n",
              "      <td>Grocery Store</td>\n",
              "      <td>732.3800</td>\n",
              "      <td>train</td>\n",
              "      <td>FD</td>\n",
              "    </tr>\n",
              "    <tr>\n",
              "      <th>4</th>\n",
              "      <td>NCD19</td>\n",
              "      <td>8.93</td>\n",
              "      <td>Low Fat</td>\n",
              "      <td>0.000000</td>\n",
              "      <td>Household</td>\n",
              "      <td>53.8614</td>\n",
              "      <td>OUT013</td>\n",
              "      <td>1987</td>\n",
              "      <td>2</td>\n",
              "      <td>Tier 3</td>\n",
              "      <td>Supermarket Type1</td>\n",
              "      <td>994.7052</td>\n",
              "      <td>train</td>\n",
              "      <td>NC</td>\n",
              "    </tr>\n",
              "  </tbody>\n",
              "</table>\n",
              "</div>"
            ],
            "text/plain": [
              "  Item_Identifier  Item_Weight  ... Source  Item_Category\n",
              "0           FDA15         9.30  ...  train             FD\n",
              "1           DRC01         5.92  ...  train             DR\n",
              "2           FDN15        17.50  ...  train             FD\n",
              "3           FDX07        19.20  ...  train             FD\n",
              "4           NCD19         8.93  ...  train             NC\n",
              "\n",
              "[5 rows x 14 columns]"
            ]
          },
          "metadata": {
            "tags": []
          },
          "execution_count": 62
        }
      ]
    },
    {
      "cell_type": "markdown",
      "metadata": {
        "colab_type": "text",
        "id": "oJ0_5-p9Q35_"
      },
      "source": [
        "If we study the various columns in the data frame we can observe that column Item_Fat_Content has values the following values."
      ]
    },
    {
      "cell_type": "code",
      "metadata": {
        "colab_type": "code",
        "id": "510fHSBPQ36D",
        "outputId": "64932368-a66a-46fd-ecf0-81ecfd86d236",
        "colab": {
          "base_uri": "https://localhost:8080/",
          "height": 34
        }
      },
      "source": [
        "data_Train.Item_Fat_Content.unique()"
      ],
      "execution_count": 0,
      "outputs": [
        {
          "output_type": "execute_result",
          "data": {
            "text/plain": [
              "array(['Low Fat', 'Regular', 'low fat', 'LF', 'reg'], dtype=object)"
            ]
          },
          "metadata": {
            "tags": []
          },
          "execution_count": 63
        }
      ]
    },
    {
      "cell_type": "code",
      "metadata": {
        "colab_type": "code",
        "id": "gAQ-UsgAQ36H",
        "outputId": "bc8a272c-208d-483e-ac5e-4f47b2f140e3",
        "colab": {
          "base_uri": "https://localhost:8080/",
          "height": 34
        }
      },
      "source": [
        "data_Test.Item_Fat_Content.unique()"
      ],
      "execution_count": 0,
      "outputs": [
        {
          "output_type": "execute_result",
          "data": {
            "text/plain": [
              "array(['Low Fat', 'reg', 'Regular', 'LF', 'low fat'], dtype=object)"
            ]
          },
          "metadata": {
            "tags": []
          },
          "execution_count": 64
        }
      ]
    },
    {
      "cell_type": "markdown",
      "metadata": {
        "colab_type": "text",
        "id": "CNWE4mdtQ36K"
      },
      "source": [
        "We can see that column Item_Fat_Content has two different values indicating each amount of Fat Content such as **Low Fat and LF** for items with low value of Fat content. Similarly with the **Regular and reg** for regular fat content items.  <br>\n",
        "We are going to replace these multiple categories into 2 categories."
      ]
    },
    {
      "cell_type": "code",
      "metadata": {
        "colab_type": "code",
        "id": "Krs2C9zJQ36L",
        "outputId": "e9c26000-2416-46ff-e9e1-8f33d8aa2d01",
        "colab": {
          "base_uri": "https://localhost:8080/",
          "height": 34
        }
      },
      "source": [
        "data_Train['Item_Fat_Content'] = data_Train['Item_Fat_Content'].replace({'LF':'Low Fat','reg':'Regular','low fat':'Low Fat'})\n",
        "data_Train.reset_index(level=0, inplace=True)\n",
        "\n",
        "#Check if they are replaced properly\n",
        "data_Train.Item_Fat_Content.unique()"
      ],
      "execution_count": 0,
      "outputs": [
        {
          "output_type": "execute_result",
          "data": {
            "text/plain": [
              "array(['Low Fat', 'Regular'], dtype=object)"
            ]
          },
          "metadata": {
            "tags": []
          },
          "execution_count": 65
        }
      ]
    },
    {
      "cell_type": "code",
      "metadata": {
        "colab_type": "code",
        "id": "jw6TNAi5Q36O",
        "outputId": "4f720d01-1841-4402-ce87-7b5567fee576",
        "colab": {
          "base_uri": "https://localhost:8080/",
          "height": 34
        }
      },
      "source": [
        "data_Test['Item_Fat_Content'] = data_Test['Item_Fat_Content'].replace({'LF':'Low Fat','reg':'Regular','low fat':'Low Fat'})\n",
        "data_Test.reset_index(level=0, inplace=True)\n",
        "\n",
        "#Check if they are replaced properly\n",
        "data_Test.Item_Fat_Content.unique()"
      ],
      "execution_count": 0,
      "outputs": [
        {
          "output_type": "execute_result",
          "data": {
            "text/plain": [
              "array(['Low Fat', 'Regular'], dtype=object)"
            ]
          },
          "metadata": {
            "tags": []
          },
          "execution_count": 66
        }
      ]
    },
    {
      "cell_type": "markdown",
      "metadata": {
        "colab_type": "text",
        "id": "3US51pacQ36S"
      },
      "source": [
        "Now we have two types of fat contents for all the items, however we know from the previous steps that we have non-consumable items. Having fat content for those items doesn't make sense. Let's create a new category for them. "
      ]
    },
    {
      "cell_type": "code",
      "metadata": {
        "colab_type": "code",
        "id": "-_nK2Y_hQ36S",
        "colab": {}
      },
      "source": [
        "data_Train.loc[data_Train['Item_Category']==\"NC\",'Item_Fat_Content'] = \"Non-Edible\""
      ],
      "execution_count": 0,
      "outputs": []
    },
    {
      "cell_type": "code",
      "metadata": {
        "colab_type": "code",
        "id": "o1oVM8hfQ36U",
        "colab": {}
      },
      "source": [
        "data_Test.loc[data_Test['Item_Category']==\"NC\",'Item_Fat_Content'] = \"Non-Edible\""
      ],
      "execution_count": 0,
      "outputs": []
    },
    {
      "cell_type": "markdown",
      "metadata": {
        "colab_type": "text",
        "id": "v5OhwjivQ36X"
      },
      "source": [
        "Let's have a look at the data once"
      ]
    },
    {
      "cell_type": "code",
      "metadata": {
        "colab_type": "code",
        "id": "-TIS1JLfQ36X",
        "outputId": "f431f4aa-e243-41df-86dd-bee7d823f396",
        "colab": {
          "base_uri": "https://localhost:8080/",
          "height": 34
        }
      },
      "source": [
        "data_Test.Item_Fat_Content.unique()"
      ],
      "execution_count": 0,
      "outputs": [
        {
          "output_type": "execute_result",
          "data": {
            "text/plain": [
              "array(['Low Fat', 'Regular', 'Non-Edible'], dtype=object)"
            ]
          },
          "metadata": {
            "tags": []
          },
          "execution_count": 69
        }
      ]
    },
    {
      "cell_type": "code",
      "metadata": {
        "colab_type": "code",
        "id": "Y1VbSmG0Q36a",
        "outputId": "89ea1f81-ba04-48cb-d980-872d5125037b",
        "colab": {
          "base_uri": "https://localhost:8080/",
          "height": 166
        }
      },
      "source": [
        "pd.crosstab(data_Train.Outlet_Size,1)"
      ],
      "execution_count": 0,
      "outputs": [
        {
          "output_type": "execute_result",
          "data": {
            "text/html": [
              "<div>\n",
              "<style scoped>\n",
              "    .dataframe tbody tr th:only-of-type {\n",
              "        vertical-align: middle;\n",
              "    }\n",
              "\n",
              "    .dataframe tbody tr th {\n",
              "        vertical-align: top;\n",
              "    }\n",
              "\n",
              "    .dataframe thead th {\n",
              "        text-align: right;\n",
              "    }\n",
              "</style>\n",
              "<table border=\"1\" class=\"dataframe\">\n",
              "  <thead>\n",
              "    <tr style=\"text-align: right;\">\n",
              "      <th>col_0</th>\n",
              "      <th>1</th>\n",
              "    </tr>\n",
              "    <tr>\n",
              "      <th>Outlet_Size</th>\n",
              "      <th></th>\n",
              "    </tr>\n",
              "  </thead>\n",
              "  <tbody>\n",
              "    <tr>\n",
              "      <th>0</th>\n",
              "      <td>2388</td>\n",
              "    </tr>\n",
              "    <tr>\n",
              "      <th>1</th>\n",
              "      <td>2793</td>\n",
              "    </tr>\n",
              "    <tr>\n",
              "      <th>2</th>\n",
              "      <td>3342</td>\n",
              "    </tr>\n",
              "  </tbody>\n",
              "</table>\n",
              "</div>"
            ],
            "text/plain": [
              "col_0           1\n",
              "Outlet_Size      \n",
              "0            2388\n",
              "1            2793\n",
              "2            3342"
            ]
          },
          "metadata": {
            "tags": []
          },
          "execution_count": 70
        }
      ]
    },
    {
      "cell_type": "markdown",
      "metadata": {
        "colab_type": "text",
        "id": "Y7z821ywQ36f"
      },
      "source": [
        "## 6. Handling Categorical Variables  <a id=6>"
      ]
    },
    {
      "cell_type": "code",
      "metadata": {
        "colab_type": "code",
        "id": "B54Lhoc8Q36g",
        "outputId": "b00e3285-eaf1-4c5f-8c96-a75c0ada3fe2",
        "colab": {
          "base_uri": "https://localhost:8080/",
          "height": 34
        }
      },
      "source": [
        "data_Train.head()\n",
        "\n",
        "# Lets drop the columns which have been feature engineered and have no effect on the model\n",
        "\n",
        "data_Train.drop(['index','Item_Identifier','Outlet_Identifier','Source','Outlet_Establishment_Year'], axis=1, inplace=True)\n",
        "data_Train.shape"
      ],
      "execution_count": 0,
      "outputs": [
        {
          "output_type": "execute_result",
          "data": {
            "text/plain": [
              "(8523, 10)"
            ]
          },
          "metadata": {
            "tags": []
          },
          "execution_count": 71
        }
      ]
    },
    {
      "cell_type": "code",
      "metadata": {
        "colab_type": "code",
        "id": "EMQA6RVrQ36k",
        "outputId": "33679db0-25b5-40cf-d0c7-8fa5f7ae4d73",
        "colab": {
          "base_uri": "https://localhost:8080/",
          "height": 299
        }
      },
      "source": [
        "data_Train.head()"
      ],
      "execution_count": 0,
      "outputs": [
        {
          "output_type": "execute_result",
          "data": {
            "text/html": [
              "<div>\n",
              "<style scoped>\n",
              "    .dataframe tbody tr th:only-of-type {\n",
              "        vertical-align: middle;\n",
              "    }\n",
              "\n",
              "    .dataframe tbody tr th {\n",
              "        vertical-align: top;\n",
              "    }\n",
              "\n",
              "    .dataframe thead th {\n",
              "        text-align: right;\n",
              "    }\n",
              "</style>\n",
              "<table border=\"1\" class=\"dataframe\">\n",
              "  <thead>\n",
              "    <tr style=\"text-align: right;\">\n",
              "      <th></th>\n",
              "      <th>Item_Weight</th>\n",
              "      <th>Item_Fat_Content</th>\n",
              "      <th>Item_Visibility</th>\n",
              "      <th>Item_Type</th>\n",
              "      <th>Item_MRP</th>\n",
              "      <th>Outlet_Size</th>\n",
              "      <th>Outlet_Location_Type</th>\n",
              "      <th>Outlet_Type</th>\n",
              "      <th>Item_Outlet_Sales</th>\n",
              "      <th>Item_Category</th>\n",
              "    </tr>\n",
              "  </thead>\n",
              "  <tbody>\n",
              "    <tr>\n",
              "      <th>0</th>\n",
              "      <td>9.30</td>\n",
              "      <td>Low Fat</td>\n",
              "      <td>0.016047</td>\n",
              "      <td>Dairy</td>\n",
              "      <td>249.8092</td>\n",
              "      <td>1</td>\n",
              "      <td>Tier 1</td>\n",
              "      <td>Supermarket Type1</td>\n",
              "      <td>3735.1380</td>\n",
              "      <td>FD</td>\n",
              "    </tr>\n",
              "    <tr>\n",
              "      <th>1</th>\n",
              "      <td>5.92</td>\n",
              "      <td>Regular</td>\n",
              "      <td>0.019278</td>\n",
              "      <td>Soft Drinks</td>\n",
              "      <td>48.2692</td>\n",
              "      <td>1</td>\n",
              "      <td>Tier 3</td>\n",
              "      <td>Supermarket Type2</td>\n",
              "      <td>443.4228</td>\n",
              "      <td>DR</td>\n",
              "    </tr>\n",
              "    <tr>\n",
              "      <th>2</th>\n",
              "      <td>17.50</td>\n",
              "      <td>Low Fat</td>\n",
              "      <td>0.016760</td>\n",
              "      <td>Meat</td>\n",
              "      <td>141.6180</td>\n",
              "      <td>1</td>\n",
              "      <td>Tier 1</td>\n",
              "      <td>Supermarket Type1</td>\n",
              "      <td>2097.2700</td>\n",
              "      <td>FD</td>\n",
              "    </tr>\n",
              "    <tr>\n",
              "      <th>3</th>\n",
              "      <td>19.20</td>\n",
              "      <td>Regular</td>\n",
              "      <td>0.000000</td>\n",
              "      <td>Fruits and Vegetables</td>\n",
              "      <td>182.0950</td>\n",
              "      <td>2</td>\n",
              "      <td>Tier 3</td>\n",
              "      <td>Grocery Store</td>\n",
              "      <td>732.3800</td>\n",
              "      <td>FD</td>\n",
              "    </tr>\n",
              "    <tr>\n",
              "      <th>4</th>\n",
              "      <td>8.93</td>\n",
              "      <td>Non-Edible</td>\n",
              "      <td>0.000000</td>\n",
              "      <td>Household</td>\n",
              "      <td>53.8614</td>\n",
              "      <td>2</td>\n",
              "      <td>Tier 3</td>\n",
              "      <td>Supermarket Type1</td>\n",
              "      <td>994.7052</td>\n",
              "      <td>NC</td>\n",
              "    </tr>\n",
              "  </tbody>\n",
              "</table>\n",
              "</div>"
            ],
            "text/plain": [
              "   Item_Weight Item_Fat_Content  ...  Item_Outlet_Sales Item_Category\n",
              "0         9.30          Low Fat  ...          3735.1380            FD\n",
              "1         5.92          Regular  ...           443.4228            DR\n",
              "2        17.50          Low Fat  ...          2097.2700            FD\n",
              "3        19.20          Regular  ...           732.3800            FD\n",
              "4         8.93       Non-Edible  ...           994.7052            NC\n",
              "\n",
              "[5 rows x 10 columns]"
            ]
          },
          "metadata": {
            "tags": []
          },
          "execution_count": 72
        }
      ]
    },
    {
      "cell_type": "markdown",
      "metadata": {
        "colab_type": "text",
        "id": "rFne751zQ36n"
      },
      "source": [
        "For model building with Sci-kit learn we need to have the variables as numerical values. However,we have few variables with the text columns. We are going to dummify these categorical columns before building network on it."
      ]
    },
    {
      "cell_type": "code",
      "metadata": {
        "colab_type": "code",
        "id": "LpR_lDQVQ36o",
        "colab": {}
      },
      "source": [
        "# All the categorical columns\n",
        "\n",
        "var_mod = ['Item_Fat_Content','Outlet_Location_Type','Outlet_Size','Item_Category','Outlet_Type','Item_Type']"
      ],
      "execution_count": 0,
      "outputs": []
    },
    {
      "cell_type": "code",
      "metadata": {
        "colab_type": "code",
        "id": "hMkmi5XYQ36q",
        "outputId": "7d127536-d8db-4f4a-8d5f-a62de6e1a3d5",
        "colab": {
          "base_uri": "https://localhost:8080/",
          "height": 87
        }
      },
      "source": [
        "data_Train.columns"
      ],
      "execution_count": 0,
      "outputs": [
        {
          "output_type": "execute_result",
          "data": {
            "text/plain": [
              "Index(['Item_Weight', 'Item_Fat_Content', 'Item_Visibility', 'Item_Type',\n",
              "       'Item_MRP', 'Outlet_Size', 'Outlet_Location_Type', 'Outlet_Type',\n",
              "       'Item_Outlet_Sales', 'Item_Category'],\n",
              "      dtype='object')"
            ]
          },
          "metadata": {
            "tags": []
          },
          "execution_count": 74
        }
      ]
    },
    {
      "cell_type": "code",
      "metadata": {
        "colab_type": "code",
        "id": "h6wvNj1AQ36t",
        "colab": {}
      },
      "source": [
        "# Dataframe of all the categorical columns\n",
        "\n",
        "categorical_cols=data_Train[var_mod]"
      ],
      "execution_count": 0,
      "outputs": []
    },
    {
      "cell_type": "code",
      "metadata": {
        "colab_type": "code",
        "id": "4ytH2cwYQ36w",
        "outputId": "b6d11869-a08e-44a0-c7e7-94a764f5e247",
        "colab": {
          "base_uri": "https://localhost:8080/",
          "height": 122
        }
      },
      "source": [
        "# Lets convert 'Outlet_Size' to string data type\n",
        "\n",
        "categorical_cols['Outlet_Size']=categorical_cols['Outlet_Size'].astype(str)"
      ],
      "execution_count": 0,
      "outputs": [
        {
          "output_type": "stream",
          "text": [
            "/usr/local/lib/python3.6/dist-packages/ipykernel_launcher.py:2: SettingWithCopyWarning: \n",
            "A value is trying to be set on a copy of a slice from a DataFrame.\n",
            "Try using .loc[row_indexer,col_indexer] = value instead\n",
            "\n",
            "See the caveats in the documentation: http://pandas.pydata.org/pandas-docs/stable/indexing.html#indexing-view-versus-copy\n",
            "  \n"
          ],
          "name": "stderr"
        }
      ]
    },
    {
      "cell_type": "code",
      "metadata": {
        "colab_type": "code",
        "id": "FPTS95oEQ36z",
        "outputId": "b3986ee7-8644-41c1-829c-aa783dc4d683",
        "colab": {
          "base_uri": "https://localhost:8080/",
          "height": 166
        }
      },
      "source": [
        "# Lets check the value counts of the Outlet_Size\n",
        "\n",
        "pd.crosstab(categorical_cols.Outlet_Size,1)"
      ],
      "execution_count": 0,
      "outputs": [
        {
          "output_type": "execute_result",
          "data": {
            "text/html": [
              "<div>\n",
              "<style scoped>\n",
              "    .dataframe tbody tr th:only-of-type {\n",
              "        vertical-align: middle;\n",
              "    }\n",
              "\n",
              "    .dataframe tbody tr th {\n",
              "        vertical-align: top;\n",
              "    }\n",
              "\n",
              "    .dataframe thead th {\n",
              "        text-align: right;\n",
              "    }\n",
              "</style>\n",
              "<table border=\"1\" class=\"dataframe\">\n",
              "  <thead>\n",
              "    <tr style=\"text-align: right;\">\n",
              "      <th>col_0</th>\n",
              "      <th>1</th>\n",
              "    </tr>\n",
              "    <tr>\n",
              "      <th>Outlet_Size</th>\n",
              "      <th></th>\n",
              "    </tr>\n",
              "  </thead>\n",
              "  <tbody>\n",
              "    <tr>\n",
              "      <th>0</th>\n",
              "      <td>2388</td>\n",
              "    </tr>\n",
              "    <tr>\n",
              "      <th>1</th>\n",
              "      <td>2793</td>\n",
              "    </tr>\n",
              "    <tr>\n",
              "      <th>2</th>\n",
              "      <td>3342</td>\n",
              "    </tr>\n",
              "  </tbody>\n",
              "</table>\n",
              "</div>"
            ],
            "text/plain": [
              "col_0           1\n",
              "Outlet_Size      \n",
              "0            2388\n",
              "1            2793\n",
              "2            3342"
            ]
          },
          "metadata": {
            "tags": []
          },
          "execution_count": 77
        }
      ]
    },
    {
      "cell_type": "markdown",
      "metadata": {
        "colab_type": "text",
        "id": "3LFNOGvaQ361"
      },
      "source": [
        "In the next step, we will dummify the categorical columns. We will also drop the first column of all the dummied categories."
      ]
    },
    {
      "cell_type": "code",
      "metadata": {
        "colab_type": "code",
        "id": "xC2akZz1Q362",
        "colab": {}
      },
      "source": [
        "dummy_encoded_Train_data = pd.get_dummies(categorical_cols, drop_first = True)"
      ],
      "execution_count": 0,
      "outputs": []
    },
    {
      "cell_type": "code",
      "metadata": {
        "colab_type": "code",
        "id": "YsfOcCZoQ365",
        "outputId": "2bb79d43-e958-4aab-9f72-820fc5118e87",
        "colab": {
          "base_uri": "https://localhost:8080/",
          "height": 34
        }
      },
      "source": [
        "dummy_encoded_Train_data.shape"
      ],
      "execution_count": 0,
      "outputs": [
        {
          "output_type": "execute_result",
          "data": {
            "text/plain": [
              "(8523, 26)"
            ]
          },
          "metadata": {
            "tags": []
          },
          "execution_count": 79
        }
      ]
    },
    {
      "cell_type": "code",
      "metadata": {
        "colab_type": "code",
        "id": "5AK22jD2Q368",
        "outputId": "6f5c25a7-a629-42ed-e178-798c0f55a569",
        "colab": {
          "base_uri": "https://localhost:8080/",
          "height": 228
        }
      },
      "source": [
        "dummy_encoded_Train_data.columns"
      ],
      "execution_count": 0,
      "outputs": [
        {
          "output_type": "execute_result",
          "data": {
            "text/plain": [
              "Index(['Item_Fat_Content_Non-Edible', 'Item_Fat_Content_Regular',\n",
              "       'Outlet_Location_Type_Tier 2', 'Outlet_Location_Type_Tier 3',\n",
              "       'Outlet_Size_1', 'Outlet_Size_2', 'Item_Category_FD',\n",
              "       'Item_Category_NC', 'Outlet_Type_Supermarket Type1',\n",
              "       'Outlet_Type_Supermarket Type2', 'Outlet_Type_Supermarket Type3',\n",
              "       'Item_Type_Breads', 'Item_Type_Breakfast', 'Item_Type_Canned',\n",
              "       'Item_Type_Dairy', 'Item_Type_Frozen Foods',\n",
              "       'Item_Type_Fruits and Vegetables', 'Item_Type_Hard Drinks',\n",
              "       'Item_Type_Health and Hygiene', 'Item_Type_Household', 'Item_Type_Meat',\n",
              "       'Item_Type_Others', 'Item_Type_Seafood', 'Item_Type_Snack Foods',\n",
              "       'Item_Type_Soft Drinks', 'Item_Type_Starchy Foods'],\n",
              "      dtype='object')"
            ]
          },
          "metadata": {
            "tags": []
          },
          "execution_count": 80
        }
      ]
    },
    {
      "cell_type": "markdown",
      "metadata": {
        "colab_type": "text",
        "id": "KZFTwSpWQ36-"
      },
      "source": [
        "Lets check the shape of data_Train before we merge it with dummy_encoded_train"
      ]
    },
    {
      "cell_type": "code",
      "metadata": {
        "colab_type": "code",
        "id": "m0f0bA3pQ36_",
        "outputId": "b72aad9f-81dd-488f-b10c-42617a548315",
        "colab": {
          "base_uri": "https://localhost:8080/",
          "height": 34
        }
      },
      "source": [
        "data_Train.shape"
      ],
      "execution_count": 0,
      "outputs": [
        {
          "output_type": "execute_result",
          "data": {
            "text/plain": [
              "(8523, 10)"
            ]
          },
          "metadata": {
            "tags": []
          },
          "execution_count": 81
        }
      ]
    },
    {
      "cell_type": "code",
      "metadata": {
        "colab_type": "code",
        "id": "I55SCzzEQ37F",
        "outputId": "c7650ca1-1e96-4683-d1b1-122b2dd67242",
        "colab": {
          "base_uri": "https://localhost:8080/",
          "height": 87
        }
      },
      "source": [
        "data_Train.columns"
      ],
      "execution_count": 0,
      "outputs": [
        {
          "output_type": "execute_result",
          "data": {
            "text/plain": [
              "Index(['Item_Weight', 'Item_Fat_Content', 'Item_Visibility', 'Item_Type',\n",
              "       'Item_MRP', 'Outlet_Size', 'Outlet_Location_Type', 'Outlet_Type',\n",
              "       'Item_Outlet_Sales', 'Item_Category'],\n",
              "      dtype='object')"
            ]
          },
          "metadata": {
            "tags": []
          },
          "execution_count": 82
        }
      ]
    },
    {
      "cell_type": "markdown",
      "metadata": {
        "colab_type": "text",
        "id": "k7U4VAtEQ37H"
      },
      "source": [
        "Lets concat the two dataframe, data_Train and dummy_encoded_train"
      ]
    },
    {
      "cell_type": "code",
      "metadata": {
        "colab_type": "code",
        "id": "6W3fItZSQ37I",
        "scrolled": true,
        "colab": {}
      },
      "source": [
        "onehot_encoded_data_Train=pd.concat([data_Train,dummy_encoded_Train_data],1)"
      ],
      "execution_count": 0,
      "outputs": []
    },
    {
      "cell_type": "code",
      "metadata": {
        "colab_type": "code",
        "id": "0S2Yk6s8Q37K",
        "outputId": "9964929c-1199-4c16-df59-64ebcfecefac",
        "colab": {
          "base_uri": "https://localhost:8080/",
          "height": 263
        }
      },
      "source": [
        "onehot_encoded_data_Train.columns"
      ],
      "execution_count": 0,
      "outputs": [
        {
          "output_type": "execute_result",
          "data": {
            "text/plain": [
              "Index(['Item_Weight', 'Item_Fat_Content', 'Item_Visibility', 'Item_Type',\n",
              "       'Item_MRP', 'Outlet_Size', 'Outlet_Location_Type', 'Outlet_Type',\n",
              "       'Item_Outlet_Sales', 'Item_Category', 'Item_Fat_Content_Non-Edible',\n",
              "       'Item_Fat_Content_Regular', 'Outlet_Location_Type_Tier 2',\n",
              "       'Outlet_Location_Type_Tier 3', 'Outlet_Size_1', 'Outlet_Size_2',\n",
              "       'Item_Category_FD', 'Item_Category_NC', 'Outlet_Type_Supermarket Type1',\n",
              "       'Outlet_Type_Supermarket Type2', 'Outlet_Type_Supermarket Type3',\n",
              "       'Item_Type_Breads', 'Item_Type_Breakfast', 'Item_Type_Canned',\n",
              "       'Item_Type_Dairy', 'Item_Type_Frozen Foods',\n",
              "       'Item_Type_Fruits and Vegetables', 'Item_Type_Hard Drinks',\n",
              "       'Item_Type_Health and Hygiene', 'Item_Type_Household', 'Item_Type_Meat',\n",
              "       'Item_Type_Others', 'Item_Type_Seafood', 'Item_Type_Snack Foods',\n",
              "       'Item_Type_Soft Drinks', 'Item_Type_Starchy Foods'],\n",
              "      dtype='object')"
            ]
          },
          "metadata": {
            "tags": []
          },
          "execution_count": 84
        }
      ]
    },
    {
      "cell_type": "code",
      "metadata": {
        "colab_type": "code",
        "id": "st3soDdjQ37O",
        "outputId": "75be7de8-4ee4-4e6d-a636-997e85147b0a",
        "colab": {
          "base_uri": "https://localhost:8080/",
          "height": 34
        }
      },
      "source": [
        "onehot_encoded_data_Train.shape"
      ],
      "execution_count": 0,
      "outputs": [
        {
          "output_type": "execute_result",
          "data": {
            "text/plain": [
              "(8523, 36)"
            ]
          },
          "metadata": {
            "tags": []
          },
          "execution_count": 85
        }
      ]
    },
    {
      "cell_type": "markdown",
      "metadata": {
        "colab_type": "text",
        "id": "FW5-ryA0Q37X"
      },
      "source": [
        "You can see that the number of columns have increased from 10 to 36 after one hot encoding.  <br>\n",
        "Lets drop the categorical columns now, as we have their dummified columns as well."
      ]
    },
    {
      "cell_type": "code",
      "metadata": {
        "colab_type": "code",
        "id": "eqI4c9IcQ37Z",
        "colab": {}
      },
      "source": [
        "drop_categorical_cols=data_Train[var_mod]"
      ],
      "execution_count": 0,
      "outputs": []
    },
    {
      "cell_type": "code",
      "metadata": {
        "colab_type": "code",
        "id": "e3kHwQF5Q37e",
        "outputId": "bb4469cc-a2d3-4077-8e04-0d9caca4f5d2",
        "colab": {
          "base_uri": "https://localhost:8080/",
          "height": 34
        }
      },
      "source": [
        "onehot_encoded_data_Train.drop(drop_categorical_cols,1,inplace=True)\n",
        "onehot_encoded_data_Train.shape"
      ],
      "execution_count": 0,
      "outputs": [
        {
          "output_type": "execute_result",
          "data": {
            "text/plain": [
              "(8523, 30)"
            ]
          },
          "metadata": {
            "tags": []
          },
          "execution_count": 87
        }
      ]
    },
    {
      "cell_type": "markdown",
      "metadata": {
        "colab_type": "text",
        "id": "4hCMVH2tQ37h"
      },
      "source": [
        "We have dropped 6 categorical columns and brought down the columns to 30."
      ]
    },
    {
      "cell_type": "code",
      "metadata": {
        "colab_type": "code",
        "id": "Afi_f4btQ37i",
        "outputId": "a8390a23-eba2-441d-8db9-268decaec4e1",
        "colab": {
          "base_uri": "https://localhost:8080/",
          "height": 246
        }
      },
      "source": [
        "onehot_encoded_data_Train.columns"
      ],
      "execution_count": 0,
      "outputs": [
        {
          "output_type": "execute_result",
          "data": {
            "text/plain": [
              "Index(['Item_Weight', 'Item_Visibility', 'Item_MRP', 'Item_Outlet_Sales',\n",
              "       'Item_Fat_Content_Non-Edible', 'Item_Fat_Content_Regular',\n",
              "       'Outlet_Location_Type_Tier 2', 'Outlet_Location_Type_Tier 3',\n",
              "       'Outlet_Size_1', 'Outlet_Size_2', 'Item_Category_FD',\n",
              "       'Item_Category_NC', 'Outlet_Type_Supermarket Type1',\n",
              "       'Outlet_Type_Supermarket Type2', 'Outlet_Type_Supermarket Type3',\n",
              "       'Item_Type_Breads', 'Item_Type_Breakfast', 'Item_Type_Canned',\n",
              "       'Item_Type_Dairy', 'Item_Type_Frozen Foods',\n",
              "       'Item_Type_Fruits and Vegetables', 'Item_Type_Hard Drinks',\n",
              "       'Item_Type_Health and Hygiene', 'Item_Type_Household', 'Item_Type_Meat',\n",
              "       'Item_Type_Others', 'Item_Type_Seafood', 'Item_Type_Snack Foods',\n",
              "       'Item_Type_Soft Drinks', 'Item_Type_Starchy Foods'],\n",
              "      dtype='object')"
            ]
          },
          "metadata": {
            "tags": []
          },
          "execution_count": 88
        }
      ]
    },
    {
      "cell_type": "markdown",
      "metadata": {
        "colab_type": "text",
        "id": "4pxi8OXpQ37q"
      },
      "source": [
        "### 7. Creating Train and Validation Data   <a id=7>"
      ]
    },
    {
      "cell_type": "markdown",
      "metadata": {
        "colab_type": "text",
        "id": "5e9SN-GYQ37q"
      },
      "source": [
        "In this step we are going to create data models that are capable of predicting the Outlet_Sales. Inorder to create these models first we split the given Train dataset into Train and Validation datasets. Train dataset is the one which have the ItemOutlet_Sales values. We will train the model based on these values to validate the Validation dataset values.\n",
        "\n",
        "\n",
        "In this first we are going to create a basic Linear Regression model."
      ]
    },
    {
      "cell_type": "markdown",
      "metadata": {
        "colab_type": "text",
        "id": "nHidBNRMQ37r"
      },
      "source": [
        "Lets split the training features and label."
      ]
    },
    {
      "cell_type": "code",
      "metadata": {
        "colab_type": "code",
        "id": "w23caG9GQ37s",
        "colab": {}
      },
      "source": [
        "data_Train_Y = onehot_encoded_data_Train['Item_Outlet_Sales']\n",
        "del onehot_encoded_data_Train['Item_Outlet_Sales']\n",
        "data_Train_X = onehot_encoded_data_Train"
      ],
      "execution_count": 0,
      "outputs": []
    },
    {
      "cell_type": "code",
      "metadata": {
        "colab_type": "code",
        "id": "HDmGT5sCQ37t",
        "colab": {}
      },
      "source": [
        "from sklearn.model_selection import train_test_split\n",
        "X_train, X_test, y_train, y_test = train_test_split(data_Train_X, data_Train_Y, random_state=1, test_size=0.3)"
      ],
      "execution_count": 0,
      "outputs": []
    },
    {
      "cell_type": "code",
      "metadata": {
        "colab_type": "code",
        "id": "KPB26hh-Q37u",
        "outputId": "182b4f41-aa80-4050-e575-8314e893ec78",
        "colab": {
          "base_uri": "https://localhost:8080/",
          "height": 87
        }
      },
      "source": [
        "print(X_train.shape)\n",
        "print(y_train.shape)\n",
        "print(X_test.shape)\n",
        "print(y_test.shape)"
      ],
      "execution_count": 0,
      "outputs": [
        {
          "output_type": "stream",
          "text": [
            "(5966, 29)\n",
            "(5966,)\n",
            "(2557, 29)\n",
            "(2557,)\n"
          ],
          "name": "stdout"
        }
      ]
    },
    {
      "cell_type": "markdown",
      "metadata": {
        "colab_type": "text",
        "id": "9x7ySK8pQ37w"
      },
      "source": [
        "Entire dataset has been splitted into Train and Test datasets X_train and X_test respectively. As a first model in creating data models for predicting Item_Outlet_Sales values, I'm going to create a linear regression model."
      ]
    },
    {
      "cell_type": "markdown",
      "metadata": {
        "colab_type": "text",
        "id": "qkVfPPLqQ37w"
      },
      "source": [
        "## 8. Linear Regression Model:  <a id=8>"
      ]
    },
    {
      "cell_type": "code",
      "metadata": {
        "colab_type": "code",
        "id": "BjzpD3LpQ38N",
        "colab": {}
      },
      "source": [
        "# Setting to display all the columns of the dataframe\n",
        "\n",
        "pd.options.display.max_columns=False                "
      ],
      "execution_count": 0,
      "outputs": []
    },
    {
      "cell_type": "code",
      "metadata": {
        "colab_type": "code",
        "id": "5htA-DAwQ38P",
        "outputId": "67593ded-dfd8-45f8-9921-8cdb144d8796",
        "colab": {
          "base_uri": "https://localhost:8080/",
          "height": 34
        }
      },
      "source": [
        "X_train.shape"
      ],
      "execution_count": 0,
      "outputs": [
        {
          "output_type": "execute_result",
          "data": {
            "text/plain": [
              "(5966, 29)"
            ]
          },
          "metadata": {
            "tags": []
          },
          "execution_count": 93
        }
      ]
    },
    {
      "cell_type": "code",
      "metadata": {
        "colab_type": "code",
        "id": "GQWqCKTXQ38V",
        "outputId": "98b8d252-5f3e-4d91-9a24-4b1f0ff18408",
        "scrolled": true,
        "colab": {
          "base_uri": "https://localhost:8080/",
          "height": 34
        }
      },
      "source": [
        "from sklearn import model_selection, metrics                                     # Importing model selection and metrics from sklearn\n",
        "from sklearn.linear_model import LinearRegression                                # Importing LinearRegression from sklearn\n",
        "\n",
        "lin_model = LinearRegression()\n",
        "lin_model.fit(X_train,y_train)                                                   # Fitting the model on X_train and y_train"
      ],
      "execution_count": 0,
      "outputs": [
        {
          "output_type": "execute_result",
          "data": {
            "text/plain": [
              "LinearRegression(copy_X=True, fit_intercept=True, n_jobs=None, normalize=False)"
            ]
          },
          "metadata": {
            "tags": []
          },
          "execution_count": 94
        }
      ]
    },
    {
      "cell_type": "code",
      "metadata": {
        "colab_type": "code",
        "id": "MvaM1dlsQ38c",
        "colab": {}
      },
      "source": [
        "coef1 = pd.DataFrame(lin_model.coef_,index=X_train.columns)                       # Create a dataframe of all the columns and their coefficients                   "
      ],
      "execution_count": 0,
      "outputs": []
    },
    {
      "cell_type": "markdown",
      "metadata": {
        "colab_type": "text",
        "id": "HxfyZPdoQ38g"
      },
      "source": [
        "We can check the values of Co-efficients as "
      ]
    },
    {
      "cell_type": "code",
      "metadata": {
        "colab_type": "code",
        "id": "WgHJRAEyQ38i",
        "outputId": "3a7945d2-ce85-428c-fe15-6181e2896190",
        "scrolled": true,
        "colab": {
          "base_uri": "https://localhost:8080/",
          "height": 906
        }
      },
      "source": [
        "coef1"
      ],
      "execution_count": 0,
      "outputs": [
        {
          "output_type": "execute_result",
          "data": {
            "text/html": [
              "<div>\n",
              "<style scoped>\n",
              "    .dataframe tbody tr th:only-of-type {\n",
              "        vertical-align: middle;\n",
              "    }\n",
              "\n",
              "    .dataframe tbody tr th {\n",
              "        vertical-align: top;\n",
              "    }\n",
              "\n",
              "    .dataframe thead th {\n",
              "        text-align: right;\n",
              "    }\n",
              "</style>\n",
              "<table border=\"1\" class=\"dataframe\">\n",
              "  <thead>\n",
              "    <tr style=\"text-align: right;\">\n",
              "      <th></th>\n",
              "      <th>0</th>\n",
              "    </tr>\n",
              "  </thead>\n",
              "  <tbody>\n",
              "    <tr>\n",
              "      <th>Item_Weight</th>\n",
              "      <td>2.211160</td>\n",
              "    </tr>\n",
              "    <tr>\n",
              "      <th>Item_Visibility</th>\n",
              "      <td>-427.081398</td>\n",
              "    </tr>\n",
              "    <tr>\n",
              "      <th>Item_MRP</th>\n",
              "      <td>15.661847</td>\n",
              "    </tr>\n",
              "    <tr>\n",
              "      <th>Item_Fat_Content_Non-Edible</th>\n",
              "      <td>25.540690</td>\n",
              "    </tr>\n",
              "    <tr>\n",
              "      <th>Item_Fat_Content_Regular</th>\n",
              "      <td>29.937296</td>\n",
              "    </tr>\n",
              "    <tr>\n",
              "      <th>Outlet_Location_Type_Tier 2</th>\n",
              "      <td>134.549382</td>\n",
              "    </tr>\n",
              "    <tr>\n",
              "      <th>Outlet_Location_Type_Tier 3</th>\n",
              "      <td>167.015380</td>\n",
              "    </tr>\n",
              "    <tr>\n",
              "      <th>Outlet_Size_1</th>\n",
              "      <td>75.777997</td>\n",
              "    </tr>\n",
              "    <tr>\n",
              "      <th>Outlet_Size_2</th>\n",
              "      <td>-151.761657</td>\n",
              "    </tr>\n",
              "    <tr>\n",
              "      <th>Item_Category_FD</th>\n",
              "      <td>95.749214</td>\n",
              "    </tr>\n",
              "    <tr>\n",
              "      <th>Item_Category_NC</th>\n",
              "      <td>25.540690</td>\n",
              "    </tr>\n",
              "    <tr>\n",
              "      <th>Outlet_Type_Supermarket Type1</th>\n",
              "      <td>1913.438946</td>\n",
              "    </tr>\n",
              "    <tr>\n",
              "      <th>Outlet_Type_Supermarket Type2</th>\n",
              "      <td>1403.697205</td>\n",
              "    </tr>\n",
              "    <tr>\n",
              "      <th>Outlet_Type_Supermarket Type3</th>\n",
              "      <td>3126.275168</td>\n",
              "    </tr>\n",
              "    <tr>\n",
              "      <th>Item_Type_Breads</th>\n",
              "      <td>48.595288</td>\n",
              "    </tr>\n",
              "    <tr>\n",
              "      <th>Item_Type_Breakfast</th>\n",
              "      <td>26.280956</td>\n",
              "    </tr>\n",
              "    <tr>\n",
              "      <th>Item_Type_Canned</th>\n",
              "      <td>19.830774</td>\n",
              "    </tr>\n",
              "    <tr>\n",
              "      <th>Item_Type_Dairy</th>\n",
              "      <td>-103.076921</td>\n",
              "    </tr>\n",
              "    <tr>\n",
              "      <th>Item_Type_Frozen Foods</th>\n",
              "      <td>-17.652441</td>\n",
              "    </tr>\n",
              "    <tr>\n",
              "      <th>Item_Type_Fruits and Vegetables</th>\n",
              "      <td>34.554978</td>\n",
              "    </tr>\n",
              "    <tr>\n",
              "      <th>Item_Type_Hard Drinks</th>\n",
              "      <td>73.460728</td>\n",
              "    </tr>\n",
              "    <tr>\n",
              "      <th>Item_Type_Health and Hygiene</th>\n",
              "      <td>50.512225</td>\n",
              "    </tr>\n",
              "    <tr>\n",
              "      <th>Item_Type_Household</th>\n",
              "      <td>9.741676</td>\n",
              "    </tr>\n",
              "    <tr>\n",
              "      <th>Item_Type_Meat</th>\n",
              "      <td>10.059595</td>\n",
              "    </tr>\n",
              "    <tr>\n",
              "      <th>Item_Type_Others</th>\n",
              "      <td>-34.713211</td>\n",
              "    </tr>\n",
              "    <tr>\n",
              "      <th>Item_Type_Seafood</th>\n",
              "      <td>339.819948</td>\n",
              "    </tr>\n",
              "    <tr>\n",
              "      <th>Item_Type_Snack Foods</th>\n",
              "      <td>31.056578</td>\n",
              "    </tr>\n",
              "    <tr>\n",
              "      <th>Item_Type_Soft Drinks</th>\n",
              "      <td>-8.045405</td>\n",
              "    </tr>\n",
              "    <tr>\n",
              "      <th>Item_Type_Starchy Foods</th>\n",
              "      <td>36.237898</td>\n",
              "    </tr>\n",
              "  </tbody>\n",
              "</table>\n",
              "</div>"
            ],
            "text/plain": [
              "                                           0\n",
              "Item_Weight                         2.211160\n",
              "Item_Visibility                  -427.081398\n",
              "Item_MRP                           15.661847\n",
              "Item_Fat_Content_Non-Edible        25.540690\n",
              "Item_Fat_Content_Regular           29.937296\n",
              "Outlet_Location_Type_Tier 2       134.549382\n",
              "Outlet_Location_Type_Tier 3       167.015380\n",
              "Outlet_Size_1                      75.777997\n",
              "Outlet_Size_2                    -151.761657\n",
              "Item_Category_FD                   95.749214\n",
              "Item_Category_NC                   25.540690\n",
              "Outlet_Type_Supermarket Type1    1913.438946\n",
              "Outlet_Type_Supermarket Type2    1403.697205\n",
              "Outlet_Type_Supermarket Type3    3126.275168\n",
              "Item_Type_Breads                   48.595288\n",
              "Item_Type_Breakfast                26.280956\n",
              "Item_Type_Canned                   19.830774\n",
              "Item_Type_Dairy                  -103.076921\n",
              "Item_Type_Frozen Foods            -17.652441\n",
              "Item_Type_Fruits and Vegetables    34.554978\n",
              "Item_Type_Hard Drinks              73.460728\n",
              "Item_Type_Health and Hygiene       50.512225\n",
              "Item_Type_Household                 9.741676\n",
              "Item_Type_Meat                     10.059595\n",
              "Item_Type_Others                  -34.713211\n",
              "Item_Type_Seafood                 339.819948\n",
              "Item_Type_Snack Foods              31.056578\n",
              "Item_Type_Soft Drinks              -8.045405\n",
              "Item_Type_Starchy Foods            36.237898"
            ]
          },
          "metadata": {
            "tags": []
          },
          "execution_count": 96
        }
      ]
    },
    {
      "cell_type": "markdown",
      "metadata": {
        "colab_type": "text",
        "id": "brUvaDB9Q38o"
      },
      "source": [
        "#### Intuition from the Co-efficient values:"
      ]
    },
    {
      "cell_type": "markdown",
      "metadata": {
        "colab_type": "text",
        "id": "HASrlCCPQ38p"
      },
      "source": [
        "After looking at the values of Co-efficients, we can see that\n",
        "1. Each item Sales largely depends upon the Store in which we are selling it. \n",
        "2. Location of the outlet influences most of the Item Sales. \n",
        "\n",
        "We should clearly keep in mind that all these variables are inter-connected. We can't really identify how much an individual variable effects the Item_Outlet_Sales. Instead we assume that by keeping all the remaining variables fixed, how much a unit change in one variable effects overall Item_Outlet_Sales. "
      ]
    },
    {
      "cell_type": "code",
      "metadata": {
        "colab_type": "code",
        "id": "lZKP427lQ38p",
        "colab": {}
      },
      "source": [
        "data_train_predictions = lin_model.predict(X_test) "
      ],
      "execution_count": 0,
      "outputs": []
    },
    {
      "cell_type": "code",
      "metadata": {
        "colab_type": "code",
        "id": "_1nTIRgjQ38t",
        "outputId": "215c497c-3efc-4c64-bcce-3f922eabaec3",
        "scrolled": true,
        "colab": {
          "base_uri": "https://localhost:8080/",
          "height": 52
        }
      },
      "source": [
        "# Lets have a look at some of the predictions\n",
        "\n",
        "data_train_predictions[:8]"
      ],
      "execution_count": 0,
      "outputs": [
        {
          "output_type": "execute_result",
          "data": {
            "text/plain": [
              "array([ 626.46312461, 1206.48253714, 3197.06472084, 1461.02970322,\n",
              "        798.65605019, 3315.21599279,  998.26684355, 2359.86866874])"
            ]
          },
          "metadata": {
            "tags": []
          },
          "execution_count": 98
        }
      ]
    },
    {
      "cell_type": "markdown",
      "metadata": {
        "colab_type": "text",
        "id": "Un47Ya9fQ387"
      },
      "source": [
        "We will evaluate the model performance with the RMSE value for the  model. Let's find the RMSE for linear regression model we built"
      ]
    },
    {
      "cell_type": "code",
      "metadata": {
        "colab_type": "code",
        "id": "n8gdClUpQ39B",
        "outputId": "32778421-9db2-4dd7-a255-2addfcaa1854",
        "colab": {
          "base_uri": "https://localhost:8080/",
          "height": 34
        }
      },
      "source": [
        "print(\"RMSE:\",(np.sqrt(metrics.mean_squared_error(y_test, data_train_predictions))))"
      ],
      "execution_count": 0,
      "outputs": [
        {
          "output_type": "stream",
          "text": [
            "RMSE: 1124.5579942705017\n"
          ],
          "name": "stdout"
        }
      ]
    },
    {
      "cell_type": "code",
      "metadata": {
        "colab_type": "code",
        "id": "Y6rERRcdQ39E",
        "outputId": "dc56f3ec-b24c-4ce6-edd1-43c65287e972",
        "colab": {
          "base_uri": "https://localhost:8080/",
          "height": 34
        }
      },
      "source": [
        "lin_model.score(X_test,y_test)"
      ],
      "execution_count": 0,
      "outputs": [
        {
          "output_type": "execute_result",
          "data": {
            "text/plain": [
              "0.5652545101896631"
            ]
          },
          "metadata": {
            "tags": []
          },
          "execution_count": 100
        }
      ]
    },
    {
      "cell_type": "code",
      "metadata": {
        "colab_type": "code",
        "id": "nlZ2sxlEQ39G",
        "outputId": "4e655348-7d87-4077-8390-9b7f331c7bbb",
        "colab": {
          "base_uri": "https://localhost:8080/",
          "height": 34
        }
      },
      "source": [
        "print(metrics.r2_score(y_test,data_train_predictions))"
      ],
      "execution_count": 0,
      "outputs": [
        {
          "output_type": "stream",
          "text": [
            "0.5652545101896631\n"
          ],
          "name": "stdout"
        }
      ]
    },
    {
      "cell_type": "markdown",
      "metadata": {
        "colab_type": "text",
        "id": "Os_Sr3ITQ39I"
      },
      "source": [
        "## 9. XGBoost Regressor   <a id=9>"
      ]
    },
    {
      "cell_type": "code",
      "metadata": {
        "colab_type": "code",
        "id": "IwpiiMPsQ39L",
        "outputId": "2c082e49-f9d7-45e8-dd6c-4bd822d4418c",
        "colab": {
          "base_uri": "https://localhost:8080/",
          "height": 70
        }
      },
      "source": [
        "!pip install xgboost                                       # Install XGBoost"
      ],
      "execution_count": 0,
      "outputs": [
        {
          "output_type": "stream",
          "text": [
            "Requirement already satisfied: xgboost in /usr/local/lib/python3.6/dist-packages (0.90)\n",
            "Requirement already satisfied: numpy in /usr/local/lib/python3.6/dist-packages (from xgboost) (1.16.4)\n",
            "Requirement already satisfied: scipy in /usr/local/lib/python3.6/dist-packages (from xgboost) (1.3.1)\n"
          ],
          "name": "stdout"
        }
      ]
    },
    {
      "cell_type": "code",
      "metadata": {
        "colab_type": "code",
        "id": "y6GZnZeSQ39M",
        "colab": {}
      },
      "source": [
        "from xgboost.sklearn import XGBRegressor                                          # Importing the XGBoost Regressor"
      ],
      "execution_count": 0,
      "outputs": []
    },
    {
      "cell_type": "code",
      "metadata": {
        "colab_type": "code",
        "id": "n9cFslKXQ39N",
        "outputId": "221ba290-fcd1-456e-bc47-e40b00accd21",
        "colab": {
          "base_uri": "https://localhost:8080/",
          "height": 158
        }
      },
      "source": [
        "xgb = XGBRegressor(n_estimators=100,                                              # Number of trees\n",
        "                   learning_rate=0.08,                                            # Learning Rate\n",
        "                   gamma=0,                                                       # Minimum reduction in loss(entropy) to make further branches\n",
        "                   subsample=0.75,                                                # Subsample ratio of the training instance\n",
        "                   colsample_bytree=1,                                            # Subsample ratio of columns when constructing each tree\n",
        "                   max_depth=7)                                                   # Max depth of each learner (Decision Tree)\n",
        "xgb.fit(X_train.values,y_train.values)                                            # Fit the model  "
      ],
      "execution_count": 0,
      "outputs": [
        {
          "output_type": "stream",
          "text": [
            "[10:13:34] WARNING: /workspace/src/objective/regression_obj.cu:152: reg:linear is now deprecated in favor of reg:squarederror.\n"
          ],
          "name": "stdout"
        },
        {
          "output_type": "execute_result",
          "data": {
            "text/plain": [
              "XGBRegressor(base_score=0.5, booster='gbtree', colsample_bylevel=1,\n",
              "             colsample_bynode=1, colsample_bytree=1, gamma=0,\n",
              "             importance_type='gain', learning_rate=0.08, max_delta_step=0,\n",
              "             max_depth=7, min_child_weight=1, missing=None, n_estimators=100,\n",
              "             n_jobs=1, nthread=None, objective='reg:linear', random_state=0,\n",
              "             reg_alpha=0, reg_lambda=1, scale_pos_weight=1, seed=None,\n",
              "             silent=None, subsample=0.75, verbosity=1)"
            ]
          },
          "metadata": {
            "tags": []
          },
          "execution_count": 104
        }
      ]
    },
    {
      "cell_type": "code",
      "metadata": {
        "colab_type": "code",
        "id": "9Vz8xoZTQ39P",
        "colab": {}
      },
      "source": [
        "y_pred = xgb.predict(X_test.values)                                              # Prediction of XGBoost Regressor"
      ],
      "execution_count": 0,
      "outputs": []
    },
    {
      "cell_type": "code",
      "metadata": {
        "colab_type": "code",
        "id": "UsyZDztkQ39R",
        "outputId": "8dbf1780-6ca8-4dbf-8ee4-27cc6ee371a2",
        "colab": {
          "base_uri": "https://localhost:8080/",
          "height": 52
        }
      },
      "source": [
        "print('RMSE \\n',np.sqrt(metrics.mean_squared_error(y_test,y_pred)))              # Measuring the error"
      ],
      "execution_count": 0,
      "outputs": [
        {
          "output_type": "stream",
          "text": [
            "RMSE \n",
            " 1122.3221645456395\n"
          ],
          "name": "stdout"
        }
      ]
    },
    {
      "cell_type": "code",
      "metadata": {
        "colab_type": "code",
        "id": "n8qNTQ-oQ39V",
        "outputId": "bbb6aafb-c412-4598-a790-5339e5b198af",
        "colab": {
          "base_uri": "https://localhost:8080/",
          "height": 34
        }
      },
      "source": [
        "print(metrics.r2_score(y_test,y_pred))                                           # Checking the R2 score."
      ],
      "execution_count": 0,
      "outputs": [
        {
          "output_type": "stream",
          "text": [
            "0.5669815009165937\n"
          ],
          "name": "stdout"
        }
      ]
    },
    {
      "cell_type": "markdown",
      "metadata": {
        "colab_type": "text",
        "id": "FCrLIvUQrege"
      },
      "source": [
        "**Observation** : The RMSE of the model has reduced slightly from 1124 to 1116.  <br>\n",
        "Lets use Grid Search to find the best hyperparameters for the XGBoost model."
      ]
    },
    {
      "cell_type": "markdown",
      "metadata": {
        "colab_type": "text",
        "id": "8FrMAmKdQ39X"
      },
      "source": [
        "## 9.1 XGBoost Regressor with Grid Search CV   <a id=9.1>"
      ]
    },
    {
      "cell_type": "code",
      "metadata": {
        "colab_type": "code",
        "id": "LnAwrR8DQ39X",
        "colab": {}
      },
      "source": [
        "from sklearn.model_selection import GridSearchCV                                  # Importing Grid Search"
      ],
      "execution_count": 0,
      "outputs": []
    },
    {
      "cell_type": "code",
      "metadata": {
        "colab_type": "code",
        "id": "y98jq8_JQ39Y",
        "colab": {}
      },
      "source": [
        "# param_grid is a dictionary containing different parameters for XGBoost\n",
        "\n",
        "param_grid = {\"max_depth\": [3,5,10,15],\n",
        "              \"n_estimators\": [50,100,200,300] , \n",
        "              \"gamma\": [0.1, 0.2, 0,3], \n",
        "              \"learning_rate\": [0.08],\n",
        "              \"min_child_weight\": [5], \n",
        "              \"colsample_bytree\": [0.8], \n",
        "              \"subsample\": [0.85]} \n",
        "\n",
        "# Performing Grid Search on xgb regressor and param_grid parameters\n",
        "\n",
        "grid_search = GridSearchCV(xgb, \n",
        "                           param_grid=param_grid,\n",
        "                           cv = 2,\n",
        "                           n_jobs=-1,\n",
        "                           scoring='neg_mean_squared_error',\n",
        "                           verbose=2)"
      ],
      "execution_count": 0,
      "outputs": []
    },
    {
      "cell_type": "code",
      "metadata": {
        "colab_type": "code",
        "id": "0irjc5_4Q39Z",
        "outputId": "3e5c801f-d1d8-46b7-9b84-20daf47bee53",
        "colab": {
          "base_uri": "https://localhost:8080/",
          "height": 439
        }
      },
      "source": [
        "grid_search.fit(X_train.values,y_train.values)"
      ],
      "execution_count": 0,
      "outputs": [
        {
          "output_type": "stream",
          "text": [
            "Fitting 2 folds for each of 64 candidates, totalling 128 fits\n"
          ],
          "name": "stdout"
        },
        {
          "output_type": "stream",
          "text": [
            "[Parallel(n_jobs=-1)]: Using backend LokyBackend with 2 concurrent workers.\n",
            "[Parallel(n_jobs=-1)]: Done  37 tasks      | elapsed:   30.3s\n",
            "[Parallel(n_jobs=-1)]: Done 128 out of 128 | elapsed:  1.8min finished\n"
          ],
          "name": "stderr"
        },
        {
          "output_type": "stream",
          "text": [
            "[10:15:25] WARNING: /workspace/src/objective/regression_obj.cu:152: reg:linear is now deprecated in favor of reg:squarederror.\n"
          ],
          "name": "stdout"
        },
        {
          "output_type": "execute_result",
          "data": {
            "text/plain": [
              "GridSearchCV(cv=2, error_score='raise-deprecating',\n",
              "             estimator=XGBRegressor(base_score=0.5, booster='gbtree',\n",
              "                                    colsample_bylevel=1, colsample_bynode=1,\n",
              "                                    colsample_bytree=1, gamma=0,\n",
              "                                    importance_type='gain', learning_rate=0.08,\n",
              "                                    max_delta_step=0, max_depth=7,\n",
              "                                    min_child_weight=1, missing=None,\n",
              "                                    n_estimators=100, n_jobs=1, nthread=None,\n",
              "                                    objective='reg:linear', random_state=0...\n",
              "                                    scale_pos_weight=1, seed=None, silent=None,\n",
              "                                    subsample=0.75, verbosity=1),\n",
              "             iid='warn', n_jobs=-1,\n",
              "             param_grid={'colsample_bytree': [0.8], 'gamma': [0.1, 0.2, 0, 3],\n",
              "                         'learning_rate': [0.08], 'max_depth': [3, 5, 10, 15],\n",
              "                         'min_child_weight': [5],\n",
              "                         'n_estimators': [50, 100, 200, 300],\n",
              "                         'subsample': [0.85]},\n",
              "             pre_dispatch='2*n_jobs', refit=True, return_train_score=False,\n",
              "             scoring='neg_mean_squared_error', verbose=2)"
            ]
          },
          "metadata": {
            "tags": []
          },
          "execution_count": 110
        }
      ]
    },
    {
      "cell_type": "markdown",
      "metadata": {
        "colab_type": "text",
        "id": "Pe3YKLVGQ39a"
      },
      "source": [
        "Displaying the best parameters for XGBoost"
      ]
    },
    {
      "cell_type": "code",
      "metadata": {
        "colab_type": "code",
        "id": "Kr1wkEddQ39a",
        "outputId": "b9a2d545-decc-4326-fd2b-7fd7b3a21894",
        "colab": {
          "base_uri": "https://localhost:8080/",
          "height": 54
        }
      },
      "source": [
        "print(grid_search.best_params_)         "
      ],
      "execution_count": 0,
      "outputs": [
        {
          "output_type": "stream",
          "text": [
            "{'colsample_bytree': 0.8, 'gamma': 0.1, 'learning_rate': 0.08, 'max_depth': 3, 'min_child_weight': 5, 'n_estimators': 100, 'subsample': 0.85}\n"
          ],
          "name": "stdout"
        }
      ]
    },
    {
      "cell_type": "markdown",
      "metadata": {
        "colab_type": "text",
        "id": "L6tfUORFr__H"
      },
      "source": [
        "Lets make the predictions using the best hyperparameters of XGBoost model."
      ]
    },
    {
      "cell_type": "code",
      "metadata": {
        "colab_type": "code",
        "id": "d96OxiFaQ39c",
        "colab": {}
      },
      "source": [
        "y_pred = grid_search.predict(X_test.values)"
      ],
      "execution_count": 0,
      "outputs": []
    },
    {
      "cell_type": "code",
      "metadata": {
        "colab_type": "code",
        "id": "wkOjcbvTQ39d",
        "outputId": "46c69afe-d3e9-40d0-fa88-3d0ea764bc8d",
        "colab": {
          "base_uri": "https://localhost:8080/",
          "height": 52
        }
      },
      "source": [
        "print('RMSE \\n',np.sqrt(metrics.mean_squared_error(y_test,y_pred)))    # Measuring the error"
      ],
      "execution_count": 0,
      "outputs": [
        {
          "output_type": "stream",
          "text": [
            "RMSE \n",
            " 1077.8327448702942\n"
          ],
          "name": "stdout"
        }
      ]
    },
    {
      "cell_type": "code",
      "metadata": {
        "colab_type": "code",
        "id": "hoC0bYzsQ39e",
        "outputId": "df8d30d8-1248-47a9-b416-2538135e301d",
        "colab": {
          "base_uri": "https://localhost:8080/",
          "height": 34
        }
      },
      "source": [
        "print(metrics.r2_score(y_test,y_pred))                  # Checking the R2 score."
      ],
      "execution_count": 0,
      "outputs": [
        {
          "output_type": "stream",
          "text": [
            "0.600631214455523\n"
          ],
          "name": "stdout"
        }
      ]
    },
    {
      "cell_type": "markdown",
      "metadata": {
        "colab_type": "text",
        "id": "GW0oSqpysLWt"
      },
      "source": [
        "**Observation**: The RMSE of the model has reduced further to 1075 after tuning the XGBoost. "
      ]
    },
    {
      "cell_type": "markdown",
      "metadata": {
        "colab_type": "text",
        "id": "4WcNOTAfQ39h"
      },
      "source": [
        "## 10. Model Evaluation   <a id=10>"
      ]
    },
    {
      "cell_type": "markdown",
      "metadata": {
        "colab_type": "text",
        "id": "PjE686IFQ39h"
      },
      "source": [
        "In this phase of the project we're going to evaluate the models that we've built so far.\n",
        "We will compare the RMSE obtained from different models."
      ]
    },
    {
      "cell_type": "markdown",
      "metadata": {
        "colab_type": "text",
        "id": "5nd8z2CaQ39h"
      },
      "source": [
        "RMSE for Linear Regression - 1124   <br>\n",
        "RMSE for XGBoost - 1116   <br>\n",
        "RMSE for XGBoost with GridSearchCV - 1075\n",
        "\n",
        "\n",
        "XGBoost with GridSearchCV performed the best and we will use it to make predictions from the test data."
      ]
    },
    {
      "cell_type": "markdown",
      "metadata": {
        "colab_type": "text",
        "collapsed": true,
        "id": "KEy8KZbrQ39j"
      },
      "source": [
        "Let's glue these Item_Outlet_Sales values to our test dataset and create a csv file."
      ]
    },
    {
      "cell_type": "markdown",
      "metadata": {
        "colab_type": "text",
        "id": "d4pHSNoDsgSv"
      },
      "source": [
        "**Before make predictions on the Test Data, we need to preprocess the data in the same steps as the Train data**"
      ]
    },
    {
      "cell_type": "code",
      "metadata": {
        "colab_type": "code",
        "id": "h36Jc-ikQ39j",
        "outputId": "2435a886-6346-4422-aae0-dc45ff7cb081",
        "colab": {
          "base_uri": "https://localhost:8080/",
          "height": 122
        }
      },
      "source": [
        "print(data_Test.columns)                        \n",
        "data_Test.shape"
      ],
      "execution_count": 0,
      "outputs": [
        {
          "output_type": "stream",
          "text": [
            "Index(['index', 'Item_Identifier', 'Item_Weight', 'Item_Fat_Content',\n",
            "       'Item_Visibility', 'Item_Type', 'Item_MRP', 'Outlet_Identifier',\n",
            "       'Outlet_Establishment_Year', 'Outlet_Size', 'Outlet_Location_Type',\n",
            "       'Outlet_Type', 'Source', 'Item_Category'],\n",
            "      dtype='object')\n"
          ],
          "name": "stdout"
        },
        {
          "output_type": "execute_result",
          "data": {
            "text/plain": [
              "(5681, 14)"
            ]
          },
          "metadata": {
            "tags": []
          },
          "execution_count": 115
        }
      ]
    },
    {
      "cell_type": "code",
      "metadata": {
        "colab_type": "code",
        "id": "S3GK1mt6Q39l",
        "outputId": "b6f0110c-0995-4092-d807-3ce7ce8bde6b",
        "colab": {
          "base_uri": "https://localhost:8080/",
          "height": 105
        }
      },
      "source": [
        "print(data_Train.columns)\n",
        "data_Train.shape"
      ],
      "execution_count": 0,
      "outputs": [
        {
          "output_type": "stream",
          "text": [
            "Index(['Item_Weight', 'Item_Fat_Content', 'Item_Visibility', 'Item_Type',\n",
            "       'Item_MRP', 'Outlet_Size', 'Outlet_Location_Type', 'Outlet_Type',\n",
            "       'Item_Outlet_Sales', 'Item_Category'],\n",
            "      dtype='object')\n"
          ],
          "name": "stdout"
        },
        {
          "output_type": "execute_result",
          "data": {
            "text/plain": [
              "(8523, 10)"
            ]
          },
          "metadata": {
            "tags": []
          },
          "execution_count": 116
        }
      ]
    },
    {
      "cell_type": "markdown",
      "metadata": {
        "colab_type": "text",
        "id": "DZkklbV_Q39p"
      },
      "source": [
        "Lets drop some rows so that both the Train and Test have equal size."
      ]
    },
    {
      "cell_type": "code",
      "metadata": {
        "colab_type": "code",
        "id": "amCWEbI7Q39p",
        "colab": {}
      },
      "source": [
        "data_Test.drop(['index','Item_Identifier','Outlet_Identifier','Source','Outlet_Establishment_Year'], axis=1, inplace=True)"
      ],
      "execution_count": 0,
      "outputs": []
    },
    {
      "cell_type": "code",
      "metadata": {
        "colab_type": "code",
        "id": "eObxEa3NQ39q",
        "colab": {}
      },
      "source": [
        "data_Train.drop(['Item_Outlet_Sales'], axis=1, inplace=True)"
      ],
      "execution_count": 0,
      "outputs": []
    },
    {
      "cell_type": "code",
      "metadata": {
        "colab_type": "code",
        "id": "5PJ6rdkRQ39r",
        "colab": {}
      },
      "source": [
        "# Join train and test\n",
        "\n",
        "data = pd.concat([data_Train, data_Test])"
      ],
      "execution_count": 0,
      "outputs": []
    },
    {
      "cell_type": "code",
      "metadata": {
        "colab_type": "code",
        "id": "JRtKTeyUQ39r",
        "colab": {}
      },
      "source": [
        "# ALl categorical data\n",
        "\n",
        "categorical_cols=data[var_mod]"
      ],
      "execution_count": 0,
      "outputs": []
    },
    {
      "cell_type": "code",
      "metadata": {
        "colab_type": "code",
        "id": "9YVF5OMXQ39t",
        "outputId": "7faa32f5-a7ae-47fd-9c6a-c8eb92cefa80",
        "colab": {
          "base_uri": "https://localhost:8080/",
          "height": 122
        }
      },
      "source": [
        "# Lets convert 'Outlet_Size' to string data type\n",
        "\n",
        "categorical_cols['Outlet_Size']=categorical_cols['Outlet_Size'].astype(str)"
      ],
      "execution_count": 0,
      "outputs": [
        {
          "output_type": "stream",
          "text": [
            "/usr/local/lib/python3.6/dist-packages/ipykernel_launcher.py:2: SettingWithCopyWarning: \n",
            "A value is trying to be set on a copy of a slice from a DataFrame.\n",
            "Try using .loc[row_indexer,col_indexer] = value instead\n",
            "\n",
            "See the caveats in the documentation: http://pandas.pydata.org/pandas-docs/stable/indexing.html#indexing-view-versus-copy\n",
            "  \n"
          ],
          "name": "stderr"
        }
      ]
    },
    {
      "cell_type": "code",
      "metadata": {
        "colab_type": "code",
        "id": "zoAr82nJQ39x",
        "outputId": "7558e18c-3d8f-4d5c-cb34-f8edf0b7e360",
        "colab": {
          "base_uri": "https://localhost:8080/",
          "height": 34
        }
      },
      "source": [
        "# Get dummy values for all categorical data\n",
        "\n",
        "dummy_encoded_data = pd.get_dummies(categorical_cols, drop_first = True)\n",
        "dummy_encoded_data.shape"
      ],
      "execution_count": 0,
      "outputs": [
        {
          "output_type": "execute_result",
          "data": {
            "text/plain": [
              "(14204, 26)"
            ]
          },
          "metadata": {
            "tags": []
          },
          "execution_count": 122
        }
      ]
    },
    {
      "cell_type": "code",
      "metadata": {
        "colab_type": "code",
        "id": "eyiPeex_Q39z",
        "outputId": "c81a669e-7b68-4a9b-a03b-2ce058f6d710",
        "colab": {
          "base_uri": "https://localhost:8080/",
          "height": 34
        }
      },
      "source": [
        "# Merge dummy encoded data with original data\n",
        "\n",
        "one_hot_encoded_data = pd.concat([dummy_encoded_data, data],1)\n",
        "one_hot_encoded_data.shape"
      ],
      "execution_count": 0,
      "outputs": [
        {
          "output_type": "execute_result",
          "data": {
            "text/plain": [
              "(14204, 35)"
            ]
          },
          "metadata": {
            "tags": []
          },
          "execution_count": 123
        }
      ]
    },
    {
      "cell_type": "code",
      "metadata": {
        "colab_type": "code",
        "id": "hzbcc5ylQ392",
        "outputId": "020af2c6-2ac3-41b3-c889-ef893b33166f",
        "colab": {
          "base_uri": "https://localhost:8080/",
          "height": 34
        }
      },
      "source": [
        "# Remove all categorical data as we now have them dummified\n",
        "\n",
        "one_hot_encoded_data.drop(categorical_cols,1,inplace=True)\n",
        "one_hot_encoded_data.shape"
      ],
      "execution_count": 0,
      "outputs": [
        {
          "output_type": "execute_result",
          "data": {
            "text/plain": [
              "(14204, 29)"
            ]
          },
          "metadata": {
            "tags": []
          },
          "execution_count": 124
        }
      ]
    },
    {
      "cell_type": "code",
      "metadata": {
        "colab_type": "code",
        "id": "1nTwb4VbQ394",
        "colab": {}
      },
      "source": [
        "# Extract the test data\n",
        "\n",
        "one_hot_encoded_Test_data = one_hot_encoded_data[-5681:]"
      ],
      "execution_count": 0,
      "outputs": []
    },
    {
      "cell_type": "code",
      "metadata": {
        "colab_type": "code",
        "id": "Q3cnN-C0Q397",
        "colab": {}
      },
      "source": [
        "# Save it to a numpy array before model prediction\n",
        "\n",
        "X_test = one_hot_encoded_Test_data.values"
      ],
      "execution_count": 0,
      "outputs": []
    },
    {
      "cell_type": "markdown",
      "metadata": {
        "colab_type": "text",
        "id": "RibDrZtAs5EG"
      },
      "source": [
        "Lets check the shape one last time before making the predictions."
      ]
    },
    {
      "cell_type": "code",
      "metadata": {
        "colab_type": "code",
        "id": "RcS5hwt4Q398",
        "outputId": "8f3b6db5-5709-4caf-fae3-2b469ae75aa7",
        "colab": {
          "base_uri": "https://localhost:8080/",
          "height": 34
        }
      },
      "source": [
        "X_test.shape"
      ],
      "execution_count": 0,
      "outputs": [
        {
          "output_type": "execute_result",
          "data": {
            "text/plain": [
              "(5681, 29)"
            ]
          },
          "metadata": {
            "tags": []
          },
          "execution_count": 127
        }
      ]
    },
    {
      "cell_type": "code",
      "metadata": {
        "colab_type": "code",
        "id": "rOuC4MH4Q39-",
        "outputId": "8606ce83-fdad-49f8-9aa7-2011a8c18a75",
        "colab": {
          "base_uri": "https://localhost:8080/",
          "height": 34
        }
      },
      "source": [
        "X_train.shape"
      ],
      "execution_count": 0,
      "outputs": [
        {
          "output_type": "execute_result",
          "data": {
            "text/plain": [
              "(5966, 29)"
            ]
          },
          "metadata": {
            "tags": []
          },
          "execution_count": 128
        }
      ]
    },
    {
      "cell_type": "markdown",
      "metadata": {
        "colab_type": "text",
        "id": "CMObHcHDQ3-A"
      },
      "source": [
        "Make predictions on the test data using XGBoost with GridSearchCV."
      ]
    },
    {
      "cell_type": "code",
      "metadata": {
        "colab_type": "code",
        "id": "hRNTQTpdQ3-A",
        "colab": {}
      },
      "source": [
        "y_test_predict=grid_search.predict(X_test)   "
      ],
      "execution_count": 0,
      "outputs": []
    },
    {
      "cell_type": "code",
      "metadata": {
        "colab_type": "code",
        "id": "qd8oiKjhQ3-B",
        "outputId": "c4096c36-c476-48ee-fb0b-f348b2057e8a",
        "colab": {
          "base_uri": "https://localhost:8080/",
          "height": 34
        }
      },
      "source": [
        "y_test_predict.shape"
      ],
      "execution_count": 0,
      "outputs": [
        {
          "output_type": "execute_result",
          "data": {
            "text/plain": [
              "(5681,)"
            ]
          },
          "metadata": {
            "tags": []
          },
          "execution_count": 130
        }
      ]
    },
    {
      "cell_type": "code",
      "metadata": {
        "colab_type": "code",
        "id": "BcSnr_NhQ3-C",
        "colab": {}
      },
      "source": [
        "data_Test['Item_Outlet_Sales']=y_test_predict"
      ],
      "execution_count": 0,
      "outputs": []
    },
    {
      "cell_type": "markdown",
      "metadata": {
        "colab_type": "text",
        "id": "pN5hkPJctGWO"
      },
      "source": [
        "Now lets create a CSV file with the predicted output."
      ]
    },
    {
      "cell_type": "code",
      "metadata": {
        "colab_type": "code",
        "id": "hS7Ll3bAQ3-D",
        "colab": {}
      },
      "source": [
        "data_Test.to_csv(\"Retail_Data_Output_File.csv\")"
      ],
      "execution_count": 0,
      "outputs": []
    },
    {
      "cell_type": "code",
      "metadata": {
        "id": "NWGyVEidnXcN",
        "colab_type": "code",
        "colab": {}
      },
      "source": [
        "from google.colab import files\n",
        "\n",
        "files.download(\"Retail_Data_Output_File.csv\")"
      ],
      "execution_count": 0,
      "outputs": []
    },
    {
      "cell_type": "code",
      "metadata": {
        "id": "yDVTW7O_nbNB",
        "colab_type": "code",
        "colab": {}
      },
      "source": [
        ""
      ],
      "execution_count": 0,
      "outputs": []
    }
  ]
}